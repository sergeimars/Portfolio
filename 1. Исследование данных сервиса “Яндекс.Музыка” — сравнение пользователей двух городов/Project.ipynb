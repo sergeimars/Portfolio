{
 "cells": [
  {
   "cell_type": "markdown",
   "id": "054841d6",
   "metadata": {
    "deletable": false,
    "editable": false,
    "movable": false,
    "tags": [
     "made by github.com/sergeimars"
    ]
   },
   "source": [
    "<div class=\"pull-right\">\n",
    "    made by\n",
    "    <a href=https://github.com/sergeimars title=sergeimars>sergeimars</a>\n",
    "</div>"
   ]
  },
  {
   "cell_type": "markdown",
   "id": "ae7a67ea",
   "metadata": {
    "deletable": false,
    "editable": false,
    "movable": false,
    "tags": [
     "made by github.com/sergeimars"
    ]
   },
   "source": [
    "# Анализ музыкальных предпочтений пользователей Яндекс.Музыки"
   ]
  },
  {
   "cell_type": "markdown",
   "id": "03a1fff9",
   "metadata": {
    "deletable": false,
    "editable": false,
    "movable": false,
    "tags": [
     "made by github.com/sergeimars"
    ]
   },
   "source": [
    "Сравнение поведение пользователей Москвы и Петербурга.\n",
    "\n",
    "**Цель исследования** — проверить три гипотезы:\n",
    "1. Активность пользователей зависит от дня недели. Причём в Москве и Петербурге это проявляется по-разному.\n",
    "2. В понедельник утром в Москве преобладают одни жанры, а в Петербурге — другие. Так же и вечером пятницы преобладают разные жанры — в зависимости от города. \n",
    "3. Москва и Петербург предпочитают разные жанры музыки. В Москве чаще слушают поп-музыку, в Петербурге — русский рэп.\n",
    "\n",
    "**Исследование пройдёт в три этапа:**\n",
    " 1. Обзор данных.\n",
    " 2. Предобработка данных.\n",
    " 3. Проверка гипотез.\n",
    "\n"
   ]
  },
  {
   "cell_type": "markdown",
   "id": "88650df2",
   "metadata": {
    "deletable": false,
    "editable": false,
    "movable": false,
    "tags": [
     "made by github.com/sergeimars"
    ]
   },
   "source": [
    "## Обзор данных\n",
    "\n",
    "Составим первое представление о данных Яндекс Музыки.\n",
    "\n",
    "\n"
   ]
  },
  {
   "cell_type": "code",
   "execution_count": 1,
   "id": "717d0662",
   "metadata": {
    "deletable": false,
    "editable": false,
    "movable": false,
    "tags": [
     "made by github.com/sergeimars"
    ]
   },
   "outputs": [],
   "source": [
    "import pandas as pd"
   ]
  },
  {
   "cell_type": "code",
   "execution_count": 2,
   "id": "129b424e",
   "metadata": {
    "deletable": false,
    "editable": false,
    "movable": false,
    "tags": [
     "made by github.com/sergeimars"
    ]
   },
   "outputs": [
    {
     "data": {
      "text/html": [
       "<div>\n",
       "<style scoped>\n",
       "    .dataframe tbody tr th:only-of-type {\n",
       "        vertical-align: middle;\n",
       "    }\n",
       "\n",
       "    .dataframe tbody tr th {\n",
       "        vertical-align: top;\n",
       "    }\n",
       "\n",
       "    .dataframe thead th {\n",
       "        text-align: right;\n",
       "    }\n",
       "</style>\n",
       "<table border=\"1\" class=\"dataframe\">\n",
       "  <thead>\n",
       "    <tr style=\"text-align: right;\">\n",
       "      <th></th>\n",
       "      <th>userID</th>\n",
       "      <th>Track</th>\n",
       "      <th>artist</th>\n",
       "      <th>genre</th>\n",
       "      <th>City</th>\n",
       "      <th>time</th>\n",
       "      <th>Day</th>\n",
       "    </tr>\n",
       "  </thead>\n",
       "  <tbody>\n",
       "    <tr>\n",
       "      <th>0</th>\n",
       "      <td>FFB692EC</td>\n",
       "      <td>Kamigata To Boots</td>\n",
       "      <td>The Mass Missile</td>\n",
       "      <td>rock</td>\n",
       "      <td>Saint-Petersburg</td>\n",
       "      <td>20:28:33</td>\n",
       "      <td>Wednesday</td>\n",
       "    </tr>\n",
       "    <tr>\n",
       "      <th>1</th>\n",
       "      <td>55204538</td>\n",
       "      <td>Delayed Because of Accident</td>\n",
       "      <td>Andreas Rönnberg</td>\n",
       "      <td>rock</td>\n",
       "      <td>Moscow</td>\n",
       "      <td>14:07:09</td>\n",
       "      <td>Friday</td>\n",
       "    </tr>\n",
       "    <tr>\n",
       "      <th>2</th>\n",
       "      <td>20EC38</td>\n",
       "      <td>Funiculì funiculà</td>\n",
       "      <td>Mario Lanza</td>\n",
       "      <td>pop</td>\n",
       "      <td>Saint-Petersburg</td>\n",
       "      <td>20:58:07</td>\n",
       "      <td>Wednesday</td>\n",
       "    </tr>\n",
       "    <tr>\n",
       "      <th>3</th>\n",
       "      <td>A3DD03C9</td>\n",
       "      <td>Dragons in the Sunset</td>\n",
       "      <td>Fire + Ice</td>\n",
       "      <td>folk</td>\n",
       "      <td>Saint-Petersburg</td>\n",
       "      <td>08:37:09</td>\n",
       "      <td>Monday</td>\n",
       "    </tr>\n",
       "    <tr>\n",
       "      <th>4</th>\n",
       "      <td>E2DC1FAE</td>\n",
       "      <td>Soul People</td>\n",
       "      <td>Space Echo</td>\n",
       "      <td>dance</td>\n",
       "      <td>Moscow</td>\n",
       "      <td>08:34:34</td>\n",
       "      <td>Monday</td>\n",
       "    </tr>\n",
       "    <tr>\n",
       "      <th>5</th>\n",
       "      <td>842029A1</td>\n",
       "      <td>Преданная</td>\n",
       "      <td>IMPERVTOR</td>\n",
       "      <td>rusrap</td>\n",
       "      <td>Saint-Petersburg</td>\n",
       "      <td>13:09:41</td>\n",
       "      <td>Friday</td>\n",
       "    </tr>\n",
       "    <tr>\n",
       "      <th>6</th>\n",
       "      <td>4CB90AA5</td>\n",
       "      <td>True</td>\n",
       "      <td>Roman Messer</td>\n",
       "      <td>dance</td>\n",
       "      <td>Moscow</td>\n",
       "      <td>13:00:07</td>\n",
       "      <td>Wednesday</td>\n",
       "    </tr>\n",
       "    <tr>\n",
       "      <th>7</th>\n",
       "      <td>F03E1C1F</td>\n",
       "      <td>Feeling This Way</td>\n",
       "      <td>Polina Griffith</td>\n",
       "      <td>dance</td>\n",
       "      <td>Moscow</td>\n",
       "      <td>20:47:49</td>\n",
       "      <td>Wednesday</td>\n",
       "    </tr>\n",
       "    <tr>\n",
       "      <th>8</th>\n",
       "      <td>8FA1D3BE</td>\n",
       "      <td>И вновь продолжается бой</td>\n",
       "      <td>NaN</td>\n",
       "      <td>ruspop</td>\n",
       "      <td>Moscow</td>\n",
       "      <td>09:17:40</td>\n",
       "      <td>Friday</td>\n",
       "    </tr>\n",
       "    <tr>\n",
       "      <th>9</th>\n",
       "      <td>E772D5C0</td>\n",
       "      <td>Pessimist</td>\n",
       "      <td>NaN</td>\n",
       "      <td>dance</td>\n",
       "      <td>Saint-Petersburg</td>\n",
       "      <td>21:20:49</td>\n",
       "      <td>Wednesday</td>\n",
       "    </tr>\n",
       "  </tbody>\n",
       "</table>\n",
       "</div>"
      ],
      "text/plain": [
       "     userID                        Track            artist   genre  \\\n",
       "0  FFB692EC            Kamigata To Boots  The Mass Missile    rock   \n",
       "1  55204538  Delayed Because of Accident  Andreas Rönnberg    rock   \n",
       "2    20EC38            Funiculì funiculà       Mario Lanza     pop   \n",
       "3  A3DD03C9        Dragons in the Sunset        Fire + Ice    folk   \n",
       "4  E2DC1FAE                  Soul People        Space Echo   dance   \n",
       "5  842029A1                    Преданная         IMPERVTOR  rusrap   \n",
       "6  4CB90AA5                         True      Roman Messer   dance   \n",
       "7  F03E1C1F             Feeling This Way   Polina Griffith   dance   \n",
       "8  8FA1D3BE     И вновь продолжается бой               NaN  ruspop   \n",
       "9  E772D5C0                    Pessimist               NaN   dance   \n",
       "\n",
       "             City        time        Day  \n",
       "0  Saint-Petersburg  20:28:33  Wednesday  \n",
       "1            Moscow  14:07:09     Friday  \n",
       "2  Saint-Petersburg  20:58:07  Wednesday  \n",
       "3  Saint-Petersburg  08:37:09     Monday  \n",
       "4            Moscow  08:34:34     Monday  \n",
       "5  Saint-Petersburg  13:09:41     Friday  \n",
       "6            Moscow  13:00:07  Wednesday  \n",
       "7            Moscow  20:47:49  Wednesday  \n",
       "8            Moscow  09:17:40     Friday  \n",
       "9  Saint-Petersburg  21:20:49  Wednesday  "
      ]
     },
     "execution_count": 2,
     "metadata": {},
     "output_type": "execute_result"
    }
   ],
   "source": [
    "df = pd.read_csv('ym_dataset.csv')\n",
    "df.head(10)"
   ]
  },
  {
   "cell_type": "code",
   "execution_count": 3,
   "id": "59a280b4",
   "metadata": {
    "deletable": false,
    "editable": false,
    "movable": false,
    "tags": [
     "made by github.com/sergeimars"
    ]
   },
   "outputs": [
    {
     "name": "stdout",
     "output_type": "stream",
     "text": [
      "<class 'pandas.core.frame.DataFrame'>\n",
      "RangeIndex: 65079 entries, 0 to 65078\n",
      "Data columns (total 7 columns):\n",
      " #   Column    Non-Null Count  Dtype \n",
      "---  ------    --------------  ----- \n",
      " 0     userID  65079 non-null  object\n",
      " 1   Track     63848 non-null  object\n",
      " 2   artist    57876 non-null  object\n",
      " 3   genre     63881 non-null  object\n",
      " 4     City    65079 non-null  object\n",
      " 5   time      65079 non-null  object\n",
      " 6   Day       65079 non-null  object\n",
      "dtypes: object(7)\n",
      "memory usage: 3.5+ MB\n"
     ]
    }
   ],
   "source": [
    "df.info() "
   ]
  },
  {
   "cell_type": "markdown",
   "id": "f787f175",
   "metadata": {
    "deletable": false,
    "editable": false,
    "movable": false,
    "tags": [
     "made by github.com/sergeimars"
    ]
   },
   "source": [
    "Итак, в таблице семь столбцов. Тип данных во всех столбцах — `object`.\n",
    "\n",
    "Согласно документации к данным:\n",
    "* `userID` — идентификатор пользователя;\n",
    "* `Track` — название трека;  \n",
    "* `artist` — имя исполнителя;\n",
    "* `genre` — название жанра;\n",
    "* `City` — город пользователя;\n",
    "* `time` — время начала прослушивания;\n",
    "* `Day` — день недели.\n",
    "\n",
    "Количество значений в столбцах различается. Значит, в данных есть пропущенные значения."
   ]
  },
  {
   "cell_type": "markdown",
   "id": "459e6425",
   "metadata": {
    "deletable": false,
    "editable": false,
    "movable": false,
    "tags": [
     "made by github.com/sergeimars"
    ]
   },
   "source": [
    "В названиях колонок видны три нарушения стиля:\n",
    "1. Строчные буквы сочетаются с прописными.\n",
    "2. Встречаются пробелы."
   ]
  },
  {
   "cell_type": "markdown",
   "id": "e24d9f06",
   "metadata": {
    "deletable": false,
    "editable": false,
    "movable": false,
    "tags": [
     "made by github.com/sergeimars"
    ]
   },
   "source": [
    "**Выводы**\n",
    "\n",
    "В каждой строке таблицы — данные о прослушанном треке. Часть колонок описывает саму композицию: название, исполнителя и жанр. Остальные данные рассказывают о пользователе: из какого он города, когда он слушал музыку. \n",
    "\n",
    "Предварительно можно утверждать, что, данных достаточно для проверки гипотез. Но встречаются пропуски в данных, а в названиях колонок — расхождения с хорошим стилем.\n",
    "\n",
    "Чтобы двигаться дальше, нужно устранить проблемы в данных."
   ]
  },
  {
   "cell_type": "markdown",
   "id": "9e3e73a4",
   "metadata": {
    "deletable": false,
    "editable": false,
    "movable": false,
    "tags": [
     "made by github.com/sergeimars"
    ]
   },
   "source": [
    "## Предобработка данных\n",
    "Исправим стиль в заголовках столбцов, исключим пропуски. Затем проверим данные на дубликаты."
   ]
  },
  {
   "cell_type": "markdown",
   "id": "82288f1f",
   "metadata": {
    "deletable": false,
    "editable": false,
    "movable": false,
    "tags": [
     "made by github.com/sergeimars"
    ]
   },
   "source": [
    "### Стиль заголовков\n",
    "\n",
    "Выведем на экран названия столбцов:"
   ]
  },
  {
   "cell_type": "code",
   "execution_count": 4,
   "id": "b87412ba",
   "metadata": {
    "deletable": false,
    "editable": false,
    "movable": false,
    "tags": [
     "made by github.com/sergeimars"
    ]
   },
   "outputs": [
    {
     "data": {
      "text/plain": [
       "Index(['  userID', 'Track', 'artist', 'genre', '  City  ', 'time', 'Day'], dtype='object')"
      ]
     },
     "execution_count": 4,
     "metadata": {},
     "output_type": "execute_result"
    }
   ],
   "source": [
    "df.columns"
   ]
  },
  {
   "cell_type": "markdown",
   "id": "5558984e",
   "metadata": {
    "deletable": false,
    "editable": false,
    "movable": false,
    "tags": [
     "made by github.com/sergeimars"
    ]
   },
   "source": [
    "Приведем названия в соответствие с хорошим стилем:\n",
    "* несколько слов в названии запишем в «змеином_регистре»,\n",
    "* все символы сделаем строчными,\n",
    "* устраним пробелы.\n",
    "\n",
    "Для этого переименуем колонки так:\n",
    "* `'  userID'` → `'user_id'`;\n",
    "* `'Track'` → `'track'`;\n",
    "* `'  City  '` → `'city'`;\n",
    "* `'Day'` → `'day'`."
   ]
  },
  {
   "cell_type": "code",
   "execution_count": 5,
   "id": "b6fbaf04",
   "metadata": {
    "deletable": false,
    "editable": false,
    "movable": false,
    "tags": [
     "made by github.com/sergeimars"
    ]
   },
   "outputs": [],
   "source": [
    "df = df.rename(columns={\n",
    "    '  userID':'user_id',\n",
    "    'Track':'track',\n",
    "    '  City  ':'city',\n",
    "    'Day':'day'}) "
   ]
  },
  {
   "cell_type": "markdown",
   "id": "0c6f5d90",
   "metadata": {
    "deletable": false,
    "editable": false,
    "movable": false,
    "tags": [
     "made by github.com/sergeimars"
    ]
   },
   "source": [
    "Проверим результат. Для этого ещё раз выведем на экран названия столбцов:"
   ]
  },
  {
   "cell_type": "code",
   "execution_count": 6,
   "id": "bf10eea1",
   "metadata": {
    "deletable": false,
    "editable": false,
    "movable": false,
    "tags": [
     "made by github.com/sergeimars"
    ]
   },
   "outputs": [
    {
     "data": {
      "text/plain": [
       "Index(['user_id', 'track', 'artist', 'genre', 'city', 'time', 'day'], dtype='object')"
      ]
     },
     "execution_count": 6,
     "metadata": {},
     "output_type": "execute_result"
    }
   ],
   "source": [
    "df.columns"
   ]
  },
  {
   "cell_type": "markdown",
   "id": "5fd70e63",
   "metadata": {
    "deletable": false,
    "editable": false,
    "movable": false,
    "tags": [
     "made by github.com/sergeimars"
    ]
   },
   "source": [
    "### Пропуски значений\n",
    "\n",
    "Сначала посчитаем, сколько в таблице пропущенных значений."
   ]
  },
  {
   "cell_type": "code",
   "execution_count": 7,
   "id": "c9d01542",
   "metadata": {
    "deletable": false,
    "editable": false,
    "movable": false,
    "tags": [
     "made by github.com/sergeimars"
    ]
   },
   "outputs": [
    {
     "data": {
      "text/plain": [
       "user_id       0\n",
       "track      1231\n",
       "artist     7203\n",
       "genre      1198\n",
       "city          0\n",
       "time          0\n",
       "day           0\n",
       "dtype: int64"
      ]
     },
     "execution_count": 7,
     "metadata": {},
     "output_type": "execute_result"
    }
   ],
   "source": [
    "df.isna().sum()"
   ]
  },
  {
   "cell_type": "markdown",
   "id": "d392d89e",
   "metadata": {
    "deletable": false,
    "editable": false,
    "movable": false,
    "tags": [
     "made by github.com/sergeimars"
    ]
   },
   "source": [
    "Не все пропущенные значения влияют на исследование. Так в `track` и `artist` пропуски не важны для нашей работы. Достаточно заменить их явными обозначениями.\n",
    "\n",
    "Но пропуски в `genre` могут помешать сравнению музыкальных вкусов в Москве и Санкт-Петербурге. На практике было бы правильно установить причину пропусков и восстановить данные. Такой возможности у нас нет. Придётся:\n",
    "* заполнить и эти пропуски явными обозначениями,\n",
    "* оценить, насколько они повредят расчётам. "
   ]
  },
  {
   "cell_type": "markdown",
   "id": "e0d6baa1",
   "metadata": {
    "deletable": false,
    "editable": false,
    "movable": false,
    "tags": [
     "made by github.com/sergeimars"
    ]
   },
   "source": [
    "Заменим пропущенные значения в столбцах `track`, `artist` и `genre` на строку `'unknown'`. Для этого создадим список `columns_to_replace`, переберем его элементы циклом `for` и для каждого столбца выполним замену пропущенных значений:"
   ]
  },
  {
   "cell_type": "code",
   "execution_count": 8,
   "id": "ed62a026",
   "metadata": {
    "deletable": false,
    "editable": false,
    "movable": false,
    "tags": [
     "made by github.com/sergeimars"
    ]
   },
   "outputs": [],
   "source": [
    "columns_to_replace = ['track', 'artist', 'genre']\n",
    "for columns_to_replace in df:\n",
    "    df[columns_to_replace] = df[columns_to_replace].fillna('unknown')"
   ]
  },
  {
   "cell_type": "markdown",
   "id": "5a6ebce6",
   "metadata": {
    "deletable": false,
    "editable": false,
    "movable": false,
    "tags": [
     "made by github.com/sergeimars"
    ]
   },
   "source": [
    "Убедимся, что в таблице не осталось пропусков. Для этого ещё раз посчитаем пропущенные значения."
   ]
  },
  {
   "cell_type": "code",
   "execution_count": 9,
   "id": "dcea8065",
   "metadata": {
    "deletable": false,
    "editable": false,
    "movable": false,
    "tags": [
     "made by github.com/sergeimars"
    ]
   },
   "outputs": [
    {
     "data": {
      "text/plain": [
       "user_id    0\n",
       "track      0\n",
       "artist     0\n",
       "genre      0\n",
       "city       0\n",
       "time       0\n",
       "day        0\n",
       "dtype: int64"
      ]
     },
     "execution_count": 9,
     "metadata": {},
     "output_type": "execute_result"
    }
   ],
   "source": [
    "df.isna().sum()"
   ]
  },
  {
   "cell_type": "markdown",
   "id": "3032df75",
   "metadata": {
    "deletable": false,
    "editable": false,
    "movable": false,
    "tags": [
     "made by github.com/sergeimars"
    ]
   },
   "source": [
    "### Дубликаты\n",
    "\n",
    "Посчитаем явные дубликаты в таблице:"
   ]
  },
  {
   "cell_type": "code",
   "execution_count": 10,
   "id": "5c715814",
   "metadata": {
    "deletable": false,
    "editable": false,
    "movable": false,
    "tags": [
     "made by github.com/sergeimars"
    ]
   },
   "outputs": [
    {
     "data": {
      "text/plain": [
       "3826"
      ]
     },
     "execution_count": 10,
     "metadata": {},
     "output_type": "execute_result"
    }
   ],
   "source": [
    "df.duplicated().sum()"
   ]
  },
  {
   "cell_type": "markdown",
   "id": "a14b1f9b",
   "metadata": {
    "deletable": false,
    "editable": false,
    "movable": false,
    "tags": [
     "made by github.com/sergeimars"
    ]
   },
   "source": [
    "Удалим явные дубликаты:"
   ]
  },
  {
   "cell_type": "code",
   "execution_count": 11,
   "id": "ba3383fa",
   "metadata": {
    "deletable": false,
    "editable": false,
    "movable": false,
    "tags": [
     "made by github.com/sergeimars"
    ]
   },
   "outputs": [],
   "source": [
    "df = df.drop_duplicates()"
   ]
  },
  {
   "cell_type": "markdown",
   "id": "46edce20",
   "metadata": {
    "deletable": false,
    "editable": false,
    "movable": false,
    "tags": [
     "made by github.com/sergeimars"
    ]
   },
   "source": [
    "Ещё раз посчитаем явные дубликаты в таблице — убедимся, что полностью от них избавились:"
   ]
  },
  {
   "cell_type": "code",
   "execution_count": 12,
   "id": "1782d427",
   "metadata": {
    "deletable": false,
    "editable": false,
    "movable": false,
    "tags": [
     "made by github.com/sergeimars"
    ]
   },
   "outputs": [
    {
     "data": {
      "text/plain": [
       "0"
      ]
     },
     "execution_count": 12,
     "metadata": {},
     "output_type": "execute_result"
    }
   ],
   "source": [
    "df.duplicated().sum()"
   ]
  },
  {
   "cell_type": "markdown",
   "id": "a4630725",
   "metadata": {
    "deletable": false,
    "editable": false,
    "movable": false,
    "tags": [
     "made by github.com/sergeimars"
    ]
   },
   "source": [
    "Теперь избавимся от неявных дубликатов в колонке `genre`. Например, название одного и того же жанра может быть записано немного по-разному. Такие ошибки тоже повлияют на результат исследования."
   ]
  },
  {
   "cell_type": "markdown",
   "id": "70b91280",
   "metadata": {
    "deletable": false,
    "editable": false,
    "movable": false,
    "tags": [
     "made by github.com/sergeimars"
    ]
   },
   "source": [
    "Выведем на экран список уникальных названий жанров, отсортированный в алфавитном порядке:"
   ]
  },
  {
   "cell_type": "code",
   "execution_count": 13,
   "id": "10b7b1a0",
   "metadata": {
    "deletable": false,
    "editable": false,
    "movable": false,
    "tags": [
     "made by github.com/sergeimars"
    ]
   },
   "outputs": [
    {
     "data": {
      "text/plain": [
       "array(['acid', 'acoustic', 'action', 'adult', 'africa', 'afrikaans',\n",
       "       'alternative', 'alternativepunk', 'ambient', 'americana',\n",
       "       'animated', 'anime', 'arabesk', 'arabic', 'arena',\n",
       "       'argentinetango', 'art', 'audiobook', 'author', 'avantgarde',\n",
       "       'axé', 'baile', 'balkan', 'beats', 'bigroom', 'black', 'bluegrass',\n",
       "       'blues', 'bollywood', 'bossa', 'brazilian', 'breakbeat', 'breaks',\n",
       "       'broadway', 'cantautori', 'cantopop', 'canzone', 'caribbean',\n",
       "       'caucasian', 'celtic', 'chamber', 'chanson', 'children', 'chill',\n",
       "       'chinese', 'choral', 'christian', 'christmas', 'classical',\n",
       "       'classicmetal', 'club', 'colombian', 'comedy', 'conjazz',\n",
       "       'contemporary', 'country', 'cuban', 'dance', 'dancehall',\n",
       "       'dancepop', 'dark', 'death', 'deep', 'deutschrock', 'deutschspr',\n",
       "       'dirty', 'disco', 'dnb', 'documentary', 'downbeat', 'downtempo',\n",
       "       'drum', 'dub', 'dubstep', 'eastern', 'easy', 'electronic',\n",
       "       'electropop', 'emo', 'entehno', 'epicmetal', 'estrada', 'ethnic',\n",
       "       'eurofolk', 'european', 'experimental', 'extrememetal', 'fado',\n",
       "       'fairytail', 'film', 'fitness', 'flamenco', 'folk', 'folklore',\n",
       "       'folkmetal', 'folkrock', 'folktronica', 'forró', 'frankreich',\n",
       "       'französisch', 'french', 'funk', 'future', 'gangsta', 'garage',\n",
       "       'german', 'ghazal', 'gitarre', 'glitch', 'gospel', 'gothic',\n",
       "       'grime', 'grunge', 'gypsy', 'handsup', \"hard'n'heavy\", 'hardcore',\n",
       "       'hardstyle', 'hardtechno', 'hip', 'hip-hop', 'hiphop',\n",
       "       'historisch', 'holiday', 'hop', 'horror', 'house', 'hymn', 'idm',\n",
       "       'independent', 'indian', 'indie', 'indipop', 'industrial',\n",
       "       'inspirational', 'instrumental', 'international', 'irish', 'jam',\n",
       "       'japanese', 'jazz', 'jewish', 'jpop', 'jungle', 'k-pop',\n",
       "       'karadeniz', 'karaoke', 'kayokyoku', 'korean', 'laiko', 'latin',\n",
       "       'latino', 'leftfield', 'local', 'lounge', 'loungeelectronic',\n",
       "       'lovers', 'malaysian', 'mandopop', 'marschmusik', 'meditative',\n",
       "       'mediterranean', 'melodic', 'metal', 'metalcore', 'mexican',\n",
       "       'middle', 'minimal', 'miscellaneous', 'modern', 'mood', 'mpb',\n",
       "       'muslim', 'native', 'neoklassik', 'neue', 'new', 'newage',\n",
       "       'newwave', 'nu', 'nujazz', 'numetal', 'oceania', 'old', 'opera',\n",
       "       'orchestral', 'other', 'piano', 'podcasts', 'pop', 'popdance',\n",
       "       'popelectronic', 'popeurodance', 'poprussian', 'post',\n",
       "       'posthardcore', 'postrock', 'power', 'progmetal', 'progressive',\n",
       "       'psychedelic', 'punjabi', 'punk', 'quebecois', 'ragga', 'ram',\n",
       "       'rancheras', 'rap', 'rave', 'reggae', 'reggaeton', 'regional',\n",
       "       'relax', 'religious', 'retro', 'rhythm', 'rnb', 'rnr', 'rock',\n",
       "       'rockabilly', 'rockalternative', 'rockindie', 'rockother',\n",
       "       'romance', 'roots', 'ruspop', 'rusrap', 'rusrock', 'russian',\n",
       "       'salsa', 'samba', 'scenic', 'schlager', 'self', 'sertanejo',\n",
       "       'shanson', 'shoegazing', 'showtunes', 'singer', 'ska', 'skarock',\n",
       "       'slow', 'smooth', 'soft', 'soul', 'soulful', 'sound', 'soundtrack',\n",
       "       'southern', 'specialty', 'speech', 'spiritual', 'sport',\n",
       "       'stonerrock', 'surf', 'swing', 'synthpop', 'synthrock',\n",
       "       'sängerportrait', 'tango', 'tanzorchester', 'taraftar', 'tatar',\n",
       "       'tech', 'techno', 'teen', 'thrash', 'top', 'traditional',\n",
       "       'tradjazz', 'trance', 'tribal', 'trip', 'triphop', 'tropical',\n",
       "       'türk', 'türkçe', 'ukrrock', 'unknown', 'urban', 'uzbek',\n",
       "       'variété', 'vi', 'videogame', 'vocal', 'western', 'world',\n",
       "       'worldbeat', 'ïîï', 'электроника'], dtype=object)"
      ]
     },
     "execution_count": 13,
     "metadata": {},
     "output_type": "execute_result"
    }
   ],
   "source": [
    "df['genre'].sort_values().unique()"
   ]
  },
  {
   "cell_type": "markdown",
   "id": "0b0821fd",
   "metadata": {
    "deletable": false,
    "editable": false,
    "movable": false,
    "tags": [
     "made by github.com/sergeimars"
    ]
   },
   "source": [
    "Просмотрим список и найдем неявные дубликаты 'hip-hop':"
   ]
  },
  {
   "cell_type": "code",
   "execution_count": 14,
   "id": "990d33d4",
   "metadata": {
    "deletable": false,
    "editable": false,
    "movable": false,
    "tags": [
     "made by github.com/sergeimars"
    ]
   },
   "outputs": [],
   "source": [
    "duplicates = ['hip', 'hip-hop', 'hop'] \n",
    "correct_name = 'hiphop'\n",
    "df['genre'] = df['genre'].replace(duplicates, correct_name)"
   ]
  },
  {
   "cell_type": "markdown",
   "id": "155f17ca",
   "metadata": {
    "deletable": false,
    "editable": false,
    "movable": false,
    "tags": [
     "made by github.com/sergeimars"
    ]
   },
   "source": [
    "Выведем отсортированный список уникальных значений столбца `genre`:"
   ]
  },
  {
   "cell_type": "code",
   "execution_count": 15,
   "id": "2d0838f0",
   "metadata": {
    "deletable": false,
    "editable": false,
    "movable": false,
    "tags": [
     "made by github.com/sergeimars"
    ]
   },
   "outputs": [
    {
     "data": {
      "text/plain": [
       "array(['acid', 'acoustic', 'action', 'adult', 'africa', 'afrikaans',\n",
       "       'alternative', 'alternativepunk', 'ambient', 'americana',\n",
       "       'animated', 'anime', 'arabesk', 'arabic', 'arena',\n",
       "       'argentinetango', 'art', 'audiobook', 'author', 'avantgarde',\n",
       "       'axé', 'baile', 'balkan', 'beats', 'bigroom', 'black', 'bluegrass',\n",
       "       'blues', 'bollywood', 'bossa', 'brazilian', 'breakbeat', 'breaks',\n",
       "       'broadway', 'cantautori', 'cantopop', 'canzone', 'caribbean',\n",
       "       'caucasian', 'celtic', 'chamber', 'chanson', 'children', 'chill',\n",
       "       'chinese', 'choral', 'christian', 'christmas', 'classical',\n",
       "       'classicmetal', 'club', 'colombian', 'comedy', 'conjazz',\n",
       "       'contemporary', 'country', 'cuban', 'dance', 'dancehall',\n",
       "       'dancepop', 'dark', 'death', 'deep', 'deutschrock', 'deutschspr',\n",
       "       'dirty', 'disco', 'dnb', 'documentary', 'downbeat', 'downtempo',\n",
       "       'drum', 'dub', 'dubstep', 'eastern', 'easy', 'electronic',\n",
       "       'electropop', 'emo', 'entehno', 'epicmetal', 'estrada', 'ethnic',\n",
       "       'eurofolk', 'european', 'experimental', 'extrememetal', 'fado',\n",
       "       'fairytail', 'film', 'fitness', 'flamenco', 'folk', 'folklore',\n",
       "       'folkmetal', 'folkrock', 'folktronica', 'forró', 'frankreich',\n",
       "       'französisch', 'french', 'funk', 'future', 'gangsta', 'garage',\n",
       "       'german', 'ghazal', 'gitarre', 'glitch', 'gospel', 'gothic',\n",
       "       'grime', 'grunge', 'gypsy', 'handsup', \"hard'n'heavy\", 'hardcore',\n",
       "       'hardstyle', 'hardtechno', 'hiphop', 'historisch', 'holiday',\n",
       "       'horror', 'house', 'hymn', 'idm', 'independent', 'indian', 'indie',\n",
       "       'indipop', 'industrial', 'inspirational', 'instrumental',\n",
       "       'international', 'irish', 'jam', 'japanese', 'jazz', 'jewish',\n",
       "       'jpop', 'jungle', 'k-pop', 'karadeniz', 'karaoke', 'kayokyoku',\n",
       "       'korean', 'laiko', 'latin', 'latino', 'leftfield', 'local',\n",
       "       'lounge', 'loungeelectronic', 'lovers', 'malaysian', 'mandopop',\n",
       "       'marschmusik', 'meditative', 'mediterranean', 'melodic', 'metal',\n",
       "       'metalcore', 'mexican', 'middle', 'minimal', 'miscellaneous',\n",
       "       'modern', 'mood', 'mpb', 'muslim', 'native', 'neoklassik', 'neue',\n",
       "       'new', 'newage', 'newwave', 'nu', 'nujazz', 'numetal', 'oceania',\n",
       "       'old', 'opera', 'orchestral', 'other', 'piano', 'podcasts', 'pop',\n",
       "       'popdance', 'popelectronic', 'popeurodance', 'poprussian', 'post',\n",
       "       'posthardcore', 'postrock', 'power', 'progmetal', 'progressive',\n",
       "       'psychedelic', 'punjabi', 'punk', 'quebecois', 'ragga', 'ram',\n",
       "       'rancheras', 'rap', 'rave', 'reggae', 'reggaeton', 'regional',\n",
       "       'relax', 'religious', 'retro', 'rhythm', 'rnb', 'rnr', 'rock',\n",
       "       'rockabilly', 'rockalternative', 'rockindie', 'rockother',\n",
       "       'romance', 'roots', 'ruspop', 'rusrap', 'rusrock', 'russian',\n",
       "       'salsa', 'samba', 'scenic', 'schlager', 'self', 'sertanejo',\n",
       "       'shanson', 'shoegazing', 'showtunes', 'singer', 'ska', 'skarock',\n",
       "       'slow', 'smooth', 'soft', 'soul', 'soulful', 'sound', 'soundtrack',\n",
       "       'southern', 'specialty', 'speech', 'spiritual', 'sport',\n",
       "       'stonerrock', 'surf', 'swing', 'synthpop', 'synthrock',\n",
       "       'sängerportrait', 'tango', 'tanzorchester', 'taraftar', 'tatar',\n",
       "       'tech', 'techno', 'teen', 'thrash', 'top', 'traditional',\n",
       "       'tradjazz', 'trance', 'tribal', 'trip', 'triphop', 'tropical',\n",
       "       'türk', 'türkçe', 'ukrrock', 'unknown', 'urban', 'uzbek',\n",
       "       'variété', 'vi', 'videogame', 'vocal', 'western', 'world',\n",
       "       'worldbeat', 'ïîï', 'электроника'], dtype=object)"
      ]
     },
     "execution_count": 15,
     "metadata": {},
     "output_type": "execute_result"
    }
   ],
   "source": [
    "df['genre'].sort_values().unique()"
   ]
  },
  {
   "cell_type": "markdown",
   "id": "e4b678ce",
   "metadata": {
    "deletable": false,
    "editable": false,
    "movable": false,
    "tags": [
     "made by github.com/sergeimars"
    ]
   },
   "source": [
    "**Выводы**\n",
    "\n",
    "Предобработка обнаружила три проблемы в данных:\n",
    "\n",
    "- нарушения в стиле заголовков,\n",
    "- пропущенные значения,\n",
    "- дубликаты — явные и неявные.\n",
    "\n",
    "Мы исправили заголовки, чтобы упростить работу с таблицей. Без дубликатов исследование станет более точным.\n",
    "\n",
    "Пропущенные значения мы заменили на `'unknown'`. Ещё предстоит увидеть, не повредят ли исследованию пропуски в колонке `genre`.\n",
    "\n",
    "Теперь можно перейти к проверке гипотез. "
   ]
  },
  {
   "cell_type": "markdown",
   "id": "8dc466c0",
   "metadata": {
    "deletable": false,
    "editable": false,
    "movable": false,
    "tags": [
     "made by github.com/sergeimars"
    ]
   },
   "source": [
    "## Проверка гипотез"
   ]
  },
  {
   "cell_type": "markdown",
   "id": "ad1fffa3",
   "metadata": {
    "deletable": false,
    "editable": false,
    "movable": false,
    "tags": [
     "made by github.com/sergeimars"
    ]
   },
   "source": [
    "### Сравнение поведения пользователей двух столиц"
   ]
  },
  {
   "cell_type": "markdown",
   "id": "228d8d99",
   "metadata": {
    "deletable": false,
    "editable": false,
    "movable": false,
    "tags": [
     "made by github.com/sergeimars"
    ]
   },
   "source": [
    "Первая гипотеза утверждает, что пользователи по-разному слушают музыку в Москве и Санкт-Петербурге. Проверьте это предположение по данным о трёх днях недели — понедельнике, среде и пятнице. Для этого:\n",
    "\n",
    "* Разделите пользователей Москвы и Санкт-Петербурга\n",
    "* Сравните, сколько треков послушала каждая группа пользователей в понедельник, среду и пятницу.\n"
   ]
  },
  {
   "cell_type": "markdown",
   "id": "c38ad99f",
   "metadata": {
    "deletable": false,
    "editable": false,
    "movable": false,
    "tags": [
     "made by github.com/sergeimars"
    ]
   },
   "source": [
    "Оценим активность пользователей в каждом городе. Сгруппируем данные по городу и посчитаем прослушивания в каждой группе."
   ]
  },
  {
   "cell_type": "code",
   "execution_count": 16,
   "id": "2c099d78",
   "metadata": {
    "deletable": false,
    "editable": false,
    "movable": false,
    "tags": [
     "made by github.com/sergeimars"
    ]
   },
   "outputs": [
    {
     "data": {
      "text/plain": [
       "city\n",
       "Moscow              42741\n",
       "Saint-Petersburg    18512\n",
       "Name: user_id, dtype: int64"
      ]
     },
     "execution_count": 16,
     "metadata": {},
     "output_type": "execute_result"
    }
   ],
   "source": [
    "df.groupby('city')['user_id'].count()"
   ]
  },
  {
   "cell_type": "markdown",
   "id": "a5bb6ace",
   "metadata": {
    "deletable": false,
    "editable": false,
    "movable": false,
    "tags": [
     "made by github.com/sergeimars"
    ]
   },
   "source": [
    "В Москве прослушиваний больше, чем в Петербурге. Из этого не следует, что московские пользователи чаще слушают музыку. Просто самих пользователей в Москве больше.\n",
    "  \n",
    "Теперь сгруппируем данные по дню недели и подсчитаем прослушивания в понедельник, среду и пятницу."
   ]
  },
  {
   "cell_type": "code",
   "execution_count": 17,
   "id": "c3ec9d1a",
   "metadata": {
    "deletable": false,
    "editable": false,
    "movable": false,
    "tags": [
     "made by github.com/sergeimars"
    ]
   },
   "outputs": [
    {
     "data": {
      "text/plain": [
       "day\n",
       "Friday       21840\n",
       "Monday       21354\n",
       "Wednesday    18059\n",
       "Name: user_id, dtype: int64"
      ]
     },
     "execution_count": 17,
     "metadata": {},
     "output_type": "execute_result"
    }
   ],
   "source": [
    "df.groupby('day')['user_id'].count()"
   ]
  },
  {
   "cell_type": "markdown",
   "id": "dfbc1968",
   "metadata": {
    "deletable": false,
    "editable": false,
    "movable": false,
    "tags": [
     "made by github.com/sergeimars"
    ]
   },
   "source": [
    "В среднем пользователи из двух городов менее активны по средам. Но картина может измениться, если рассмотреть каждый город в отдельности."
   ]
  },
  {
   "cell_type": "markdown",
   "id": "2cf7366b",
   "metadata": {
    "deletable": false,
    "editable": false,
    "movable": false,
    "tags": [
     "made by github.com/sergeimars"
    ]
   },
   "source": [
    "Создадим функцию `number_tracks()`, которая посчитает прослушивания для заданного дня и города. Ей понадобятся два параметра:\n",
    "* день недели,\n",
    "* название города.\n",
    "\n",
    "В функции сохраним в переменную строки исходной таблицы, у которых значение:\n",
    "  * в колонке `day` равно параметру `day`,\n",
    "  * в колонке `city` равно параметру `city`.\n",
    "\n",
    "Для этого применим последовательную фильтрацию с логической индексацией.\n",
    "\n",
    "Затем посчитаем значения в столбце `user_id` получившейся таблицы. Результат сохраним в новую переменную. Вернем эту переменную из функции."
   ]
  },
  {
   "cell_type": "code",
   "execution_count": 18,
   "id": "aa5f64aa",
   "metadata": {
    "deletable": false,
    "editable": false,
    "movable": false,
    "tags": [
     "made by github.com/sergeimars"
    ]
   },
   "outputs": [],
   "source": [
    "def number_tracks(day,city):\n",
    "    track_list = df[df['day'] == day]\n",
    "    track_list = track_list[track_list['city'] == city]\n",
    "    track_list_counts = track_list['user_id'].count()\n",
    "    return track_list_counts"
   ]
  },
  {
   "cell_type": "markdown",
   "id": "c458b9b6",
   "metadata": {
    "deletable": false,
    "editable": false,
    "movable": false,
    "tags": [
     "made by github.com/sergeimars"
    ]
   },
   "source": [
    "Вызовем `number_tracks()` меняя значение параметров — так, чтобы получить данные для каждого города в каждый из трёх дней и создадим таблицу, где:\n",
    "- названия колонок — ['city', 'monday', 'wednesday', 'friday'];\n",
    "- данные — результаты, которые вы получили с помощью number_tracks."
   ]
  },
  {
   "cell_type": "code",
   "execution_count": 19,
   "id": "32d4fc1f",
   "metadata": {
    "deletable": false,
    "editable": false,
    "movable": false,
    "tags": [
     "made by github.com/sergeimars"
    ]
   },
   "outputs": [
    {
     "data": {
      "text/html": [
       "<div>\n",
       "<style scoped>\n",
       "    .dataframe tbody tr th:only-of-type {\n",
       "        vertical-align: middle;\n",
       "    }\n",
       "\n",
       "    .dataframe tbody tr th {\n",
       "        vertical-align: top;\n",
       "    }\n",
       "\n",
       "    .dataframe thead th {\n",
       "        text-align: right;\n",
       "    }\n",
       "</style>\n",
       "<table border=\"1\" class=\"dataframe\">\n",
       "  <thead>\n",
       "    <tr style=\"text-align: right;\">\n",
       "      <th></th>\n",
       "      <th>city</th>\n",
       "      <th>monday</th>\n",
       "      <th>wednesday</th>\n",
       "      <th>friday</th>\n",
       "    </tr>\n",
       "  </thead>\n",
       "  <tbody>\n",
       "    <tr>\n",
       "      <th>0</th>\n",
       "      <td>Moscow</td>\n",
       "      <td>15740</td>\n",
       "      <td>11056</td>\n",
       "      <td>15945</td>\n",
       "    </tr>\n",
       "    <tr>\n",
       "      <th>1</th>\n",
       "      <td>Saint-Petersburg</td>\n",
       "      <td>5614</td>\n",
       "      <td>7003</td>\n",
       "      <td>5895</td>\n",
       "    </tr>\n",
       "  </tbody>\n",
       "</table>\n",
       "</div>"
      ],
      "text/plain": [
       "               city  monday  wednesday  friday\n",
       "0            Moscow   15740      11056   15945\n",
       "1  Saint-Petersburg    5614       7003    5895"
      ]
     },
     "execution_count": 19,
     "metadata": {},
     "output_type": "execute_result"
    }
   ],
   "source": [
    "columns = ['city', 'monday', 'wednesday', 'friday'] # Обьявляем список с названиями колонок\n",
    "data_number_tracks = [\n",
    "    [\n",
    "        'Moscow', number_tracks('Monday','Moscow'),\n",
    "        number_tracks('Wednesday','Moscow'),\n",
    "        number_tracks('Friday','Moscow')\n",
    "    ],\n",
    "    ['Saint-Petersburg', number_tracks('Monday','Saint-Petersburg'),\n",
    "     number_tracks('Wednesday','Saint-Petersburg'),\n",
    "     number_tracks('Friday','Saint-Petersburg')\n",
    "    ]\n",
    "]\n",
    "pd.DataFrame(data=data_number_tracks, columns=columns)"
   ]
  },
  {
   "cell_type": "markdown",
   "id": "20faec4a",
   "metadata": {
    "deletable": false,
    "editable": false,
    "movable": false,
    "tags": [
     "made by github.com/sergeimars"
    ]
   },
   "source": [
    "**Выводы**\n",
    "\n",
    "Данные показывают разницу поведения пользователей:\n",
    "\n",
    "- В Москве пик прослушиваний приходится на понедельник и пятницу, а в среду заметен спад.\n",
    "- В Петербурге, наоборот, больше слушают музыку по средам. Активность в понедельник и пятницу здесь почти в равной мере уступает среде.\n",
    "\n",
    "Значит, данные говорят в пользу первой гипотезы."
   ]
  },
  {
   "cell_type": "markdown",
   "id": "20b70981",
   "metadata": {
    "deletable": false,
    "editable": false,
    "movable": false,
    "tags": [
     "made by github.com/sergeimars"
    ]
   },
   "source": [
    "### Музыка в начале и в конце недели"
   ]
  },
  {
   "cell_type": "markdown",
   "id": "1c6d43bc",
   "metadata": {
    "deletable": false,
    "editable": false,
    "movable": false,
    "tags": [
     "made by github.com/sergeimars"
    ]
   },
   "source": [
    "Согласно второй гипотезе, утром в понедельник в Москве преобладают одни жанры, а в Петербурге — другие. Так же и вечером пятницы преобладают разные жанры — в зависимости от города."
   ]
  },
  {
   "cell_type": "markdown",
   "id": "d808b3c9",
   "metadata": {
    "deletable": false,
    "editable": false,
    "movable": false,
    "tags": [
     "made by github.com/sergeimars"
    ]
   },
   "source": [
    "Сохраним таблицы с данными в две переменные:\n",
    "* по Москве — в `moscow_general`;\n",
    "* по Санкт-Петербургу — в `spb_general`."
   ]
  },
  {
   "cell_type": "code",
   "execution_count": 20,
   "id": "1f9bd678",
   "metadata": {
    "deletable": false,
    "editable": false,
    "movable": false,
    "tags": [
     "made by github.com/sergeimars"
    ]
   },
   "outputs": [],
   "source": [
    "moscow_general = df[df['city'] == 'Moscow']"
   ]
  },
  {
   "cell_type": "code",
   "execution_count": 21,
   "id": "db0c2506",
   "metadata": {
    "deletable": false,
    "editable": false,
    "movable": false,
    "tags": [
     "made by github.com/sergeimars"
    ]
   },
   "outputs": [],
   "source": [
    "spb_general = df[df['city'] == 'Saint-Petersburg']"
   ]
  },
  {
   "cell_type": "markdown",
   "id": "4217c010",
   "metadata": {
    "deletable": false,
    "editable": false,
    "movable": false,
    "tags": [
     "made by github.com/sergeimars"
    ]
   },
   "source": [
    "Создадим функцию `genre_weekday()` с четырьмя параметрами:\n",
    "* таблица (датафрейм) с данными,\n",
    "* день недели,\n",
    "* начальная временная метка в формате 'hh:mm', \n",
    "* последняя временная метка в формате 'hh:mm'.\n",
    "\n",
    "Функция вернет информацию о топ-10 жанров тех треков, которые прослушивали в указанный день, в промежутке между двумя отметками времени."
   ]
  },
  {
   "cell_type": "code",
   "execution_count": 22,
   "id": "e9f95bf5",
   "metadata": {
    "deletable": false,
    "editable": false,
    "movable": false,
    "tags": [
     "made by github.com/sergeimars"
    ]
   },
   "outputs": [],
   "source": [
    "def genre_weekday(df, day, time1, time2):\n",
    "    genre_df = df[df['day'] == day] \n",
    "    genre_df = genre_df[genre_df['time'] > time1] \n",
    "    genre_df = genre_df[genre_df['time'] < time2]\n",
    "    genre_df_grouped = genre_df.groupby('genre')['city'].count()\n",
    "    genre_df_sorted = genre_df_grouped.sort_values(ascending=False)\n",
    "    return genre_df_sorted[:10]"
   ]
  },
  {
   "cell_type": "markdown",
   "id": "ab890445",
   "metadata": {
    "deletable": false,
    "editable": false,
    "movable": false,
    "tags": [
     "made by github.com/sergeimars"
    ]
   },
   "source": [
    "Cравним результаты функции `genre_weekday()` для Москвы и Санкт-Петербурга в понедельник утром (с 7:00 до 11:00) и в пятницу вечером (с 17:00 до 23:00):"
   ]
  },
  {
   "cell_type": "code",
   "execution_count": 23,
   "id": "1b823c86",
   "metadata": {
    "deletable": false,
    "editable": false,
    "movable": false,
    "tags": [
     "made by github.com/sergeimars"
    ]
   },
   "outputs": [
    {
     "data": {
      "text/plain": [
       "genre\n",
       "pop            781\n",
       "dance          549\n",
       "electronic     480\n",
       "rock           474\n",
       "hiphop         286\n",
       "ruspop         186\n",
       "world          181\n",
       "rusrap         175\n",
       "alternative    164\n",
       "unknown        161\n",
       "Name: city, dtype: int64"
      ]
     },
     "execution_count": 23,
     "metadata": {},
     "output_type": "execute_result"
    }
   ],
   "source": [
    "genre_weekday(moscow_general, 'Monday', '07:00', '11:00')"
   ]
  },
  {
   "cell_type": "code",
   "execution_count": 24,
   "id": "33304363",
   "metadata": {
    "deletable": false,
    "editable": false,
    "movable": false,
    "tags": [
     "made by github.com/sergeimars"
    ]
   },
   "outputs": [
    {
     "data": {
      "text/plain": [
       "genre\n",
       "pop            218\n",
       "dance          182\n",
       "rock           162\n",
       "electronic     147\n",
       "hiphop          80\n",
       "ruspop          64\n",
       "alternative     58\n",
       "rusrap          55\n",
       "jazz            44\n",
       "classical       40\n",
       "Name: city, dtype: int64"
      ]
     },
     "execution_count": 24,
     "metadata": {},
     "output_type": "execute_result"
    }
   ],
   "source": [
    "genre_weekday(spb_general, 'Monday', '07:00', '11:00')"
   ]
  },
  {
   "cell_type": "code",
   "execution_count": 25,
   "id": "620ba33c",
   "metadata": {
    "deletable": false,
    "editable": false,
    "movable": false,
    "tags": [
     "made by github.com/sergeimars"
    ]
   },
   "outputs": [
    {
     "data": {
      "text/plain": [
       "genre\n",
       "pop            713\n",
       "rock           517\n",
       "dance          495\n",
       "electronic     482\n",
       "hiphop         273\n",
       "world          208\n",
       "ruspop         170\n",
       "alternative    163\n",
       "classical      163\n",
       "rusrap         142\n",
       "Name: city, dtype: int64"
      ]
     },
     "execution_count": 25,
     "metadata": {},
     "output_type": "execute_result"
    }
   ],
   "source": [
    "genre_weekday(moscow_general, 'Friday', '17:00', '23:00')"
   ]
  },
  {
   "cell_type": "code",
   "execution_count": 26,
   "id": "650da82f",
   "metadata": {
    "deletable": false,
    "editable": false,
    "movable": false,
    "tags": [
     "made by github.com/sergeimars"
    ]
   },
   "outputs": [
    {
     "data": {
      "text/plain": [
       "genre\n",
       "pop            256\n",
       "electronic     216\n",
       "rock           216\n",
       "dance          210\n",
       "hiphop          97\n",
       "alternative     63\n",
       "jazz            61\n",
       "classical       60\n",
       "rusrap          59\n",
       "world           54\n",
       "Name: city, dtype: int64"
      ]
     },
     "execution_count": 26,
     "metadata": {},
     "output_type": "execute_result"
    }
   ],
   "source": [
    "genre_weekday(spb_general, 'Friday', '17:00', '23:00')"
   ]
  },
  {
   "cell_type": "markdown",
   "id": "a3d6f025",
   "metadata": {
    "deletable": false,
    "editable": false,
    "movable": false,
    "tags": [
     "made by github.com/sergeimars"
    ]
   },
   "source": [
    "**Выводы**\n",
    "\n",
    "Если сравнить топ-10 жанров в понедельник утром, можно сделать такие выводы:\n",
    "\n",
    "1. В Москве и Петербурге слушают похожую музыку. Единственное отличие — в московский рейтинг вошёл жанр “world”, а в петербургский — джаз и классика.\n",
    "\n",
    "2. В Москве пропущенных значений оказалось так много, что значение `'unknown'` заняло десятое место среди самых популярных жанров. Значит, пропущенные значения занимают существенную долю в данных и угрожают достоверности исследования.\n",
    "\n",
    "Вечер пятницы не меняет эту картину. Некоторые жанры поднимаются немного выше, другие спускаются, но в целом топ-10 остаётся тем же самым.\n",
    "\n",
    "Таким образом, вторая гипотеза подтвердилась лишь частично:\n",
    "* Пользователи слушают похожую музыку в начале недели и в конце.\n",
    "* Разница между Москвой и Петербургом не слишком выражена. В Москве чаще слушают русскую популярную музыку, в Петербурге — джаз.\n",
    "\n",
    "Однако пропуски в данных ставят под сомнение этот результат. В Москве их так много, что рейтинг топ-10 мог бы выглядеть иначе, если бы не утерянные  данные о жанрах."
   ]
  },
  {
   "cell_type": "markdown",
   "id": "62513d7f",
   "metadata": {
    "deletable": false,
    "editable": false,
    "movable": false,
    "tags": [
     "made by github.com/sergeimars"
    ]
   },
   "source": [
    "### Жанровые предпочтения в Москве и Петербурге\n",
    "\n",
    "Гипотеза: Петербург — столица рэпа, музыку этого жанра там слушают чаще, чем в Москве.  А Москва — город контрастов, в котором, тем не менее, преобладает поп-музыка."
   ]
  },
  {
   "cell_type": "markdown",
   "id": "dc5ea3bc",
   "metadata": {
    "deletable": false,
    "editable": false,
    "movable": false,
    "tags": [
     "made by github.com/sergeimars"
    ]
   },
   "source": [
    "Сгруппируем таблицу `moscow_general` по жанру и посчитаем прослушивания треков каждого жанра методом `count()`. Затем отсортируем результат в порядке убывания и сохраним его в таблице `moscow_genres`."
   ]
  },
  {
   "cell_type": "code",
   "execution_count": 27,
   "id": "f67285e7",
   "metadata": {
    "deletable": false,
    "editable": false,
    "movable": false,
    "tags": [
     "made by github.com/sergeimars"
    ]
   },
   "outputs": [],
   "source": [
    "moscow_genres = moscow_general.groupby('genre')['genre'].count().sort_values(ascending=False)"
   ]
  },
  {
   "cell_type": "markdown",
   "id": "95a19745",
   "metadata": {
    "deletable": false,
    "editable": false,
    "movable": false,
    "tags": [
     "made by github.com/sergeimars"
    ]
   },
   "source": [
    "Выведем на экран первые десять строк `moscow_genres`:"
   ]
  },
  {
   "cell_type": "code",
   "execution_count": 28,
   "id": "6344a592",
   "metadata": {
    "deletable": false,
    "editable": false,
    "movable": false,
    "tags": [
     "made by github.com/sergeimars"
    ]
   },
   "outputs": [
    {
     "data": {
      "text/plain": [
       "genre\n",
       "pop            5892\n",
       "dance          4435\n",
       "rock           3965\n",
       "electronic     3786\n",
       "hiphop         2096\n",
       "classical      1616\n",
       "world          1432\n",
       "alternative    1379\n",
       "ruspop         1372\n",
       "rusrap         1161\n",
       "Name: genre, dtype: int64"
      ]
     },
     "execution_count": 28,
     "metadata": {},
     "output_type": "execute_result"
    }
   ],
   "source": [
    "moscow_genres.head(10)"
   ]
  },
  {
   "cell_type": "markdown",
   "id": "41930467",
   "metadata": {
    "deletable": false,
    "editable": false,
    "movable": false,
    "tags": [
     "made by github.com/sergeimars"
    ]
   },
   "source": [
    "Теперь повторим то же и для Петербурга."
   ]
  },
  {
   "cell_type": "code",
   "execution_count": 29,
   "id": "f5272910",
   "metadata": {
    "deletable": false,
    "editable": false,
    "movable": false,
    "tags": [
     "made by github.com/sergeimars"
    ]
   },
   "outputs": [
    {
     "data": {
      "text/plain": [
       "genre\n",
       "pop            2431\n",
       "dance          1932\n",
       "rock           1879\n",
       "electronic     1736\n",
       "hiphop          960\n",
       "alternative     649\n",
       "classical       646\n",
       "rusrap          564\n",
       "ruspop          538\n",
       "world           515\n",
       "Name: user_id, dtype: int64"
      ]
     },
     "execution_count": 29,
     "metadata": {},
     "output_type": "execute_result"
    }
   ],
   "source": [
    "spb_genres = spb_general.groupby('genre')['user_id'].count().sort_values(ascending=False)\n",
    "spb_genres.head(10)"
   ]
  },
  {
   "cell_type": "markdown",
   "id": "bf7f72b6",
   "metadata": {
    "deletable": false,
    "editable": false,
    "movable": false,
    "tags": [
     "made by github.com/sergeimars"
    ]
   },
   "source": [
    "**Выводы**"
   ]
  },
  {
   "cell_type": "markdown",
   "id": "e5c04a04",
   "metadata": {
    "deletable": false,
    "editable": false,
    "movable": false,
    "tags": [
     "made by github.com/sergeimars"
    ]
   },
   "source": [
    "Гипотеза частично подтвердилась:\n",
    "* Поп-музыка — самый популярный жанр в Москве, как и предполагала гипотеза. Более того, в топ-10 жанров встречается близкий жанр — русская популярная музыка.\n",
    "* Вопреки ожиданиям, рэп одинаково популярен в Москве и Петербурге. \n"
   ]
  },
  {
   "cell_type": "markdown",
   "id": "47cc9cd5",
   "metadata": {
    "deletable": false,
    "editable": false,
    "movable": false,
    "tags": [
     "made by github.com/sergeimars"
    ]
   },
   "source": [
    "## Итоги исследования"
   ]
  },
  {
   "cell_type": "markdown",
   "id": "6c1f6828",
   "metadata": {
    "deletable": false,
    "editable": false,
    "movable": false,
    "tags": [
     "made by github.com/sergeimars"
    ]
   },
   "source": [
    "Мы проверили три гипотезы и установили:\n",
    "\n",
    "1. День недели по-разному влияет на активность пользователей в Москве и Петербурге. \n",
    "\n",
    "Первая гипотеза полностью подтвердилась.\n",
    "\n",
    "2. Музыкальные предпочтения не сильно меняются в течение недели — будь то Москва или Петербург. Небольшие различия заметны в начале недели, по понедельникам:\n",
    "* в Москве слушают музыку жанра “world”,\n",
    "* в Петербурге — джаз и классику.\n",
    "\n",
    "Таким образом, вторая гипотеза подтвердилась лишь отчасти. Этот результат мог оказаться иным, если бы не пропуски в данных.\n",
    "\n",
    "3. Во вкусах пользователей Москвы и Петербурга больше общего чем различий. Вопреки ожиданиям, предпочтения жанров в Петербурге напоминают московские.\n",
    "\n",
    "Третья гипотеза не подтвердилась. Если различия в предпочтениях и существуют, на основной массе пользователей они незаметны."
   ]
  }
 ],
 "metadata": {
  "ExecuteTimeLog": [
   {
    "duration": 91,
    "start_time": "2023-04-28T07:50:58.568Z"
   },
   {
    "duration": 7,
    "start_time": "2023-04-28T07:52:05.578Z"
   },
   {
    "duration": 12,
    "start_time": "2023-04-28T07:52:19.119Z"
   },
   {
    "duration": 8,
    "start_time": "2023-04-28T07:52:36.327Z"
   },
   {
    "duration": 584,
    "start_time": "2023-04-28T07:52:45.823Z"
   },
   {
    "duration": 33,
    "start_time": "2023-04-28T07:52:46.411Z"
   },
   {
    "duration": 21,
    "start_time": "2023-04-28T07:52:46.445Z"
   },
   {
    "duration": 25,
    "start_time": "2023-04-28T07:52:46.469Z"
   },
   {
    "duration": 43,
    "start_time": "2023-04-28T07:52:46.503Z"
   },
   {
    "duration": 3,
    "start_time": "2023-04-28T07:52:46.548Z"
   },
   {
    "duration": 24,
    "start_time": "2023-04-28T07:52:46.553Z"
   },
   {
    "duration": 4,
    "start_time": "2023-04-28T07:52:46.579Z"
   },
   {
    "duration": 29,
    "start_time": "2023-04-28T07:52:46.593Z"
   },
   {
    "duration": 5,
    "start_time": "2023-04-28T07:52:46.634Z"
   },
   {
    "duration": 39,
    "start_time": "2023-04-28T07:52:46.641Z"
   },
   {
    "duration": 10,
    "start_time": "2023-04-28T07:52:46.682Z"
   },
   {
    "duration": 4,
    "start_time": "2023-04-28T07:52:46.696Z"
   },
   {
    "duration": 34,
    "start_time": "2023-04-28T07:52:46.702Z"
   },
   {
    "duration": 31,
    "start_time": "2023-04-28T07:52:46.739Z"
   },
   {
    "duration": 30,
    "start_time": "2023-04-28T07:52:46.772Z"
   },
   {
    "duration": 10,
    "start_time": "2023-04-28T07:52:46.812Z"
   },
   {
    "duration": 14,
    "start_time": "2023-04-28T07:52:46.824Z"
   },
   {
    "duration": 6,
    "start_time": "2023-04-28T07:52:46.840Z"
   },
   {
    "duration": 7,
    "start_time": "2023-04-28T07:52:46.847Z"
   },
   {
    "duration": 17,
    "start_time": "2023-04-28T07:52:46.856Z"
   },
   {
    "duration": 24,
    "start_time": "2023-04-28T07:52:46.875Z"
   },
   {
    "duration": 12,
    "start_time": "2023-04-28T07:52:46.902Z"
   },
   {
    "duration": 18,
    "start_time": "2023-04-28T07:52:46.919Z"
   },
   {
    "duration": 9,
    "start_time": "2023-04-28T07:52:46.940Z"
   },
   {
    "duration": 6,
    "start_time": "2023-04-28T07:53:44.850Z"
   },
   {
    "duration": 7,
    "start_time": "2023-04-28T07:54:17.726Z"
   },
   {
    "duration": 9,
    "start_time": "2023-04-28T08:02:51.608Z"
   },
   {
    "duration": 29,
    "start_time": "2023-04-28T08:06:20.117Z"
   },
   {
    "duration": 35,
    "start_time": "2023-04-28T08:07:13.982Z"
   },
   {
    "duration": 45,
    "start_time": "2023-04-28T08:12:18.779Z"
   },
   {
    "duration": 47,
    "start_time": "2023-04-28T08:12:40.439Z"
   },
   {
    "duration": 48,
    "start_time": "2023-04-28T08:13:59.077Z"
   },
   {
    "duration": 67,
    "start_time": "2023-04-28T08:14:46.986Z"
   },
   {
    "duration": 46,
    "start_time": "2023-04-28T08:15:07.342Z"
   },
   {
    "duration": 30,
    "start_time": "2023-04-28T08:15:24.208Z"
   },
   {
    "duration": 70,
    "start_time": "2023-04-28T08:15:37.693Z"
   },
   {
    "duration": 27,
    "start_time": "2023-04-28T08:15:48.106Z"
   },
   {
    "duration": 9,
    "start_time": "2023-04-28T08:16:00.744Z"
   },
   {
    "duration": 37,
    "start_time": "2023-04-28T08:16:08.308Z"
   },
   {
    "duration": 7,
    "start_time": "2023-04-28T08:22:52.744Z"
   },
   {
    "duration": 27,
    "start_time": "2023-04-28T08:23:55.322Z"
   },
   {
    "duration": 4,
    "start_time": "2023-04-28T08:39:51.906Z"
   },
   {
    "duration": 11,
    "start_time": "2023-04-28T08:40:02.048Z"
   },
   {
    "duration": 15,
    "start_time": "2023-04-28T08:41:05.084Z"
   },
   {
    "duration": 53,
    "start_time": "2023-04-28T08:44:02.231Z"
   },
   {
    "duration": 86,
    "start_time": "2023-04-28T08:44:35.934Z"
   },
   {
    "duration": 76,
    "start_time": "2023-04-28T08:45:01.451Z"
   },
   {
    "duration": 10,
    "start_time": "2023-04-28T08:45:56.197Z"
   },
   {
    "duration": 14,
    "start_time": "2023-04-28T08:50:17.501Z"
   },
   {
    "duration": 11,
    "start_time": "2023-04-28T08:50:28.512Z"
   },
   {
    "duration": 14,
    "start_time": "2023-04-28T08:50:42.400Z"
   },
   {
    "duration": 15,
    "start_time": "2023-04-28T08:52:05.251Z"
   },
   {
    "duration": 15,
    "start_time": "2023-04-28T08:52:27.716Z"
   },
   {
    "duration": 14,
    "start_time": "2023-04-28T08:52:52.916Z"
   },
   {
    "duration": 17,
    "start_time": "2023-04-28T08:54:01.909Z"
   },
   {
    "duration": 12,
    "start_time": "2023-04-28T08:55:04.197Z"
   },
   {
    "duration": 18,
    "start_time": "2023-04-28T08:58:05.497Z"
   },
   {
    "duration": 23,
    "start_time": "2023-04-28T08:58:13.564Z"
   },
   {
    "duration": 20,
    "start_time": "2023-04-28T08:58:57.445Z"
   },
   {
    "duration": 21,
    "start_time": "2023-04-28T08:59:13.586Z"
   },
   {
    "duration": 17,
    "start_time": "2023-04-28T08:59:21.065Z"
   },
   {
    "duration": 12,
    "start_time": "2023-04-28T09:00:54.221Z"
   },
   {
    "duration": 19,
    "start_time": "2023-04-28T09:01:02.892Z"
   },
   {
    "duration": 14,
    "start_time": "2023-04-28T09:02:24.148Z"
   },
   {
    "duration": 18,
    "start_time": "2023-04-28T09:02:36.701Z"
   },
   {
    "duration": 13,
    "start_time": "2023-04-28T10:44:34.263Z"
   },
   {
    "duration": 15,
    "start_time": "2023-04-28T10:44:52.310Z"
   },
   {
    "duration": 18,
    "start_time": "2023-04-28T10:45:04.332Z"
   },
   {
    "duration": 14,
    "start_time": "2023-04-28T10:45:33.707Z"
   },
   {
    "duration": 14,
    "start_time": "2023-04-28T10:45:48.418Z"
   },
   {
    "duration": 14,
    "start_time": "2023-04-28T10:46:03.333Z"
   },
   {
    "duration": 16,
    "start_time": "2023-04-28T10:46:11.811Z"
   },
   {
    "duration": 55,
    "start_time": "2023-04-28T10:46:21.006Z"
   },
   {
    "duration": 15,
    "start_time": "2023-04-28T10:46:26.214Z"
   },
   {
    "duration": 13,
    "start_time": "2023-04-28T10:47:26.804Z"
   },
   {
    "duration": 31,
    "start_time": "2023-04-28T10:48:56.041Z"
   },
   {
    "duration": 16,
    "start_time": "2023-04-28T10:49:11.654Z"
   },
   {
    "duration": 15,
    "start_time": "2023-04-28T10:49:27.029Z"
   },
   {
    "duration": 14,
    "start_time": "2023-04-28T10:49:41.711Z"
   },
   {
    "duration": 13,
    "start_time": "2023-04-28T10:52:15.584Z"
   },
   {
    "duration": 17,
    "start_time": "2023-04-28T10:52:46.223Z"
   },
   {
    "duration": 15,
    "start_time": "2023-04-28T10:53:04.867Z"
   },
   {
    "duration": 18,
    "start_time": "2023-04-28T10:53:17.635Z"
   },
   {
    "duration": 4,
    "start_time": "2023-04-28T10:54:21.306Z"
   },
   {
    "duration": 19,
    "start_time": "2023-04-28T10:54:50.153Z"
   },
   {
    "duration": 12,
    "start_time": "2023-04-28T10:55:03.923Z"
   },
   {
    "duration": 12,
    "start_time": "2023-04-28T10:55:50.252Z"
   },
   {
    "duration": 15,
    "start_time": "2023-04-28T10:56:17.356Z"
   },
   {
    "duration": 20,
    "start_time": "2023-04-28T10:56:34.651Z"
   },
   {
    "duration": 14,
    "start_time": "2023-04-28T10:56:49.288Z"
   },
   {
    "duration": 15,
    "start_time": "2023-04-28T10:58:11.039Z"
   },
   {
    "duration": 14,
    "start_time": "2023-04-28T10:58:28.479Z"
   },
   {
    "duration": 16,
    "start_time": "2023-04-28T10:59:30.978Z"
   },
   {
    "duration": 14,
    "start_time": "2023-04-28T10:59:40.535Z"
   },
   {
    "duration": 724,
    "start_time": "2023-04-28T11:02:27.885Z"
   },
   {
    "duration": 24,
    "start_time": "2023-04-28T11:05:38.323Z"
   },
   {
    "duration": 16,
    "start_time": "2023-04-28T11:05:58.534Z"
   },
   {
    "duration": 14,
    "start_time": "2023-04-28T11:06:04.088Z"
   },
   {
    "duration": 18,
    "start_time": "2023-04-28T11:06:26.192Z"
   },
   {
    "duration": 14,
    "start_time": "2023-04-28T11:06:39.692Z"
   },
   {
    "duration": 17,
    "start_time": "2023-04-28T11:07:04.140Z"
   },
   {
    "duration": 17,
    "start_time": "2023-04-28T11:17:39.512Z"
   },
   {
    "duration": 17,
    "start_time": "2023-04-28T11:18:12.995Z"
   },
   {
    "duration": 15,
    "start_time": "2023-04-28T11:18:18.876Z"
   },
   {
    "duration": 17,
    "start_time": "2023-04-28T11:18:22.402Z"
   },
   {
    "duration": 8,
    "start_time": "2023-04-28T11:28:39.946Z"
   },
   {
    "duration": 7,
    "start_time": "2023-04-28T11:32:45.824Z"
   },
   {
    "duration": 8,
    "start_time": "2023-04-28T11:33:23.942Z"
   },
   {
    "duration": 5,
    "start_time": "2023-04-28T11:33:31.725Z"
   },
   {
    "duration": 10,
    "start_time": "2023-04-28T11:33:37.446Z"
   },
   {
    "duration": 13,
    "start_time": "2023-04-28T11:33:56.844Z"
   },
   {
    "duration": 46,
    "start_time": "2023-04-28T11:37:04.072Z"
   },
   {
    "duration": 8,
    "start_time": "2023-04-28T11:37:09.069Z"
   },
   {
    "duration": 7,
    "start_time": "2023-04-28T11:37:45.899Z"
   },
   {
    "duration": 8,
    "start_time": "2023-04-28T11:37:56.144Z"
   },
   {
    "duration": 8,
    "start_time": "2023-04-28T11:38:15.702Z"
   },
   {
    "duration": 8,
    "start_time": "2023-04-28T11:38:33.706Z"
   },
   {
    "duration": 13,
    "start_time": "2023-04-28T11:39:02.963Z"
   },
   {
    "duration": 10,
    "start_time": "2023-04-28T11:39:31.150Z"
   },
   {
    "duration": 9,
    "start_time": "2023-04-28T11:40:16.044Z"
   },
   {
    "duration": 10,
    "start_time": "2023-04-28T11:41:25.333Z"
   },
   {
    "duration": 8,
    "start_time": "2023-04-28T11:41:37.449Z"
   },
   {
    "duration": 15,
    "start_time": "2023-04-28T11:42:17.579Z"
   },
   {
    "duration": 15,
    "start_time": "2023-04-28T11:42:41.210Z"
   },
   {
    "duration": 10,
    "start_time": "2023-04-28T11:46:06.138Z"
   },
   {
    "duration": 12,
    "start_time": "2023-04-28T11:46:14.048Z"
   },
   {
    "duration": 17,
    "start_time": "2023-04-28T11:47:03.213Z"
   },
   {
    "duration": 25,
    "start_time": "2023-04-28T11:48:15.348Z"
   },
   {
    "duration": 25,
    "start_time": "2023-04-28T11:48:24.413Z"
   },
   {
    "duration": 16,
    "start_time": "2023-04-28T11:48:49.982Z"
   },
   {
    "duration": 14,
    "start_time": "2023-04-28T11:49:13.989Z"
   },
   {
    "duration": 16,
    "start_time": "2023-04-28T11:51:23.789Z"
   },
   {
    "duration": 467,
    "start_time": "2023-04-28T11:51:39.501Z"
   },
   {
    "duration": 23,
    "start_time": "2023-04-28T11:51:39.970Z"
   },
   {
    "duration": 15,
    "start_time": "2023-04-28T11:51:39.995Z"
   },
   {
    "duration": 17,
    "start_time": "2023-04-28T11:51:40.013Z"
   },
   {
    "duration": 51,
    "start_time": "2023-04-28T11:51:40.032Z"
   },
   {
    "duration": 9,
    "start_time": "2023-04-28T11:51:40.085Z"
   },
   {
    "duration": 19,
    "start_time": "2023-04-28T11:51:40.096Z"
   },
   {
    "duration": 4,
    "start_time": "2023-04-28T11:51:40.117Z"
   },
   {
    "duration": 13,
    "start_time": "2023-04-28T11:51:40.123Z"
   },
   {
    "duration": 29,
    "start_time": "2023-04-28T11:51:40.138Z"
   },
   {
    "duration": 35,
    "start_time": "2023-04-28T11:51:40.168Z"
   },
   {
    "duration": 10,
    "start_time": "2023-04-28T11:51:40.204Z"
   },
   {
    "duration": 13,
    "start_time": "2023-04-28T11:51:40.215Z"
   },
   {
    "duration": 21,
    "start_time": "2023-04-28T11:51:40.229Z"
   },
   {
    "duration": 23,
    "start_time": "2023-04-28T11:51:40.252Z"
   },
   {
    "duration": 17,
    "start_time": "2023-04-28T11:51:40.277Z"
   },
   {
    "duration": 4,
    "start_time": "2023-04-28T11:51:40.296Z"
   },
   {
    "duration": 22,
    "start_time": "2023-04-28T11:51:40.301Z"
   },
   {
    "duration": 11,
    "start_time": "2023-04-28T11:51:40.325Z"
   },
   {
    "duration": 5,
    "start_time": "2023-04-28T11:51:40.337Z"
   },
   {
    "duration": 11,
    "start_time": "2023-04-28T11:51:40.344Z"
   },
   {
    "duration": 8,
    "start_time": "2023-04-28T11:51:40.356Z"
   },
   {
    "duration": 19,
    "start_time": "2023-04-28T11:51:40.366Z"
   },
   {
    "duration": 17,
    "start_time": "2023-04-28T11:51:40.393Z"
   },
   {
    "duration": 3,
    "start_time": "2023-04-28T11:51:40.411Z"
   },
   {
    "duration": 76,
    "start_time": "2023-04-28T11:56:17.410Z"
   },
   {
    "duration": 14,
    "start_time": "2023-04-28T11:56:39.418Z"
   },
   {
    "duration": 19,
    "start_time": "2023-04-28T11:56:50.888Z"
   },
   {
    "duration": 16,
    "start_time": "2023-04-28T11:57:19.808Z"
   },
   {
    "duration": 8,
    "start_time": "2023-04-28T11:57:28.421Z"
   },
   {
    "duration": 18,
    "start_time": "2023-04-28T11:59:06.373Z"
   },
   {
    "duration": 19,
    "start_time": "2023-04-28T11:59:44.319Z"
   },
   {
    "duration": 20,
    "start_time": "2023-04-28T12:01:32.930Z"
   },
   {
    "duration": 16,
    "start_time": "2023-04-28T12:02:25.413Z"
   },
   {
    "duration": 19,
    "start_time": "2023-04-28T12:02:33.487Z"
   },
   {
    "duration": 851,
    "start_time": "2023-04-28T12:04:38.848Z"
   },
   {
    "duration": 20,
    "start_time": "2023-04-28T12:04:46.532Z"
   },
   {
    "duration": 18,
    "start_time": "2023-04-28T12:11:52.476Z"
   },
   {
    "duration": 18,
    "start_time": "2023-04-28T12:12:52.087Z"
   },
   {
    "duration": 16,
    "start_time": "2023-04-28T12:13:07.425Z"
   },
   {
    "duration": 20,
    "start_time": "2023-04-28T13:00:52.596Z"
   },
   {
    "duration": 21,
    "start_time": "2023-04-28T13:13:50.688Z"
   },
   {
    "duration": 19,
    "start_time": "2023-04-28T13:14:11.158Z"
   },
   {
    "duration": 28,
    "start_time": "2023-04-28T13:14:18.320Z"
   },
   {
    "duration": 17,
    "start_time": "2023-04-28T13:15:00.231Z"
   },
   {
    "duration": 16,
    "start_time": "2023-04-28T13:15:13.731Z"
   },
   {
    "duration": 22,
    "start_time": "2023-04-28T13:16:34.476Z"
   },
   {
    "duration": 21,
    "start_time": "2023-04-28T13:16:42.532Z"
   },
   {
    "duration": 26,
    "start_time": "2023-04-28T13:16:58.323Z"
   },
   {
    "duration": 22,
    "start_time": "2023-04-28T13:17:07.842Z"
   },
   {
    "duration": 21,
    "start_time": "2023-04-28T13:20:00.382Z"
   },
   {
    "duration": 27,
    "start_time": "2023-04-28T13:20:05.287Z"
   },
   {
    "duration": 22,
    "start_time": "2023-04-28T13:20:11.130Z"
   },
   {
    "duration": 23,
    "start_time": "2023-04-28T13:20:15.225Z"
   },
   {
    "duration": 25,
    "start_time": "2023-04-28T13:20:32.121Z"
   },
   {
    "duration": 22,
    "start_time": "2023-04-28T13:20:36.919Z"
   },
   {
    "duration": 22,
    "start_time": "2023-04-28T13:20:40.747Z"
   },
   {
    "duration": 30,
    "start_time": "2023-04-28T13:20:44.123Z"
   },
   {
    "duration": 28,
    "start_time": "2023-04-28T13:20:50.331Z"
   },
   {
    "duration": 24,
    "start_time": "2023-04-28T13:20:56.337Z"
   },
   {
    "duration": 11,
    "start_time": "2023-04-28T13:21:55.332Z"
   },
   {
    "duration": 7,
    "start_time": "2023-04-28T13:22:03.360Z"
   },
   {
    "duration": 8,
    "start_time": "2023-04-28T13:22:08.009Z"
   },
   {
    "duration": 3,
    "start_time": "2023-04-28T13:22:16.431Z"
   },
   {
    "duration": 50,
    "start_time": "2023-04-28T13:22:27.520Z"
   },
   {
    "duration": 5,
    "start_time": "2023-04-28T13:22:33.020Z"
   },
   {
    "duration": 21,
    "start_time": "2023-04-28T13:23:00.626Z"
   },
   {
    "duration": 7,
    "start_time": "2023-04-28T13:24:10.341Z"
   },
   {
    "duration": 18,
    "start_time": "2023-04-28T13:24:21.031Z"
   },
   {
    "duration": 14,
    "start_time": "2023-04-28T13:24:33.624Z"
   },
   {
    "duration": 6,
    "start_time": "2023-04-28T13:25:03.679Z"
   },
   {
    "duration": 5,
    "start_time": "2023-04-28T13:25:18.324Z"
   },
   {
    "duration": 5,
    "start_time": "2023-04-28T13:25:30.039Z"
   },
   {
    "duration": 4,
    "start_time": "2023-04-28T13:25:34.135Z"
   },
   {
    "duration": 5,
    "start_time": "2023-04-28T13:25:43.132Z"
   },
   {
    "duration": 6,
    "start_time": "2023-04-28T13:26:01.580Z"
   },
   {
    "duration": 12,
    "start_time": "2023-04-28T13:26:15.118Z"
   },
   {
    "duration": 14,
    "start_time": "2023-04-28T13:26:34.864Z"
   },
   {
    "duration": 23,
    "start_time": "2023-04-28T13:26:41.331Z"
   },
   {
    "duration": 535,
    "start_time": "2023-04-28T13:38:12.657Z"
   },
   {
    "duration": 44,
    "start_time": "2023-04-28T13:38:13.197Z"
   },
   {
    "duration": 24,
    "start_time": "2023-04-28T13:38:13.244Z"
   },
   {
    "duration": 25,
    "start_time": "2023-04-28T13:38:13.273Z"
   },
   {
    "duration": 46,
    "start_time": "2023-04-28T13:38:13.301Z"
   },
   {
    "duration": 4,
    "start_time": "2023-04-28T13:38:13.349Z"
   },
   {
    "duration": 14,
    "start_time": "2023-04-28T13:38:13.355Z"
   },
   {
    "duration": 6,
    "start_time": "2023-04-28T13:38:13.394Z"
   },
   {
    "duration": 10,
    "start_time": "2023-04-28T13:38:13.402Z"
   },
   {
    "duration": 5,
    "start_time": "2023-04-28T13:38:13.417Z"
   },
   {
    "duration": 71,
    "start_time": "2023-04-28T13:38:13.424Z"
   },
   {
    "duration": 13,
    "start_time": "2023-04-28T13:38:13.497Z"
   },
   {
    "duration": 4,
    "start_time": "2023-04-28T13:38:13.512Z"
   },
   {
    "duration": 31,
    "start_time": "2023-04-28T13:38:13.518Z"
   },
   {
    "duration": 23,
    "start_time": "2023-04-28T13:38:13.551Z"
   },
   {
    "duration": 17,
    "start_time": "2023-04-28T13:38:13.593Z"
   },
   {
    "duration": 4,
    "start_time": "2023-04-28T13:38:13.612Z"
   },
   {
    "duration": 15,
    "start_time": "2023-04-28T13:38:13.617Z"
   },
   {
    "duration": 12,
    "start_time": "2023-04-28T13:38:13.634Z"
   },
   {
    "duration": 4,
    "start_time": "2023-04-28T13:38:13.648Z"
   },
   {
    "duration": 12,
    "start_time": "2023-04-28T13:38:13.653Z"
   },
   {
    "duration": 51,
    "start_time": "2023-04-28T13:38:13.667Z"
   },
   {
    "duration": 19,
    "start_time": "2023-04-28T13:38:13.720Z"
   },
   {
    "duration": 21,
    "start_time": "2023-04-28T13:38:13.741Z"
   },
   {
    "duration": 51,
    "start_time": "2023-04-28T13:38:13.764Z"
   },
   {
    "duration": 31,
    "start_time": "2023-04-28T13:41:45.385Z"
   },
   {
    "duration": 29,
    "start_time": "2023-04-28T13:42:38.072Z"
   },
   {
    "duration": 76,
    "start_time": "2023-04-28T13:42:57.283Z"
   },
   {
    "duration": 66,
    "start_time": "2023-04-28T13:43:42.617Z"
   },
   {
    "duration": 797,
    "start_time": "2023-04-28T13:43:49.703Z"
   },
   {
    "duration": 27,
    "start_time": "2023-04-28T13:44:07.233Z"
   },
   {
    "duration": 10,
    "start_time": "2023-04-28T13:45:24.338Z"
   },
   {
    "duration": 774,
    "start_time": "2023-04-28T13:45:28.768Z"
   },
   {
    "duration": 878,
    "start_time": "2023-04-28T13:45:41.683Z"
   },
   {
    "duration": 721,
    "start_time": "2023-04-28T13:45:55.590Z"
   },
   {
    "duration": 41,
    "start_time": "2023-04-28T13:46:21.821Z"
   },
   {
    "duration": 22,
    "start_time": "2023-04-28T13:46:33.269Z"
   },
   {
    "duration": 30,
    "start_time": "2023-04-28T13:47:15.205Z"
   },
   {
    "duration": 34,
    "start_time": "2023-04-28T13:47:55.329Z"
   },
   {
    "duration": 19,
    "start_time": "2023-04-28T13:48:17.272Z"
   },
   {
    "duration": 496,
    "start_time": "2023-04-28T13:54:31.560Z"
   },
   {
    "duration": 26,
    "start_time": "2023-04-28T13:54:32.058Z"
   },
   {
    "duration": 34,
    "start_time": "2023-04-28T13:54:32.088Z"
   },
   {
    "duration": 28,
    "start_time": "2023-04-28T13:54:32.125Z"
   },
   {
    "duration": 54,
    "start_time": "2023-04-28T13:54:32.154Z"
   },
   {
    "duration": 4,
    "start_time": "2023-04-28T13:54:32.209Z"
   },
   {
    "duration": 17,
    "start_time": "2023-04-28T13:54:32.214Z"
   },
   {
    "duration": 16,
    "start_time": "2023-04-28T13:54:32.233Z"
   },
   {
    "duration": 16,
    "start_time": "2023-04-28T13:54:32.252Z"
   },
   {
    "duration": 9,
    "start_time": "2023-04-28T13:54:32.269Z"
   },
   {
    "duration": 51,
    "start_time": "2023-04-28T13:54:32.280Z"
   },
   {
    "duration": 11,
    "start_time": "2023-04-28T13:54:32.333Z"
   },
   {
    "duration": 16,
    "start_time": "2023-04-28T13:54:32.345Z"
   },
   {
    "duration": 30,
    "start_time": "2023-04-28T13:54:32.363Z"
   },
   {
    "duration": 37,
    "start_time": "2023-04-28T13:54:32.395Z"
   },
   {
    "duration": 24,
    "start_time": "2023-04-28T13:54:32.433Z"
   },
   {
    "duration": 4,
    "start_time": "2023-04-28T13:54:32.459Z"
   },
   {
    "duration": 20,
    "start_time": "2023-04-28T13:54:32.464Z"
   },
   {
    "duration": 13,
    "start_time": "2023-04-28T13:54:32.486Z"
   },
   {
    "duration": 5,
    "start_time": "2023-04-28T13:54:32.501Z"
   },
   {
    "duration": 14,
    "start_time": "2023-04-28T13:54:32.508Z"
   },
   {
    "duration": 19,
    "start_time": "2023-04-28T13:54:32.524Z"
   },
   {
    "duration": 16,
    "start_time": "2023-04-28T13:54:32.545Z"
   },
   {
    "duration": 41,
    "start_time": "2023-04-28T13:54:32.562Z"
   },
   {
    "duration": 20,
    "start_time": "2023-04-28T13:54:32.605Z"
   },
   {
    "duration": 447,
    "start_time": "2023-04-28T16:28:35.356Z"
   },
   {
    "duration": 19,
    "start_time": "2023-04-28T16:28:35.805Z"
   },
   {
    "duration": 15,
    "start_time": "2023-04-28T16:28:35.826Z"
   },
   {
    "duration": 7,
    "start_time": "2023-04-28T16:28:35.843Z"
   },
   {
    "duration": 38,
    "start_time": "2023-04-28T16:28:35.852Z"
   },
   {
    "duration": 3,
    "start_time": "2023-04-28T16:28:35.891Z"
   },
   {
    "duration": 12,
    "start_time": "2023-04-28T16:28:35.896Z"
   },
   {
    "duration": 6,
    "start_time": "2023-04-28T16:28:35.910Z"
   },
   {
    "duration": 8,
    "start_time": "2023-04-28T16:28:35.917Z"
   },
   {
    "duration": 7,
    "start_time": "2023-04-28T16:28:35.928Z"
   },
   {
    "duration": 45,
    "start_time": "2023-04-28T16:28:35.936Z"
   },
   {
    "duration": 8,
    "start_time": "2023-04-28T16:28:35.983Z"
   },
   {
    "duration": 8,
    "start_time": "2023-04-28T16:28:35.992Z"
   },
   {
    "duration": 16,
    "start_time": "2023-04-28T16:28:36.001Z"
   },
   {
    "duration": 24,
    "start_time": "2023-04-28T16:28:36.019Z"
   },
   {
    "duration": 15,
    "start_time": "2023-04-28T16:28:36.044Z"
   },
   {
    "duration": 3,
    "start_time": "2023-04-28T16:28:36.061Z"
   },
   {
    "duration": 31,
    "start_time": "2023-04-28T16:28:36.065Z"
   },
   {
    "duration": 5,
    "start_time": "2023-04-28T16:28:36.097Z"
   },
   {
    "duration": 4,
    "start_time": "2023-04-28T16:28:36.103Z"
   },
   {
    "duration": 10,
    "start_time": "2023-04-28T16:28:36.108Z"
   },
   {
    "duration": 17,
    "start_time": "2023-04-28T16:28:36.119Z"
   },
   {
    "duration": 14,
    "start_time": "2023-04-28T16:28:36.137Z"
   },
   {
    "duration": 21,
    "start_time": "2023-04-28T16:28:36.152Z"
   },
   {
    "duration": 16,
    "start_time": "2023-04-28T16:28:36.174Z"
   },
   {
    "duration": 489,
    "start_time": "2023-04-28T16:37:31.258Z"
   },
   {
    "duration": 19,
    "start_time": "2023-04-28T16:37:31.749Z"
   },
   {
    "duration": 47,
    "start_time": "2023-04-28T16:37:31.769Z"
   },
   {
    "duration": 14,
    "start_time": "2023-04-28T16:37:31.817Z"
   },
   {
    "duration": 64,
    "start_time": "2023-04-28T16:37:31.832Z"
   },
   {
    "duration": 3,
    "start_time": "2023-04-28T16:37:31.897Z"
   },
   {
    "duration": 14,
    "start_time": "2023-04-28T16:37:31.901Z"
   },
   {
    "duration": 10,
    "start_time": "2023-04-28T16:37:31.916Z"
   },
   {
    "duration": 8,
    "start_time": "2023-04-28T16:37:31.927Z"
   },
   {
    "duration": 8,
    "start_time": "2023-04-28T16:37:31.937Z"
   },
   {
    "duration": 67,
    "start_time": "2023-04-28T16:37:31.946Z"
   },
   {
    "duration": 8,
    "start_time": "2023-04-28T16:37:32.014Z"
   },
   {
    "duration": 59,
    "start_time": "2023-04-28T16:37:32.023Z"
   },
   {
    "duration": 29,
    "start_time": "2023-04-28T16:37:32.083Z"
   },
   {
    "duration": 24,
    "start_time": "2023-04-28T16:37:32.114Z"
   },
   {
    "duration": 13,
    "start_time": "2023-04-28T16:37:32.140Z"
   },
   {
    "duration": 11,
    "start_time": "2023-04-28T16:37:32.154Z"
   },
   {
    "duration": 30,
    "start_time": "2023-04-28T16:37:32.166Z"
   },
   {
    "duration": 15,
    "start_time": "2023-04-28T16:37:32.197Z"
   },
   {
    "duration": 5,
    "start_time": "2023-04-28T16:37:32.213Z"
   },
   {
    "duration": 9,
    "start_time": "2023-04-28T16:37:32.219Z"
   },
   {
    "duration": 660,
    "start_time": "2023-04-28T16:37:32.229Z"
   },
   {
    "duration": 18,
    "start_time": "2023-04-28T16:37:32.891Z"
   },
   {
    "duration": 19,
    "start_time": "2023-04-28T16:37:32.911Z"
   },
   {
    "duration": 61,
    "start_time": "2023-04-28T16:37:32.932Z"
   },
   {
    "duration": 23,
    "start_time": "2023-04-28T16:37:32.996Z"
   },
   {
    "duration": 495,
    "start_time": "2023-04-29T09:04:44.292Z"
   },
   {
    "duration": 680,
    "start_time": "2023-04-29T09:04:54.734Z"
   },
   {
    "duration": 21,
    "start_time": "2023-04-29T09:04:55.416Z"
   },
   {
    "duration": 17,
    "start_time": "2023-04-29T09:04:55.438Z"
   },
   {
    "duration": 8,
    "start_time": "2023-04-29T09:04:55.458Z"
   },
   {
    "duration": 31,
    "start_time": "2023-04-29T09:04:55.468Z"
   },
   {
    "duration": 4,
    "start_time": "2023-04-29T09:04:55.500Z"
   },
   {
    "duration": 9,
    "start_time": "2023-04-29T09:04:55.505Z"
   },
   {
    "duration": 9,
    "start_time": "2023-04-29T09:04:55.516Z"
   },
   {
    "duration": 6,
    "start_time": "2023-04-29T09:04:55.527Z"
   },
   {
    "duration": 10,
    "start_time": "2023-04-29T09:04:55.536Z"
   },
   {
    "duration": 48,
    "start_time": "2023-04-29T09:04:55.547Z"
   },
   {
    "duration": 8,
    "start_time": "2023-04-29T09:04:55.597Z"
   },
   {
    "duration": 4,
    "start_time": "2023-04-29T09:04:55.606Z"
   },
   {
    "duration": 12,
    "start_time": "2023-04-29T09:04:55.611Z"
   },
   {
    "duration": 18,
    "start_time": "2023-04-29T09:04:55.624Z"
   },
   {
    "duration": 39,
    "start_time": "2023-04-29T09:04:55.643Z"
   },
   {
    "duration": 5,
    "start_time": "2023-04-29T09:04:55.684Z"
   },
   {
    "duration": 13,
    "start_time": "2023-04-29T09:04:55.690Z"
   },
   {
    "duration": 6,
    "start_time": "2023-04-29T09:04:55.704Z"
   },
   {
    "duration": 10,
    "start_time": "2023-04-29T09:04:55.712Z"
   },
   {
    "duration": 9,
    "start_time": "2023-04-29T09:04:55.724Z"
   },
   {
    "duration": 528,
    "start_time": "2023-04-29T09:04:55.734Z"
   },
   {
    "duration": 111,
    "start_time": "2023-04-29T09:04:56.263Z"
   },
   {
    "duration": 16,
    "start_time": "2023-04-29T09:04:56.376Z"
   },
   {
    "duration": 15,
    "start_time": "2023-04-29T09:04:56.393Z"
   },
   {
    "duration": 15,
    "start_time": "2023-04-29T09:04:56.409Z"
   },
   {
    "duration": 432,
    "start_time": "2023-04-29T09:06:11.142Z"
   },
   {
    "duration": 19,
    "start_time": "2023-04-29T09:07:00.458Z"
   },
   {
    "duration": 20,
    "start_time": "2023-04-29T09:07:09.159Z"
   },
   {
    "duration": 495,
    "start_time": "2023-04-29T09:07:18.950Z"
   },
   {
    "duration": 22,
    "start_time": "2023-04-29T09:07:19.447Z"
   },
   {
    "duration": 21,
    "start_time": "2023-04-29T09:07:19.471Z"
   },
   {
    "duration": 12,
    "start_time": "2023-04-29T09:07:19.494Z"
   },
   {
    "duration": 40,
    "start_time": "2023-04-29T09:07:19.508Z"
   },
   {
    "duration": 4,
    "start_time": "2023-04-29T09:07:19.549Z"
   },
   {
    "duration": 8,
    "start_time": "2023-04-29T09:07:19.572Z"
   },
   {
    "duration": 12,
    "start_time": "2023-04-29T09:07:19.581Z"
   },
   {
    "duration": 11,
    "start_time": "2023-04-29T09:07:19.595Z"
   },
   {
    "duration": 4,
    "start_time": "2023-04-29T09:07:19.608Z"
   },
   {
    "duration": 40,
    "start_time": "2023-04-29T09:07:19.614Z"
   },
   {
    "duration": 9,
    "start_time": "2023-04-29T09:07:19.672Z"
   },
   {
    "duration": 8,
    "start_time": "2023-04-29T09:07:19.683Z"
   },
   {
    "duration": 12,
    "start_time": "2023-04-29T09:07:19.692Z"
   },
   {
    "duration": 18,
    "start_time": "2023-04-29T09:07:19.706Z"
   },
   {
    "duration": 48,
    "start_time": "2023-04-29T09:07:19.726Z"
   },
   {
    "duration": 3,
    "start_time": "2023-04-29T09:07:19.776Z"
   },
   {
    "duration": 10,
    "start_time": "2023-04-29T09:07:19.781Z"
   },
   {
    "duration": 6,
    "start_time": "2023-04-29T09:07:19.792Z"
   },
   {
    "duration": 23,
    "start_time": "2023-04-29T09:07:19.799Z"
   },
   {
    "duration": 22,
    "start_time": "2023-04-29T09:07:19.823Z"
   },
   {
    "duration": 517,
    "start_time": "2023-04-29T09:07:19.847Z"
   },
   {
    "duration": 28,
    "start_time": "2023-04-29T09:07:20.366Z"
   },
   {
    "duration": 75,
    "start_time": "2023-04-29T09:07:20.397Z"
   },
   {
    "duration": 17,
    "start_time": "2023-04-29T09:07:20.473Z"
   },
   {
    "duration": 21,
    "start_time": "2023-04-29T09:07:20.492Z"
   },
   {
    "duration": 21,
    "start_time": "2023-04-29T09:07:55.947Z"
   },
   {
    "duration": 24,
    "start_time": "2023-04-29T09:09:16.741Z"
   },
   {
    "duration": 415,
    "start_time": "2023-04-29T09:09:39.810Z"
   },
   {
    "duration": 24,
    "start_time": "2023-04-29T09:10:02.065Z"
   },
   {
    "duration": 1126,
    "start_time": "2023-04-29T09:11:38.125Z"
   },
   {
    "duration": 24,
    "start_time": "2023-04-29T09:12:18.998Z"
   },
   {
    "duration": 19,
    "start_time": "2023-04-29T09:13:42.827Z"
   },
   {
    "duration": 20,
    "start_time": "2023-04-29T09:13:55.815Z"
   },
   {
    "duration": 22,
    "start_time": "2023-04-29T09:15:47.926Z"
   },
   {
    "duration": 49,
    "start_time": "2023-04-29T09:18:45.336Z"
   },
   {
    "duration": 33,
    "start_time": "2023-04-29T09:19:10.208Z"
   },
   {
    "duration": 1336,
    "start_time": "2023-04-29T09:26:35.567Z"
   },
   {
    "duration": 1196,
    "start_time": "2023-04-29T09:27:32.978Z"
   },
   {
    "duration": 664,
    "start_time": "2023-04-29T09:30:08.239Z"
   },
   {
    "duration": 18,
    "start_time": "2023-04-29T09:30:08.905Z"
   },
   {
    "duration": 13,
    "start_time": "2023-04-29T09:30:08.924Z"
   },
   {
    "duration": 7,
    "start_time": "2023-04-29T09:30:08.939Z"
   },
   {
    "duration": 34,
    "start_time": "2023-04-29T09:30:08.948Z"
   },
   {
    "duration": 3,
    "start_time": "2023-04-29T09:30:08.983Z"
   },
   {
    "duration": 10,
    "start_time": "2023-04-29T09:30:08.987Z"
   },
   {
    "duration": 4,
    "start_time": "2023-04-29T09:30:08.999Z"
   },
   {
    "duration": 8,
    "start_time": "2023-04-29T09:30:09.004Z"
   },
   {
    "duration": 4,
    "start_time": "2023-04-29T09:30:09.015Z"
   },
   {
    "duration": 27,
    "start_time": "2023-04-29T09:30:09.020Z"
   },
   {
    "duration": 26,
    "start_time": "2023-04-29T09:30:09.048Z"
   },
   {
    "duration": 4,
    "start_time": "2023-04-29T09:30:09.075Z"
   },
   {
    "duration": 36,
    "start_time": "2023-04-29T09:30:09.080Z"
   },
   {
    "duration": 19,
    "start_time": "2023-04-29T09:30:09.117Z"
   },
   {
    "duration": 14,
    "start_time": "2023-04-29T09:30:09.138Z"
   },
   {
    "duration": 3,
    "start_time": "2023-04-29T09:30:09.153Z"
   },
   {
    "duration": 17,
    "start_time": "2023-04-29T09:30:09.157Z"
   },
   {
    "duration": 13,
    "start_time": "2023-04-29T09:30:09.175Z"
   },
   {
    "duration": 4,
    "start_time": "2023-04-29T09:30:09.190Z"
   },
   {
    "duration": 10,
    "start_time": "2023-04-29T09:30:09.195Z"
   },
   {
    "duration": 452,
    "start_time": "2023-04-29T09:30:09.206Z"
   },
   {
    "duration": 955,
    "start_time": "2023-04-29T09:30:09.660Z"
   },
   {
    "duration": 15,
    "start_time": "2023-04-29T09:30:10.616Z"
   },
   {
    "duration": 21,
    "start_time": "2023-04-29T09:30:10.632Z"
   },
   {
    "duration": 26,
    "start_time": "2023-04-29T09:30:10.654Z"
   },
   {
    "duration": 138,
    "start_time": "2023-04-29T09:30:26.925Z"
   },
   {
    "duration": 130,
    "start_time": "2023-04-29T09:30:44.230Z"
   },
   {
    "duration": 69,
    "start_time": "2023-04-29T09:31:33.068Z"
   },
   {
    "duration": 142,
    "start_time": "2023-04-29T09:31:40.948Z"
   },
   {
    "duration": 123,
    "start_time": "2023-04-29T09:32:09.664Z"
   },
   {
    "duration": 72,
    "start_time": "2023-04-29T09:32:33.488Z"
   },
   {
    "duration": 130,
    "start_time": "2023-04-29T09:32:41.249Z"
   },
   {
    "duration": 39,
    "start_time": "2023-04-29T09:37:29.323Z"
   },
   {
    "duration": 467,
    "start_time": "2023-04-29T09:37:48.284Z"
   },
   {
    "duration": 21,
    "start_time": "2023-04-29T09:37:48.753Z"
   },
   {
    "duration": 23,
    "start_time": "2023-04-29T09:37:48.776Z"
   },
   {
    "duration": 10,
    "start_time": "2023-04-29T09:37:48.802Z"
   },
   {
    "duration": 66,
    "start_time": "2023-04-29T09:37:48.814Z"
   },
   {
    "duration": 3,
    "start_time": "2023-04-29T09:37:48.882Z"
   },
   {
    "duration": 11,
    "start_time": "2023-04-29T09:37:48.887Z"
   },
   {
    "duration": 4,
    "start_time": "2023-04-29T09:37:48.900Z"
   },
   {
    "duration": 18,
    "start_time": "2023-04-29T09:37:48.906Z"
   },
   {
    "duration": 4,
    "start_time": "2023-04-29T09:37:48.926Z"
   },
   {
    "duration": 48,
    "start_time": "2023-04-29T09:37:48.933Z"
   },
   {
    "duration": 9,
    "start_time": "2023-04-29T09:37:48.982Z"
   },
   {
    "duration": 5,
    "start_time": "2023-04-29T09:37:48.992Z"
   },
   {
    "duration": 11,
    "start_time": "2023-04-29T09:37:48.998Z"
   },
   {
    "duration": 25,
    "start_time": "2023-04-29T09:37:49.011Z"
   },
   {
    "duration": 15,
    "start_time": "2023-04-29T09:37:49.038Z"
   },
   {
    "duration": 20,
    "start_time": "2023-04-29T09:37:49.055Z"
   },
   {
    "duration": 27,
    "start_time": "2023-04-29T09:37:49.077Z"
   },
   {
    "duration": 7,
    "start_time": "2023-04-29T09:37:49.106Z"
   },
   {
    "duration": 4,
    "start_time": "2023-04-29T09:37:49.115Z"
   },
   {
    "duration": 10,
    "start_time": "2023-04-29T09:37:49.120Z"
   },
   {
    "duration": 473,
    "start_time": "2023-04-29T09:37:49.132Z"
   },
   {
    "duration": 208,
    "start_time": "2023-04-29T09:37:49.607Z"
   },
   {
    "duration": 0,
    "start_time": "2023-04-29T09:37:49.816Z"
   },
   {
    "duration": 0,
    "start_time": "2023-04-29T09:37:49.817Z"
   },
   {
    "duration": 0,
    "start_time": "2023-04-29T09:37:49.818Z"
   },
   {
    "duration": 83,
    "start_time": "2023-04-29T09:38:58.933Z"
   },
   {
    "duration": 35,
    "start_time": "2023-04-29T09:39:33.568Z"
   },
   {
    "duration": 314,
    "start_time": "2023-04-29T09:40:09.619Z"
   },
   {
    "duration": 38,
    "start_time": "2023-04-29T09:41:10.505Z"
   },
   {
    "duration": 57,
    "start_time": "2023-04-29T09:42:15.312Z"
   },
   {
    "duration": 65,
    "start_time": "2023-04-29T09:42:57.968Z"
   },
   {
    "duration": 60,
    "start_time": "2023-04-29T09:43:41.820Z"
   },
   {
    "duration": 59,
    "start_time": "2023-04-29T09:48:45.410Z"
   },
   {
    "duration": 80,
    "start_time": "2023-04-29T09:50:31.722Z"
   },
   {
    "duration": 412,
    "start_time": "2023-04-29T09:50:56.500Z"
   },
   {
    "duration": 18,
    "start_time": "2023-04-29T09:50:56.914Z"
   },
   {
    "duration": 20,
    "start_time": "2023-04-29T09:50:56.933Z"
   },
   {
    "duration": 8,
    "start_time": "2023-04-29T09:50:56.954Z"
   },
   {
    "duration": 37,
    "start_time": "2023-04-29T09:50:56.964Z"
   },
   {
    "duration": 2,
    "start_time": "2023-04-29T09:50:57.003Z"
   },
   {
    "duration": 8,
    "start_time": "2023-04-29T09:50:57.007Z"
   },
   {
    "duration": 3,
    "start_time": "2023-04-29T09:50:57.017Z"
   },
   {
    "duration": 13,
    "start_time": "2023-04-29T09:50:57.021Z"
   },
   {
    "duration": 5,
    "start_time": "2023-04-29T09:50:57.035Z"
   },
   {
    "duration": 44,
    "start_time": "2023-04-29T09:50:57.041Z"
   },
   {
    "duration": 8,
    "start_time": "2023-04-29T09:50:57.087Z"
   },
   {
    "duration": 14,
    "start_time": "2023-04-29T09:50:57.097Z"
   },
   {
    "duration": 13,
    "start_time": "2023-04-29T09:50:57.113Z"
   },
   {
    "duration": 29,
    "start_time": "2023-04-29T09:50:57.127Z"
   },
   {
    "duration": 15,
    "start_time": "2023-04-29T09:50:57.157Z"
   },
   {
    "duration": 18,
    "start_time": "2023-04-29T09:50:57.173Z"
   },
   {
    "duration": 24,
    "start_time": "2023-04-29T09:50:57.192Z"
   },
   {
    "duration": 12,
    "start_time": "2023-04-29T09:50:57.217Z"
   },
   {
    "duration": 3,
    "start_time": "2023-04-29T09:50:57.230Z"
   },
   {
    "duration": 11,
    "start_time": "2023-04-29T09:50:57.234Z"
   },
   {
    "duration": 428,
    "start_time": "2023-04-29T09:50:57.246Z"
   },
   {
    "duration": 68,
    "start_time": "2023-04-29T09:50:57.676Z"
   },
   {
    "duration": 0,
    "start_time": "2023-04-29T09:50:57.745Z"
   },
   {
    "duration": 0,
    "start_time": "2023-04-29T09:50:57.747Z"
   },
   {
    "duration": 0,
    "start_time": "2023-04-29T09:50:57.747Z"
   },
   {
    "duration": 187,
    "start_time": "2023-04-29T09:51:28.894Z"
   },
   {
    "duration": 73,
    "start_time": "2023-04-29T09:54:28.203Z"
   },
   {
    "duration": 51,
    "start_time": "2023-04-29T10:07:36.111Z"
   },
   {
    "duration": 62,
    "start_time": "2023-04-29T10:12:23.703Z"
   },
   {
    "duration": 59,
    "start_time": "2023-04-29T10:13:17.906Z"
   },
   {
    "duration": 75,
    "start_time": "2023-04-29T10:13:59.958Z"
   },
   {
    "duration": 473,
    "start_time": "2023-04-29T10:14:19.638Z"
   },
   {
    "duration": 356,
    "start_time": "2023-04-29T10:15:38.701Z"
   },
   {
    "duration": 59,
    "start_time": "2023-04-29T10:15:53.586Z"
   },
   {
    "duration": 57,
    "start_time": "2023-04-29T10:16:27.734Z"
   },
   {
    "duration": 418,
    "start_time": "2023-04-29T10:16:52.820Z"
   },
   {
    "duration": 20,
    "start_time": "2023-04-29T10:16:53.239Z"
   },
   {
    "duration": 13,
    "start_time": "2023-04-29T10:16:53.260Z"
   },
   {
    "duration": 8,
    "start_time": "2023-04-29T10:16:53.275Z"
   },
   {
    "duration": 38,
    "start_time": "2023-04-29T10:16:53.285Z"
   },
   {
    "duration": 3,
    "start_time": "2023-04-29T10:16:53.324Z"
   },
   {
    "duration": 13,
    "start_time": "2023-04-29T10:16:53.329Z"
   },
   {
    "duration": 7,
    "start_time": "2023-04-29T10:16:53.344Z"
   },
   {
    "duration": 24,
    "start_time": "2023-04-29T10:16:53.352Z"
   },
   {
    "duration": 3,
    "start_time": "2023-04-29T10:16:53.379Z"
   },
   {
    "duration": 26,
    "start_time": "2023-04-29T10:16:53.384Z"
   },
   {
    "duration": 7,
    "start_time": "2023-04-29T10:16:53.412Z"
   },
   {
    "duration": 5,
    "start_time": "2023-04-29T10:16:53.420Z"
   },
   {
    "duration": 12,
    "start_time": "2023-04-29T10:16:53.425Z"
   },
   {
    "duration": 40,
    "start_time": "2023-04-29T10:16:53.438Z"
   },
   {
    "duration": 15,
    "start_time": "2023-04-29T10:16:53.479Z"
   },
   {
    "duration": 3,
    "start_time": "2023-04-29T10:16:53.495Z"
   },
   {
    "duration": 14,
    "start_time": "2023-04-29T10:16:53.499Z"
   },
   {
    "duration": 7,
    "start_time": "2023-04-29T10:16:53.514Z"
   },
   {
    "duration": 3,
    "start_time": "2023-04-29T10:16:53.522Z"
   },
   {
    "duration": 9,
    "start_time": "2023-04-29T10:16:53.526Z"
   },
   {
    "duration": 490,
    "start_time": "2023-04-29T10:16:53.536Z"
   },
   {
    "duration": 80,
    "start_time": "2023-04-29T10:16:54.028Z"
   },
   {
    "duration": 64,
    "start_time": "2023-04-29T10:16:54.109Z"
   },
   {
    "duration": 15,
    "start_time": "2023-04-29T10:16:54.175Z"
   },
   {
    "duration": 16,
    "start_time": "2023-04-29T10:16:54.192Z"
   },
   {
    "duration": 61,
    "start_time": "2023-04-29T10:21:24.705Z"
   },
   {
    "duration": 61,
    "start_time": "2023-04-29T10:23:37.004Z"
   },
   {
    "duration": 61,
    "start_time": "2023-04-29T10:24:17.421Z"
   },
   {
    "duration": 78,
    "start_time": "2023-04-29T10:25:27.055Z"
   },
   {
    "duration": 3,
    "start_time": "2023-04-29T10:34:15.538Z"
   },
   {
    "duration": 156,
    "start_time": "2023-04-29T10:34:26.588Z"
   },
   {
    "duration": 7,
    "start_time": "2023-04-29T10:34:54.622Z"
   },
   {
    "duration": 9,
    "start_time": "2023-04-29T10:36:58.789Z"
   },
   {
    "duration": 48,
    "start_time": "2023-04-29T10:37:20.455Z"
   },
   {
    "duration": 8,
    "start_time": "2023-04-29T10:37:57.220Z"
   },
   {
    "duration": 434,
    "start_time": "2023-04-29T10:38:13.379Z"
   },
   {
    "duration": 19,
    "start_time": "2023-04-29T10:38:13.814Z"
   },
   {
    "duration": 13,
    "start_time": "2023-04-29T10:38:13.834Z"
   },
   {
    "duration": 8,
    "start_time": "2023-04-29T10:38:13.849Z"
   },
   {
    "duration": 28,
    "start_time": "2023-04-29T10:38:13.872Z"
   },
   {
    "duration": 3,
    "start_time": "2023-04-29T10:38:13.902Z"
   },
   {
    "duration": 14,
    "start_time": "2023-04-29T10:38:13.906Z"
   },
   {
    "duration": 4,
    "start_time": "2023-04-29T10:38:13.921Z"
   },
   {
    "duration": 16,
    "start_time": "2023-04-29T10:38:13.926Z"
   },
   {
    "duration": 4,
    "start_time": "2023-04-29T10:38:13.943Z"
   },
   {
    "duration": 41,
    "start_time": "2023-04-29T10:38:13.949Z"
   },
   {
    "duration": 7,
    "start_time": "2023-04-29T10:38:13.992Z"
   },
   {
    "duration": 6,
    "start_time": "2023-04-29T10:38:14.000Z"
   },
   {
    "duration": 10,
    "start_time": "2023-04-29T10:38:14.008Z"
   },
   {
    "duration": 21,
    "start_time": "2023-04-29T10:38:14.020Z"
   },
   {
    "duration": 38,
    "start_time": "2023-04-29T10:38:14.043Z"
   },
   {
    "duration": 4,
    "start_time": "2023-04-29T10:38:14.082Z"
   },
   {
    "duration": 10,
    "start_time": "2023-04-29T10:38:14.087Z"
   },
   {
    "duration": 4,
    "start_time": "2023-04-29T10:38:14.098Z"
   },
   {
    "duration": 4,
    "start_time": "2023-04-29T10:38:14.104Z"
   },
   {
    "duration": 10,
    "start_time": "2023-04-29T10:38:14.109Z"
   },
   {
    "duration": 462,
    "start_time": "2023-04-29T10:38:14.120Z"
   },
   {
    "duration": 127,
    "start_time": "2023-04-29T10:38:14.584Z"
   },
   {
    "duration": 185,
    "start_time": "2023-04-29T10:38:14.713Z"
   },
   {
    "duration": 58,
    "start_time": "2023-04-29T10:38:14.900Z"
   },
   {
    "duration": 74,
    "start_time": "2023-04-29T10:38:14.959Z"
   },
   {
    "duration": 125,
    "start_time": "2023-04-29T10:47:53.278Z"
   },
   {
    "duration": 195,
    "start_time": "2023-04-29T10:48:07.373Z"
   },
   {
    "duration": 125,
    "start_time": "2023-04-29T10:49:16.592Z"
   },
   {
    "duration": 747,
    "start_time": "2023-04-30T08:12:31.561Z"
   },
   {
    "duration": 26,
    "start_time": "2023-04-30T08:12:32.311Z"
   },
   {
    "duration": 36,
    "start_time": "2023-04-30T08:12:32.339Z"
   },
   {
    "duration": 42,
    "start_time": "2023-04-30T08:12:32.377Z"
   },
   {
    "duration": 45,
    "start_time": "2023-04-30T08:12:32.421Z"
   },
   {
    "duration": 4,
    "start_time": "2023-04-30T08:12:32.468Z"
   },
   {
    "duration": 31,
    "start_time": "2023-04-30T08:12:32.474Z"
   },
   {
    "duration": 31,
    "start_time": "2023-04-30T08:12:32.507Z"
   },
   {
    "duration": 24,
    "start_time": "2023-04-30T08:12:32.540Z"
   },
   {
    "duration": 7,
    "start_time": "2023-04-30T08:12:32.569Z"
   },
   {
    "duration": 87,
    "start_time": "2023-04-30T08:12:32.579Z"
   },
   {
    "duration": 11,
    "start_time": "2023-04-30T08:12:32.668Z"
   },
   {
    "duration": 21,
    "start_time": "2023-04-30T08:12:32.681Z"
   },
   {
    "duration": 28,
    "start_time": "2023-04-30T08:12:32.705Z"
   },
   {
    "duration": 48,
    "start_time": "2023-04-30T08:12:32.735Z"
   },
   {
    "duration": 21,
    "start_time": "2023-04-30T08:12:32.784Z"
   },
   {
    "duration": 4,
    "start_time": "2023-04-30T08:12:32.807Z"
   },
   {
    "duration": 15,
    "start_time": "2023-04-30T08:12:32.813Z"
   },
   {
    "duration": 20,
    "start_time": "2023-04-30T08:12:32.829Z"
   },
   {
    "duration": 5,
    "start_time": "2023-04-30T08:12:32.851Z"
   },
   {
    "duration": 26,
    "start_time": "2023-04-30T08:12:32.857Z"
   },
   {
    "duration": 615,
    "start_time": "2023-04-30T08:12:32.885Z"
   },
   {
    "duration": 159,
    "start_time": "2023-04-30T08:12:33.502Z"
   },
   {
    "duration": 195,
    "start_time": "2023-04-30T08:12:33.663Z"
   },
   {
    "duration": 98,
    "start_time": "2023-04-30T08:12:33.860Z"
   },
   {
    "duration": 99,
    "start_time": "2023-04-30T08:12:33.960Z"
   },
   {
    "duration": 520,
    "start_time": "2023-04-30T08:13:28.405Z"
   },
   {
    "duration": 28,
    "start_time": "2023-04-30T08:13:28.928Z"
   },
   {
    "duration": 36,
    "start_time": "2023-04-30T08:13:28.958Z"
   },
   {
    "duration": 25,
    "start_time": "2023-04-30T08:13:28.996Z"
   },
   {
    "duration": 79,
    "start_time": "2023-04-30T08:13:29.025Z"
   },
   {
    "duration": 5,
    "start_time": "2023-04-30T08:13:29.106Z"
   },
   {
    "duration": 15,
    "start_time": "2023-04-30T08:13:29.113Z"
   },
   {
    "duration": 6,
    "start_time": "2023-04-30T08:13:29.130Z"
   },
   {
    "duration": 22,
    "start_time": "2023-04-30T08:13:29.137Z"
   },
   {
    "duration": 31,
    "start_time": "2023-04-30T08:13:29.161Z"
   },
   {
    "duration": 68,
    "start_time": "2023-04-30T08:13:29.194Z"
   },
   {
    "duration": 12,
    "start_time": "2023-04-30T08:13:29.264Z"
   },
   {
    "duration": 9,
    "start_time": "2023-04-30T08:13:29.279Z"
   },
   {
    "duration": 14,
    "start_time": "2023-04-30T08:13:29.292Z"
   },
   {
    "duration": 42,
    "start_time": "2023-04-30T08:13:29.309Z"
   },
   {
    "duration": 23,
    "start_time": "2023-04-30T08:13:29.353Z"
   },
   {
    "duration": 4,
    "start_time": "2023-04-30T08:13:29.378Z"
   },
   {
    "duration": 25,
    "start_time": "2023-04-30T08:13:29.384Z"
   },
   {
    "duration": 42,
    "start_time": "2023-04-30T08:13:29.411Z"
   },
   {
    "duration": 38,
    "start_time": "2023-04-30T08:13:29.455Z"
   },
   {
    "duration": 28,
    "start_time": "2023-04-30T08:13:29.495Z"
   },
   {
    "duration": 606,
    "start_time": "2023-04-30T08:13:29.526Z"
   },
   {
    "duration": 145,
    "start_time": "2023-04-30T08:13:30.134Z"
   },
   {
    "duration": 223,
    "start_time": "2023-04-30T08:13:30.282Z"
   },
   {
    "duration": 97,
    "start_time": "2023-04-30T08:13:30.507Z"
   },
   {
    "duration": 105,
    "start_time": "2023-04-30T08:13:30.606Z"
   },
   {
    "duration": 499,
    "start_time": "2023-04-30T09:13:22.888Z"
   },
   {
    "duration": 25,
    "start_time": "2023-04-30T09:13:23.389Z"
   },
   {
    "duration": 23,
    "start_time": "2023-04-30T09:13:23.415Z"
   },
   {
    "duration": 13,
    "start_time": "2023-04-30T09:13:23.440Z"
   },
   {
    "duration": 38,
    "start_time": "2023-04-30T09:13:23.455Z"
   },
   {
    "duration": 3,
    "start_time": "2023-04-30T09:13:23.495Z"
   },
   {
    "duration": 34,
    "start_time": "2023-04-30T09:13:23.500Z"
   },
   {
    "duration": 30,
    "start_time": "2023-04-30T09:13:23.535Z"
   },
   {
    "duration": 8,
    "start_time": "2023-04-30T09:13:23.570Z"
   },
   {
    "duration": 7,
    "start_time": "2023-04-30T09:13:23.582Z"
   },
   {
    "duration": 51,
    "start_time": "2023-04-30T09:13:23.591Z"
   },
   {
    "duration": 9,
    "start_time": "2023-04-30T09:13:23.644Z"
   },
   {
    "duration": 14,
    "start_time": "2023-04-30T09:13:23.657Z"
   },
   {
    "duration": 14,
    "start_time": "2023-04-30T09:13:23.673Z"
   },
   {
    "duration": 20,
    "start_time": "2023-04-30T09:13:23.688Z"
   },
   {
    "duration": 22,
    "start_time": "2023-04-30T09:13:23.710Z"
   },
   {
    "duration": 3,
    "start_time": "2023-04-30T09:13:23.734Z"
   },
   {
    "duration": 34,
    "start_time": "2023-04-30T09:13:23.739Z"
   },
   {
    "duration": 6,
    "start_time": "2023-04-30T09:13:23.775Z"
   },
   {
    "duration": 3,
    "start_time": "2023-04-30T09:13:23.783Z"
   },
   {
    "duration": 28,
    "start_time": "2023-04-30T09:13:23.787Z"
   },
   {
    "duration": 770,
    "start_time": "2023-04-30T09:13:23.816Z"
   },
   {
    "duration": 100,
    "start_time": "2023-04-30T09:13:24.587Z"
   },
   {
    "duration": 188,
    "start_time": "2023-04-30T09:13:24.688Z"
   },
   {
    "duration": 91,
    "start_time": "2023-04-30T09:13:24.877Z"
   },
   {
    "duration": 67,
    "start_time": "2023-04-30T09:13:24.970Z"
   },
   {
    "duration": 838,
    "start_time": "2023-05-01T11:41:55.132Z"
   },
   {
    "duration": 19,
    "start_time": "2023-05-01T11:41:55.972Z"
   },
   {
    "duration": 17,
    "start_time": "2023-05-01T11:41:55.993Z"
   },
   {
    "duration": 8,
    "start_time": "2023-05-01T11:41:56.012Z"
   },
   {
    "duration": 42,
    "start_time": "2023-05-01T11:41:56.021Z"
   },
   {
    "duration": 3,
    "start_time": "2023-05-01T11:41:56.065Z"
   },
   {
    "duration": 14,
    "start_time": "2023-05-01T11:41:56.069Z"
   },
   {
    "duration": 7,
    "start_time": "2023-05-01T11:41:56.085Z"
   },
   {
    "duration": 8,
    "start_time": "2023-05-01T11:41:56.093Z"
   },
   {
    "duration": 6,
    "start_time": "2023-05-01T11:41:56.103Z"
   },
   {
    "duration": 54,
    "start_time": "2023-05-01T11:41:56.110Z"
   },
   {
    "duration": 9,
    "start_time": "2023-05-01T11:41:56.165Z"
   },
   {
    "duration": 4,
    "start_time": "2023-05-01T11:41:56.175Z"
   },
   {
    "duration": 13,
    "start_time": "2023-05-01T11:41:56.181Z"
   },
   {
    "duration": 16,
    "start_time": "2023-05-01T11:41:56.196Z"
   },
   {
    "duration": 45,
    "start_time": "2023-05-01T11:41:56.214Z"
   },
   {
    "duration": 4,
    "start_time": "2023-05-01T11:41:56.261Z"
   },
   {
    "duration": 13,
    "start_time": "2023-05-01T11:41:56.266Z"
   },
   {
    "duration": 5,
    "start_time": "2023-05-01T11:41:56.280Z"
   },
   {
    "duration": 3,
    "start_time": "2023-05-01T11:41:56.287Z"
   },
   {
    "duration": 12,
    "start_time": "2023-05-01T11:41:56.291Z"
   },
   {
    "duration": 439,
    "start_time": "2023-05-01T11:41:56.304Z"
   },
   {
    "duration": 190,
    "start_time": "2023-05-01T11:41:56.747Z"
   },
   {
    "duration": 167,
    "start_time": "2023-05-01T11:41:56.940Z"
   },
   {
    "duration": 88,
    "start_time": "2023-05-01T11:41:57.109Z"
   },
   {
    "duration": 70,
    "start_time": "2023-05-01T11:41:57.198Z"
   },
   {
    "duration": 577,
    "start_time": "2023-05-01T11:44:22.612Z"
   },
   {
    "duration": 23,
    "start_time": "2023-05-01T11:44:23.193Z"
   },
   {
    "duration": 31,
    "start_time": "2023-05-01T11:44:23.218Z"
   },
   {
    "duration": 10,
    "start_time": "2023-05-01T11:44:23.252Z"
   },
   {
    "duration": 32,
    "start_time": "2023-05-01T11:44:23.264Z"
   },
   {
    "duration": 4,
    "start_time": "2023-05-01T11:44:23.297Z"
   },
   {
    "duration": 9,
    "start_time": "2023-05-01T11:44:23.302Z"
   },
   {
    "duration": 33,
    "start_time": "2023-05-01T11:44:23.313Z"
   },
   {
    "duration": 7,
    "start_time": "2023-05-01T11:44:23.347Z"
   },
   {
    "duration": 4,
    "start_time": "2023-05-01T11:44:23.356Z"
   },
   {
    "duration": 38,
    "start_time": "2023-05-01T11:44:23.361Z"
   },
   {
    "duration": 8,
    "start_time": "2023-05-01T11:44:23.400Z"
   },
   {
    "duration": 10,
    "start_time": "2023-05-01T11:44:23.409Z"
   },
   {
    "duration": 25,
    "start_time": "2023-05-01T11:44:23.420Z"
   },
   {
    "duration": 21,
    "start_time": "2023-05-01T11:44:23.449Z"
   },
   {
    "duration": 17,
    "start_time": "2023-05-01T11:44:23.472Z"
   },
   {
    "duration": 4,
    "start_time": "2023-05-01T11:44:23.490Z"
   },
   {
    "duration": 16,
    "start_time": "2023-05-01T11:44:23.495Z"
   },
   {
    "duration": 21,
    "start_time": "2023-05-01T11:44:23.513Z"
   },
   {
    "duration": 13,
    "start_time": "2023-05-01T11:44:23.535Z"
   },
   {
    "duration": 13,
    "start_time": "2023-05-01T11:44:23.550Z"
   },
   {
    "duration": 421,
    "start_time": "2023-05-01T11:44:23.565Z"
   },
   {
    "duration": 148,
    "start_time": "2023-05-01T11:44:23.988Z"
   },
   {
    "duration": 146,
    "start_time": "2023-05-01T11:44:24.137Z"
   },
   {
    "duration": 75,
    "start_time": "2023-05-01T11:44:24.285Z"
   },
   {
    "duration": 83,
    "start_time": "2023-05-01T11:44:24.362Z"
   },
   {
    "duration": 1785,
    "start_time": "2023-05-01T11:46:21.448Z"
   },
   {
    "duration": 160,
    "start_time": "2023-05-01T11:46:39.749Z"
   },
   {
    "duration": 558,
    "start_time": "2023-05-01T11:48:54.002Z"
   },
   {
    "duration": 21,
    "start_time": "2023-05-01T11:48:54.562Z"
   },
   {
    "duration": 27,
    "start_time": "2023-05-01T11:48:54.584Z"
   },
   {
    "duration": 11,
    "start_time": "2023-05-01T11:48:54.613Z"
   },
   {
    "duration": 40,
    "start_time": "2023-05-01T11:48:54.626Z"
   },
   {
    "duration": 4,
    "start_time": "2023-05-01T11:48:54.667Z"
   },
   {
    "duration": 11,
    "start_time": "2023-05-01T11:48:54.672Z"
   },
   {
    "duration": 12,
    "start_time": "2023-05-01T11:48:54.685Z"
   },
   {
    "duration": 18,
    "start_time": "2023-05-01T11:48:54.698Z"
   },
   {
    "duration": 4,
    "start_time": "2023-05-01T11:48:54.718Z"
   },
   {
    "duration": 57,
    "start_time": "2023-05-01T11:48:54.723Z"
   },
   {
    "duration": 9,
    "start_time": "2023-05-01T11:48:54.781Z"
   },
   {
    "duration": 5,
    "start_time": "2023-05-01T11:48:54.792Z"
   },
   {
    "duration": 15,
    "start_time": "2023-05-01T11:48:54.799Z"
   },
   {
    "duration": 29,
    "start_time": "2023-05-01T11:48:54.816Z"
   },
   {
    "duration": 17,
    "start_time": "2023-05-01T11:48:54.847Z"
   },
   {
    "duration": 4,
    "start_time": "2023-05-01T11:48:54.865Z"
   },
   {
    "duration": 12,
    "start_time": "2023-05-01T11:48:54.871Z"
   },
   {
    "duration": 5,
    "start_time": "2023-05-01T11:48:54.884Z"
   },
   {
    "duration": 3,
    "start_time": "2023-05-01T11:48:54.890Z"
   },
   {
    "duration": 13,
    "start_time": "2023-05-01T11:48:54.894Z"
   },
   {
    "duration": 375,
    "start_time": "2023-05-01T11:48:54.909Z"
   },
   {
    "duration": 94,
    "start_time": "2023-05-01T11:48:55.286Z"
   },
   {
    "duration": 212,
    "start_time": "2023-05-01T11:48:55.381Z"
   },
   {
    "duration": 77,
    "start_time": "2023-05-01T11:48:55.594Z"
   },
   {
    "duration": 86,
    "start_time": "2023-05-01T11:48:55.673Z"
   },
   {
    "duration": 92,
    "start_time": "2023-05-01T11:49:46.250Z"
   },
   {
    "duration": 208,
    "start_time": "2023-05-01T11:49:56.991Z"
   },
   {
    "duration": 642,
    "start_time": "2023-05-01T11:50:33.635Z"
   },
   {
    "duration": 19,
    "start_time": "2023-05-01T11:50:34.279Z"
   },
   {
    "duration": 14,
    "start_time": "2023-05-01T11:50:34.299Z"
   },
   {
    "duration": 26,
    "start_time": "2023-05-01T11:50:34.314Z"
   },
   {
    "duration": 48,
    "start_time": "2023-05-01T11:50:34.343Z"
   },
   {
    "duration": 3,
    "start_time": "2023-05-01T11:50:34.392Z"
   },
   {
    "duration": 10,
    "start_time": "2023-05-01T11:50:34.396Z"
   },
   {
    "duration": 11,
    "start_time": "2023-05-01T11:50:34.407Z"
   },
   {
    "duration": 10,
    "start_time": "2023-05-01T11:50:34.419Z"
   },
   {
    "duration": 38,
    "start_time": "2023-05-01T11:50:34.431Z"
   },
   {
    "duration": 37,
    "start_time": "2023-05-01T11:50:34.470Z"
   },
   {
    "duration": 10,
    "start_time": "2023-05-01T11:50:34.508Z"
   },
   {
    "duration": 39,
    "start_time": "2023-05-01T11:50:34.519Z"
   },
   {
    "duration": 31,
    "start_time": "2023-05-01T11:50:34.560Z"
   },
   {
    "duration": 21,
    "start_time": "2023-05-01T11:50:34.593Z"
   },
   {
    "duration": 15,
    "start_time": "2023-05-01T11:50:34.615Z"
   },
   {
    "duration": 13,
    "start_time": "2023-05-01T11:50:34.631Z"
   },
   {
    "duration": 43,
    "start_time": "2023-05-01T11:50:34.648Z"
   },
   {
    "duration": 10,
    "start_time": "2023-05-01T11:50:34.692Z"
   },
   {
    "duration": 13,
    "start_time": "2023-05-01T11:50:34.704Z"
   },
   {
    "duration": 35,
    "start_time": "2023-05-01T11:50:34.718Z"
   },
   {
    "duration": 421,
    "start_time": "2023-05-01T11:50:34.755Z"
   },
   {
    "duration": 90,
    "start_time": "2023-05-01T11:50:35.178Z"
   },
   {
    "duration": 309,
    "start_time": "2023-05-01T11:50:35.270Z"
   },
   {
    "duration": 124,
    "start_time": "2023-05-01T11:50:35.581Z"
   },
   {
    "duration": 92,
    "start_time": "2023-05-01T11:50:35.707Z"
   },
   {
    "duration": 149,
    "start_time": "2023-05-01T11:52:08.948Z"
   },
   {
    "duration": 263,
    "start_time": "2023-05-01T11:53:56.923Z"
   },
   {
    "duration": 195,
    "start_time": "2023-05-01T11:54:13.803Z"
   },
   {
    "duration": 82,
    "start_time": "2023-05-01T12:06:09.032Z"
   },
   {
    "duration": 81,
    "start_time": "2023-05-01T12:06:19.881Z"
   },
   {
    "duration": 75,
    "start_time": "2023-05-01T12:06:34.905Z"
   },
   {
    "duration": 80,
    "start_time": "2023-05-01T12:06:54.446Z"
   },
   {
    "duration": 165,
    "start_time": "2023-05-01T12:08:14.983Z"
   },
   {
    "duration": 75,
    "start_time": "2023-05-01T12:08:41.318Z"
   },
   {
    "duration": 555,
    "start_time": "2023-05-01T12:09:10.898Z"
   },
   {
    "duration": 19,
    "start_time": "2023-05-01T12:09:11.455Z"
   },
   {
    "duration": 19,
    "start_time": "2023-05-01T12:09:11.476Z"
   },
   {
    "duration": 15,
    "start_time": "2023-05-01T12:09:11.497Z"
   },
   {
    "duration": 36,
    "start_time": "2023-05-01T12:09:11.514Z"
   },
   {
    "duration": 3,
    "start_time": "2023-05-01T12:09:11.551Z"
   },
   {
    "duration": 14,
    "start_time": "2023-05-01T12:09:11.555Z"
   },
   {
    "duration": 6,
    "start_time": "2023-05-01T12:09:11.570Z"
   },
   {
    "duration": 11,
    "start_time": "2023-05-01T12:09:11.577Z"
   },
   {
    "duration": 4,
    "start_time": "2023-05-01T12:09:11.589Z"
   },
   {
    "duration": 39,
    "start_time": "2023-05-01T12:09:11.594Z"
   },
   {
    "duration": 9,
    "start_time": "2023-05-01T12:09:11.634Z"
   },
   {
    "duration": 5,
    "start_time": "2023-05-01T12:09:11.645Z"
   },
   {
    "duration": 11,
    "start_time": "2023-05-01T12:09:11.652Z"
   },
   {
    "duration": 20,
    "start_time": "2023-05-01T12:09:11.664Z"
   },
   {
    "duration": 15,
    "start_time": "2023-05-01T12:09:11.685Z"
   },
   {
    "duration": 3,
    "start_time": "2023-05-01T12:09:11.701Z"
   },
   {
    "duration": 34,
    "start_time": "2023-05-01T12:09:11.705Z"
   },
   {
    "duration": 5,
    "start_time": "2023-05-01T12:09:11.741Z"
   },
   {
    "duration": 3,
    "start_time": "2023-05-01T12:09:11.748Z"
   },
   {
    "duration": 13,
    "start_time": "2023-05-01T12:09:11.753Z"
   },
   {
    "duration": 380,
    "start_time": "2023-05-01T12:09:11.767Z"
   },
   {
    "duration": 103,
    "start_time": "2023-05-01T12:09:12.149Z"
   },
   {
    "duration": 101,
    "start_time": "2023-05-01T12:09:12.253Z"
   },
   {
    "duration": 0,
    "start_time": "2023-05-01T12:09:12.355Z"
   },
   {
    "duration": 0,
    "start_time": "2023-05-01T12:09:12.356Z"
   },
   {
    "duration": 198,
    "start_time": "2023-05-01T12:11:28.313Z"
   },
   {
    "duration": 309,
    "start_time": "2023-05-01T12:12:05.550Z"
   },
   {
    "duration": 568,
    "start_time": "2023-05-01T12:14:46.872Z"
   },
   {
    "duration": 21,
    "start_time": "2023-05-01T12:14:47.442Z"
   },
   {
    "duration": 14,
    "start_time": "2023-05-01T12:14:47.465Z"
   },
   {
    "duration": 43,
    "start_time": "2023-05-01T12:14:47.480Z"
   },
   {
    "duration": 44,
    "start_time": "2023-05-01T12:14:47.526Z"
   },
   {
    "duration": 12,
    "start_time": "2023-05-01T12:14:47.571Z"
   },
   {
    "duration": 17,
    "start_time": "2023-05-01T12:14:47.584Z"
   },
   {
    "duration": 28,
    "start_time": "2023-05-01T12:14:47.602Z"
   },
   {
    "duration": 44,
    "start_time": "2023-05-01T12:14:47.632Z"
   },
   {
    "duration": 29,
    "start_time": "2023-05-01T12:14:47.677Z"
   },
   {
    "duration": 64,
    "start_time": "2023-05-01T12:14:47.708Z"
   },
   {
    "duration": 19,
    "start_time": "2023-05-01T12:14:47.774Z"
   },
   {
    "duration": 48,
    "start_time": "2023-05-01T12:14:47.795Z"
   },
   {
    "duration": 30,
    "start_time": "2023-05-01T12:14:47.846Z"
   },
   {
    "duration": 47,
    "start_time": "2023-05-01T12:14:47.878Z"
   },
   {
    "duration": 45,
    "start_time": "2023-05-01T12:14:47.926Z"
   },
   {
    "duration": 13,
    "start_time": "2023-05-01T12:14:47.973Z"
   },
   {
    "duration": 55,
    "start_time": "2023-05-01T12:14:47.987Z"
   },
   {
    "duration": 27,
    "start_time": "2023-05-01T12:14:48.044Z"
   },
   {
    "duration": 33,
    "start_time": "2023-05-01T12:14:48.073Z"
   },
   {
    "duration": 32,
    "start_time": "2023-05-01T12:14:48.108Z"
   },
   {
    "duration": 382,
    "start_time": "2023-05-01T12:14:48.142Z"
   },
   {
    "duration": 113,
    "start_time": "2023-05-01T12:14:48.526Z"
   },
   {
    "duration": 186,
    "start_time": "2023-05-01T12:14:48.640Z"
   },
   {
    "duration": 63,
    "start_time": "2023-05-01T12:14:48.833Z"
   },
   {
    "duration": 78,
    "start_time": "2023-05-01T12:14:48.898Z"
   },
   {
    "duration": 193,
    "start_time": "2023-05-01T12:19:59.905Z"
   },
   {
    "duration": 587,
    "start_time": "2023-05-01T12:20:06.251Z"
   },
   {
    "duration": 26,
    "start_time": "2023-05-01T12:20:06.840Z"
   },
   {
    "duration": 18,
    "start_time": "2023-05-01T12:20:06.868Z"
   },
   {
    "duration": 12,
    "start_time": "2023-05-01T12:20:06.889Z"
   },
   {
    "duration": 57,
    "start_time": "2023-05-01T12:20:06.902Z"
   },
   {
    "duration": 4,
    "start_time": "2023-05-01T12:20:06.961Z"
   },
   {
    "duration": 15,
    "start_time": "2023-05-01T12:20:06.967Z"
   },
   {
    "duration": 10,
    "start_time": "2023-05-01T12:20:06.984Z"
   },
   {
    "duration": 22,
    "start_time": "2023-05-01T12:20:06.996Z"
   },
   {
    "duration": 7,
    "start_time": "2023-05-01T12:20:07.022Z"
   },
   {
    "duration": 38,
    "start_time": "2023-05-01T12:20:07.031Z"
   },
   {
    "duration": 9,
    "start_time": "2023-05-01T12:20:07.071Z"
   },
   {
    "duration": 4,
    "start_time": "2023-05-01T12:20:07.081Z"
   },
   {
    "duration": 27,
    "start_time": "2023-05-01T12:20:07.086Z"
   },
   {
    "duration": 18,
    "start_time": "2023-05-01T12:20:07.115Z"
   },
   {
    "duration": 17,
    "start_time": "2023-05-01T12:20:07.134Z"
   },
   {
    "duration": 3,
    "start_time": "2023-05-01T12:20:07.153Z"
   },
   {
    "duration": 13,
    "start_time": "2023-05-01T12:20:07.158Z"
   },
   {
    "duration": 6,
    "start_time": "2023-05-01T12:20:07.174Z"
   },
   {
    "duration": 6,
    "start_time": "2023-05-01T12:20:07.181Z"
   },
   {
    "duration": 11,
    "start_time": "2023-05-01T12:20:07.188Z"
   },
   {
    "duration": 425,
    "start_time": "2023-05-01T12:20:07.201Z"
   },
   {
    "duration": 115,
    "start_time": "2023-05-01T12:20:07.627Z"
   },
   {
    "duration": 196,
    "start_time": "2023-05-01T12:20:07.743Z"
   },
   {
    "duration": 66,
    "start_time": "2023-05-01T12:20:07.940Z"
   },
   {
    "duration": 85,
    "start_time": "2023-05-01T12:20:08.008Z"
   },
   {
    "duration": 592,
    "start_time": "2023-05-01T12:58:51.261Z"
   },
   {
    "duration": 22,
    "start_time": "2023-05-01T12:58:51.855Z"
   },
   {
    "duration": 15,
    "start_time": "2023-05-01T12:58:51.878Z"
   },
   {
    "duration": 9,
    "start_time": "2023-05-01T12:58:51.895Z"
   },
   {
    "duration": 49,
    "start_time": "2023-05-01T12:58:51.905Z"
   },
   {
    "duration": 4,
    "start_time": "2023-05-01T12:58:51.957Z"
   },
   {
    "duration": 26,
    "start_time": "2023-05-01T12:58:51.963Z"
   },
   {
    "duration": 14,
    "start_time": "2023-05-01T12:58:51.991Z"
   },
   {
    "duration": 9,
    "start_time": "2023-05-01T12:58:52.007Z"
   },
   {
    "duration": 5,
    "start_time": "2023-05-01T12:58:52.018Z"
   },
   {
    "duration": 50,
    "start_time": "2023-05-01T12:58:52.024Z"
   },
   {
    "duration": 9,
    "start_time": "2023-05-01T12:58:52.075Z"
   },
   {
    "duration": 13,
    "start_time": "2023-05-01T12:58:52.085Z"
   },
   {
    "duration": 22,
    "start_time": "2023-05-01T12:58:52.099Z"
   },
   {
    "duration": 19,
    "start_time": "2023-05-01T12:58:52.123Z"
   },
   {
    "duration": 18,
    "start_time": "2023-05-01T12:58:52.143Z"
   },
   {
    "duration": 4,
    "start_time": "2023-05-01T12:58:52.164Z"
   },
   {
    "duration": 17,
    "start_time": "2023-05-01T12:58:52.169Z"
   },
   {
    "duration": 5,
    "start_time": "2023-05-01T12:58:52.188Z"
   },
   {
    "duration": 4,
    "start_time": "2023-05-01T12:58:52.194Z"
   },
   {
    "duration": 10,
    "start_time": "2023-05-01T12:58:52.199Z"
   },
   {
    "duration": 418,
    "start_time": "2023-05-01T12:58:52.210Z"
   },
   {
    "duration": 120,
    "start_time": "2023-05-01T12:58:52.630Z"
   },
   {
    "duration": 236,
    "start_time": "2023-05-01T12:58:52.751Z"
   },
   {
    "duration": 91,
    "start_time": "2023-05-01T12:58:52.989Z"
   },
   {
    "duration": 107,
    "start_time": "2023-05-01T12:58:53.082Z"
   },
   {
    "duration": 667,
    "start_time": "2023-05-01T12:59:52.107Z"
   },
   {
    "duration": 23,
    "start_time": "2023-05-01T12:59:52.776Z"
   },
   {
    "duration": 23,
    "start_time": "2023-05-01T12:59:52.801Z"
   },
   {
    "duration": 15,
    "start_time": "2023-05-01T12:59:52.834Z"
   },
   {
    "duration": 48,
    "start_time": "2023-05-01T12:59:52.851Z"
   },
   {
    "duration": 3,
    "start_time": "2023-05-01T12:59:52.901Z"
   },
   {
    "duration": 16,
    "start_time": "2023-05-01T12:59:52.906Z"
   },
   {
    "duration": 10,
    "start_time": "2023-05-01T12:59:52.923Z"
   },
   {
    "duration": 11,
    "start_time": "2023-05-01T12:59:52.935Z"
   },
   {
    "duration": 9,
    "start_time": "2023-05-01T12:59:52.949Z"
   },
   {
    "duration": 49,
    "start_time": "2023-05-01T12:59:52.959Z"
   },
   {
    "duration": 24,
    "start_time": "2023-05-01T12:59:53.009Z"
   },
   {
    "duration": 6,
    "start_time": "2023-05-01T12:59:53.036Z"
   },
   {
    "duration": 29,
    "start_time": "2023-05-01T12:59:53.045Z"
   },
   {
    "duration": 24,
    "start_time": "2023-05-01T12:59:53.075Z"
   },
   {
    "duration": 20,
    "start_time": "2023-05-01T12:59:53.101Z"
   },
   {
    "duration": 14,
    "start_time": "2023-05-01T12:59:53.122Z"
   },
   {
    "duration": 31,
    "start_time": "2023-05-01T12:59:53.138Z"
   },
   {
    "duration": 13,
    "start_time": "2023-05-01T12:59:53.171Z"
   },
   {
    "duration": 4,
    "start_time": "2023-05-01T12:59:53.186Z"
   },
   {
    "duration": 16,
    "start_time": "2023-05-01T12:59:53.192Z"
   },
   {
    "duration": 410,
    "start_time": "2023-05-01T12:59:53.209Z"
   },
   {
    "duration": 140,
    "start_time": "2023-05-01T12:59:53.620Z"
   },
   {
    "duration": 224,
    "start_time": "2023-05-01T12:59:53.762Z"
   },
   {
    "duration": 91,
    "start_time": "2023-05-01T12:59:53.988Z"
   },
   {
    "duration": 96,
    "start_time": "2023-05-01T12:59:54.081Z"
   },
   {
    "duration": 654,
    "start_time": "2023-05-01T13:44:00.848Z"
   },
   {
    "duration": 24,
    "start_time": "2023-05-01T13:44:01.504Z"
   },
   {
    "duration": 37,
    "start_time": "2023-05-01T13:44:01.530Z"
   },
   {
    "duration": 36,
    "start_time": "2023-05-01T13:44:01.570Z"
   },
   {
    "duration": 44,
    "start_time": "2023-05-01T13:44:01.608Z"
   },
   {
    "duration": 7,
    "start_time": "2023-05-01T13:44:01.655Z"
   },
   {
    "duration": 16,
    "start_time": "2023-05-01T13:44:01.664Z"
   },
   {
    "duration": 49,
    "start_time": "2023-05-01T13:44:01.681Z"
   },
   {
    "duration": 22,
    "start_time": "2023-05-01T13:44:01.732Z"
   },
   {
    "duration": 19,
    "start_time": "2023-05-01T13:44:01.757Z"
   },
   {
    "duration": 44,
    "start_time": "2023-05-01T13:44:01.778Z"
   },
   {
    "duration": 16,
    "start_time": "2023-05-01T13:44:01.825Z"
   },
   {
    "duration": 4,
    "start_time": "2023-05-01T13:44:01.844Z"
   },
   {
    "duration": 39,
    "start_time": "2023-05-01T13:44:01.850Z"
   },
   {
    "duration": 30,
    "start_time": "2023-05-01T13:44:01.892Z"
   },
   {
    "duration": 27,
    "start_time": "2023-05-01T13:44:01.924Z"
   },
   {
    "duration": 8,
    "start_time": "2023-05-01T13:44:01.952Z"
   },
   {
    "duration": 20,
    "start_time": "2023-05-01T13:44:01.962Z"
   },
   {
    "duration": 16,
    "start_time": "2023-05-01T13:44:01.984Z"
   },
   {
    "duration": 4,
    "start_time": "2023-05-01T13:44:02.003Z"
   },
   {
    "duration": 16,
    "start_time": "2023-05-01T13:44:02.008Z"
   },
   {
    "duration": 584,
    "start_time": "2023-05-01T13:44:02.025Z"
   },
   {
    "duration": 127,
    "start_time": "2023-05-01T13:44:02.611Z"
   },
   {
    "duration": 275,
    "start_time": "2023-05-01T13:44:02.739Z"
   },
   {
    "duration": 88,
    "start_time": "2023-05-01T13:44:03.016Z"
   },
   {
    "duration": 88,
    "start_time": "2023-05-01T13:44:03.105Z"
   },
   {
    "duration": 657,
    "start_time": "2023-05-01T13:58:28.200Z"
   },
   {
    "duration": 32,
    "start_time": "2023-05-01T13:58:28.860Z"
   },
   {
    "duration": 26,
    "start_time": "2023-05-01T13:58:28.894Z"
   },
   {
    "duration": 16,
    "start_time": "2023-05-01T13:58:28.923Z"
   },
   {
    "duration": 66,
    "start_time": "2023-05-01T13:58:28.941Z"
   },
   {
    "duration": 4,
    "start_time": "2023-05-01T13:58:29.010Z"
   },
   {
    "duration": 22,
    "start_time": "2023-05-01T13:58:29.016Z"
   },
   {
    "duration": 5,
    "start_time": "2023-05-01T13:58:29.040Z"
   },
   {
    "duration": 8,
    "start_time": "2023-05-01T13:58:29.047Z"
   },
   {
    "duration": 13,
    "start_time": "2023-05-01T13:58:29.058Z"
   },
   {
    "duration": 48,
    "start_time": "2023-05-01T13:58:29.091Z"
   },
   {
    "duration": 10,
    "start_time": "2023-05-01T13:58:29.141Z"
   },
   {
    "duration": 7,
    "start_time": "2023-05-01T13:58:29.154Z"
   },
   {
    "duration": 33,
    "start_time": "2023-05-01T13:58:29.162Z"
   },
   {
    "duration": 26,
    "start_time": "2023-05-01T13:58:29.199Z"
   },
   {
    "duration": 18,
    "start_time": "2023-05-01T13:58:29.226Z"
   },
   {
    "duration": 4,
    "start_time": "2023-05-01T13:58:29.247Z"
   },
   {
    "duration": 13,
    "start_time": "2023-05-01T13:58:29.253Z"
   },
   {
    "duration": 23,
    "start_time": "2023-05-01T13:58:29.268Z"
   },
   {
    "duration": 6,
    "start_time": "2023-05-01T13:58:29.293Z"
   },
   {
    "duration": 15,
    "start_time": "2023-05-01T13:58:29.301Z"
   },
   {
    "duration": 623,
    "start_time": "2023-05-01T13:58:29.318Z"
   },
   {
    "duration": 172,
    "start_time": "2023-05-01T13:58:29.942Z"
   },
   {
    "duration": 237,
    "start_time": "2023-05-01T13:58:30.116Z"
   },
   {
    "duration": 96,
    "start_time": "2023-05-01T13:58:30.355Z"
   },
   {
    "duration": 113,
    "start_time": "2023-05-01T13:58:30.453Z"
   },
   {
    "duration": 731,
    "start_time": "2023-05-01T16:42:50.507Z"
   },
   {
    "duration": 27,
    "start_time": "2023-05-01T16:42:51.241Z"
   },
   {
    "duration": 25,
    "start_time": "2023-05-01T16:42:51.270Z"
   },
   {
    "duration": 11,
    "start_time": "2023-05-01T16:42:51.297Z"
   },
   {
    "duration": 40,
    "start_time": "2023-05-01T16:42:51.310Z"
   },
   {
    "duration": 4,
    "start_time": "2023-05-01T16:42:51.352Z"
   },
   {
    "duration": 35,
    "start_time": "2023-05-01T16:42:51.358Z"
   },
   {
    "duration": 38,
    "start_time": "2023-05-01T16:42:51.395Z"
   },
   {
    "duration": 22,
    "start_time": "2023-05-01T16:42:51.436Z"
   },
   {
    "duration": 5,
    "start_time": "2023-05-01T16:42:51.461Z"
   },
   {
    "duration": 51,
    "start_time": "2023-05-01T16:42:51.468Z"
   },
   {
    "duration": 11,
    "start_time": "2023-05-01T16:42:51.520Z"
   },
   {
    "duration": 5,
    "start_time": "2023-05-01T16:42:51.533Z"
   },
   {
    "duration": 18,
    "start_time": "2023-05-01T16:42:51.542Z"
   },
   {
    "duration": 50,
    "start_time": "2023-05-01T16:42:51.562Z"
   },
   {
    "duration": 22,
    "start_time": "2023-05-01T16:42:51.615Z"
   },
   {
    "duration": 5,
    "start_time": "2023-05-01T16:42:51.639Z"
   },
   {
    "duration": 25,
    "start_time": "2023-05-01T16:42:51.647Z"
   },
   {
    "duration": 21,
    "start_time": "2023-05-01T16:42:51.674Z"
   },
   {
    "duration": 7,
    "start_time": "2023-05-01T16:42:51.697Z"
   },
   {
    "duration": 21,
    "start_time": "2023-05-01T16:42:51.706Z"
   },
   {
    "duration": 545,
    "start_time": "2023-05-01T16:42:51.729Z"
   },
   {
    "duration": 137,
    "start_time": "2023-05-01T16:42:52.276Z"
   },
   {
    "duration": 256,
    "start_time": "2023-05-01T16:42:52.415Z"
   },
   {
    "duration": 120,
    "start_time": "2023-05-01T16:42:52.674Z"
   },
   {
    "duration": 120,
    "start_time": "2023-05-01T16:42:52.797Z"
   }
  ],
  "colab": {
   "provenance": []
  },
  "kernelspec": {
   "display_name": "Python 3 (ipykernel)",
   "language": "python",
   "name": "python3"
  },
  "language_info": {
   "codemirror_mode": {
    "name": "ipython",
    "version": 3
   },
   "file_extension": ".py",
   "mimetype": "text/x-python",
   "name": "python",
   "nbconvert_exporter": "python",
   "pygments_lexer": "ipython3",
   "version": "3.10.9"
  },
  "toc": {
   "base_numbering": 1,
   "nav_menu": {},
   "number_sections": true,
   "sideBar": true,
   "skip_h1_title": true,
   "title_cell": "Table of Contents",
   "title_sidebar": "Contents",
   "toc_cell": false,
   "toc_position": {
    "height": "calc(100% - 180px)",
    "left": "10px",
    "top": "150px",
    "width": "165px"
   },
   "toc_section_display": true,
   "toc_window_display": true
  }
 },
 "nbformat": 4,
 "nbformat_minor": 5
}
