{
 "cells": [
  {
   "cell_type": "markdown",
   "id": "d452ed9c",
   "metadata": {
    "deletable": false,
    "editable": false,
    "movable": false,
    "tags": [
     "made by github.com/sergeimars"
    ]
   },
   "source": [
    "<div class=\"pull-right\">\n",
    "    made by\n",
    "    <a href=https://github.com/sergeimars title=sergeimars>sergeimars</a>\n",
    "</div>"
   ]
  },
  {
   "cell_type": "markdown",
   "id": "386f2ae7",
   "metadata": {
 "deletable": false,
 "editable": false,
 "movable": false,
 "tags": [
  "made by github.com/sergeimars"
 ]
},
   "source": [
    "# Исследование надежности заемщиков\n"
   ]
  },
  {
   "cell_type": "markdown",
   "id": "b83e0b80",
   "metadata": {
 "deletable": false,
 "editable": false,
 "movable": false,
 "tags": [
  "made by github.com/sergeimars"
 ]
},
   "source": [
    "**Цель:** Нужно разобраться, влияет ли семейное положение и количество детей клиента на факт погашения кредита в срок.\n",
    "\n",
    "**Входные данные от банка:** статистика о платёжеспособности клиентов.\n",
    "  \n",
    "Результаты исследования будут учтены при построении модели кредитного скоринга — специальной системы, которая оценивает способность потенциального заёмщика вернуть кредит банку.\n",
    "\n",
    "**Ключевые вопросы исследования:**\n",
    "  \n",
    "- Есть ли зависимость между количеством детей и возвратом кредита в срок?\n",
    "- Есть ли зависимость между семейным положением и возвратом кредита в срок?\n",
    "- Есть ли зависимость между уровнем дохода и возвратом кредита в срок?\n",
    "- Как разные цели кредита влияют на его возврат в срок?\n",
    "  \n",
    "**План работы:**\n",
    "- изучить данные;\n",
    "- предобработка и категоризация;\n",
    "- проверка гипотез, вытекающих из основных вопросов исследования;\n",
    "- выводы по результатам исследования."
   ]
  },
  {
   "cell_type": "markdown",
   "id": "26613308",
   "metadata": {
 "deletable": false,
 "editable": false,
 "movable": false,
 "tags": [
  "made by github.com/sergeimars"
 ]
},
   "source": [
    "## Откроем таблицу и изучим общую информацию о данных"
   ]
  },
  {
   "cell_type": "code",
   "execution_count": 1,
   "id": "77a68a90",
   "metadata": {
 "deletable": false,
 "editable": false,
 "movable": false,
 "tags": [
  "made by github.com/sergeimars"
 ]
},
   "outputs": [
    {
     "name": "stdout",
     "output_type": "stream",
     "text": [
      "Данные загружены успешно!\n"
     ]
    }
   ],
   "source": [
    "import pandas as pd\n",
    "import matplotlib.pyplot as plt\n",
    "import matplotlib as mpl\n",
    "\n",
    "try:\n",
    "    data = pd.read_csv('data.csv')\n",
    "except:\n",
    "    print('Не получилось, нужно проверить адрес')\n",
    "else:\n",
    "    print('Данные загружены успешно!')"
   ]
  },
  {
   "cell_type": "markdown",
   "id": "45365635",
   "metadata": {
 "deletable": false,
 "editable": false,
 "movable": false,
 "tags": [
  "made by github.com/sergeimars"
 ]
},
   "source": [
    "Выведем первые 20 строчек датафрейма `data` на экран."
   ]
  },
  {
   "cell_type": "code",
   "execution_count": 2,
   "id": "b0451a9a",
   "metadata": {
 "deletable": false,
 "editable": false,
 "movable": false,
 "tags": [
  "made by github.com/sergeimars"
 ]
},
   "outputs": [
    {
     "data": {
      "text/html": [
       "<div>\n",
       "<style scoped>\n",
       "    .dataframe tbody tr th:only-of-type {\n",
       "        vertical-align: middle;\n",
       "    }\n",
       "\n",
       "    .dataframe tbody tr th {\n",
       "        vertical-align: top;\n",
       "    }\n",
       "\n",
       "    .dataframe thead th {\n",
       "        text-align: right;\n",
       "    }\n",
       "</style>\n",
       "<table border=\"1\" class=\"dataframe\">\n",
       "  <thead>\n",
       "    <tr style=\"text-align: right;\">\n",
       "      <th></th>\n",
       "      <th>children</th>\n",
       "      <th>days_employed</th>\n",
       "      <th>dob_years</th>\n",
       "      <th>education</th>\n",
       "      <th>education_id</th>\n",
       "      <th>family_status</th>\n",
       "      <th>family_status_id</th>\n",
       "      <th>gender</th>\n",
       "      <th>income_type</th>\n",
       "      <th>debt</th>\n",
       "      <th>total_income</th>\n",
       "      <th>purpose</th>\n",
       "    </tr>\n",
       "  </thead>\n",
       "  <tbody>\n",
       "    <tr>\n",
       "      <th>0</th>\n",
       "      <td>1</td>\n",
       "      <td>-8437.673028</td>\n",
       "      <td>42</td>\n",
       "      <td>высшее</td>\n",
       "      <td>0</td>\n",
       "      <td>женат / замужем</td>\n",
       "      <td>0</td>\n",
       "      <td>F</td>\n",
       "      <td>сотрудник</td>\n",
       "      <td>0</td>\n",
       "      <td>253875.639453</td>\n",
       "      <td>покупка жилья</td>\n",
       "    </tr>\n",
       "    <tr>\n",
       "      <th>1</th>\n",
       "      <td>1</td>\n",
       "      <td>-4024.803754</td>\n",
       "      <td>36</td>\n",
       "      <td>среднее</td>\n",
       "      <td>1</td>\n",
       "      <td>женат / замужем</td>\n",
       "      <td>0</td>\n",
       "      <td>F</td>\n",
       "      <td>сотрудник</td>\n",
       "      <td>0</td>\n",
       "      <td>112080.014102</td>\n",
       "      <td>приобретение автомобиля</td>\n",
       "    </tr>\n",
       "    <tr>\n",
       "      <th>2</th>\n",
       "      <td>0</td>\n",
       "      <td>-5623.422610</td>\n",
       "      <td>33</td>\n",
       "      <td>Среднее</td>\n",
       "      <td>1</td>\n",
       "      <td>женат / замужем</td>\n",
       "      <td>0</td>\n",
       "      <td>M</td>\n",
       "      <td>сотрудник</td>\n",
       "      <td>0</td>\n",
       "      <td>145885.952297</td>\n",
       "      <td>покупка жилья</td>\n",
       "    </tr>\n",
       "    <tr>\n",
       "      <th>3</th>\n",
       "      <td>3</td>\n",
       "      <td>-4124.747207</td>\n",
       "      <td>32</td>\n",
       "      <td>среднее</td>\n",
       "      <td>1</td>\n",
       "      <td>женат / замужем</td>\n",
       "      <td>0</td>\n",
       "      <td>M</td>\n",
       "      <td>сотрудник</td>\n",
       "      <td>0</td>\n",
       "      <td>267628.550329</td>\n",
       "      <td>дополнительное образование</td>\n",
       "    </tr>\n",
       "    <tr>\n",
       "      <th>4</th>\n",
       "      <td>0</td>\n",
       "      <td>340266.072047</td>\n",
       "      <td>53</td>\n",
       "      <td>среднее</td>\n",
       "      <td>1</td>\n",
       "      <td>гражданский брак</td>\n",
       "      <td>1</td>\n",
       "      <td>F</td>\n",
       "      <td>пенсионер</td>\n",
       "      <td>0</td>\n",
       "      <td>158616.077870</td>\n",
       "      <td>сыграть свадьбу</td>\n",
       "    </tr>\n",
       "    <tr>\n",
       "      <th>5</th>\n",
       "      <td>0</td>\n",
       "      <td>-926.185831</td>\n",
       "      <td>27</td>\n",
       "      <td>высшее</td>\n",
       "      <td>0</td>\n",
       "      <td>гражданский брак</td>\n",
       "      <td>1</td>\n",
       "      <td>M</td>\n",
       "      <td>компаньон</td>\n",
       "      <td>0</td>\n",
       "      <td>255763.565419</td>\n",
       "      <td>покупка жилья</td>\n",
       "    </tr>\n",
       "    <tr>\n",
       "      <th>6</th>\n",
       "      <td>0</td>\n",
       "      <td>-2879.202052</td>\n",
       "      <td>43</td>\n",
       "      <td>высшее</td>\n",
       "      <td>0</td>\n",
       "      <td>женат / замужем</td>\n",
       "      <td>0</td>\n",
       "      <td>F</td>\n",
       "      <td>компаньон</td>\n",
       "      <td>0</td>\n",
       "      <td>240525.971920</td>\n",
       "      <td>операции с жильем</td>\n",
       "    </tr>\n",
       "    <tr>\n",
       "      <th>7</th>\n",
       "      <td>0</td>\n",
       "      <td>-152.779569</td>\n",
       "      <td>50</td>\n",
       "      <td>СРЕДНЕЕ</td>\n",
       "      <td>1</td>\n",
       "      <td>женат / замужем</td>\n",
       "      <td>0</td>\n",
       "      <td>M</td>\n",
       "      <td>сотрудник</td>\n",
       "      <td>0</td>\n",
       "      <td>135823.934197</td>\n",
       "      <td>образование</td>\n",
       "    </tr>\n",
       "    <tr>\n",
       "      <th>8</th>\n",
       "      <td>2</td>\n",
       "      <td>-6929.865299</td>\n",
       "      <td>35</td>\n",
       "      <td>ВЫСШЕЕ</td>\n",
       "      <td>0</td>\n",
       "      <td>гражданский брак</td>\n",
       "      <td>1</td>\n",
       "      <td>F</td>\n",
       "      <td>сотрудник</td>\n",
       "      <td>0</td>\n",
       "      <td>95856.832424</td>\n",
       "      <td>на проведение свадьбы</td>\n",
       "    </tr>\n",
       "    <tr>\n",
       "      <th>9</th>\n",
       "      <td>0</td>\n",
       "      <td>-2188.756445</td>\n",
       "      <td>41</td>\n",
       "      <td>среднее</td>\n",
       "      <td>1</td>\n",
       "      <td>женат / замужем</td>\n",
       "      <td>0</td>\n",
       "      <td>M</td>\n",
       "      <td>сотрудник</td>\n",
       "      <td>0</td>\n",
       "      <td>144425.938277</td>\n",
       "      <td>покупка жилья для семьи</td>\n",
       "    </tr>\n",
       "    <tr>\n",
       "      <th>10</th>\n",
       "      <td>2</td>\n",
       "      <td>-4171.483647</td>\n",
       "      <td>36</td>\n",
       "      <td>высшее</td>\n",
       "      <td>0</td>\n",
       "      <td>женат / замужем</td>\n",
       "      <td>0</td>\n",
       "      <td>M</td>\n",
       "      <td>компаньон</td>\n",
       "      <td>0</td>\n",
       "      <td>113943.491460</td>\n",
       "      <td>покупка недвижимости</td>\n",
       "    </tr>\n",
       "    <tr>\n",
       "      <th>11</th>\n",
       "      <td>0</td>\n",
       "      <td>-792.701887</td>\n",
       "      <td>40</td>\n",
       "      <td>среднее</td>\n",
       "      <td>1</td>\n",
       "      <td>женат / замужем</td>\n",
       "      <td>0</td>\n",
       "      <td>F</td>\n",
       "      <td>сотрудник</td>\n",
       "      <td>0</td>\n",
       "      <td>77069.234271</td>\n",
       "      <td>покупка коммерческой недвижимости</td>\n",
       "    </tr>\n",
       "    <tr>\n",
       "      <th>12</th>\n",
       "      <td>0</td>\n",
       "      <td>NaN</td>\n",
       "      <td>65</td>\n",
       "      <td>среднее</td>\n",
       "      <td>1</td>\n",
       "      <td>гражданский брак</td>\n",
       "      <td>1</td>\n",
       "      <td>M</td>\n",
       "      <td>пенсионер</td>\n",
       "      <td>0</td>\n",
       "      <td>NaN</td>\n",
       "      <td>сыграть свадьбу</td>\n",
       "    </tr>\n",
       "    <tr>\n",
       "      <th>13</th>\n",
       "      <td>0</td>\n",
       "      <td>-1846.641941</td>\n",
       "      <td>54</td>\n",
       "      <td>неоконченное высшее</td>\n",
       "      <td>2</td>\n",
       "      <td>женат / замужем</td>\n",
       "      <td>0</td>\n",
       "      <td>F</td>\n",
       "      <td>сотрудник</td>\n",
       "      <td>0</td>\n",
       "      <td>130458.228857</td>\n",
       "      <td>приобретение автомобиля</td>\n",
       "    </tr>\n",
       "    <tr>\n",
       "      <th>14</th>\n",
       "      <td>0</td>\n",
       "      <td>-1844.956182</td>\n",
       "      <td>56</td>\n",
       "      <td>высшее</td>\n",
       "      <td>0</td>\n",
       "      <td>гражданский брак</td>\n",
       "      <td>1</td>\n",
       "      <td>F</td>\n",
       "      <td>компаньон</td>\n",
       "      <td>1</td>\n",
       "      <td>165127.911772</td>\n",
       "      <td>покупка жилой недвижимости</td>\n",
       "    </tr>\n",
       "    <tr>\n",
       "      <th>15</th>\n",
       "      <td>1</td>\n",
       "      <td>-972.364419</td>\n",
       "      <td>26</td>\n",
       "      <td>среднее</td>\n",
       "      <td>1</td>\n",
       "      <td>женат / замужем</td>\n",
       "      <td>0</td>\n",
       "      <td>F</td>\n",
       "      <td>сотрудник</td>\n",
       "      <td>0</td>\n",
       "      <td>116820.904450</td>\n",
       "      <td>строительство собственной недвижимости</td>\n",
       "    </tr>\n",
       "    <tr>\n",
       "      <th>16</th>\n",
       "      <td>0</td>\n",
       "      <td>-1719.934226</td>\n",
       "      <td>35</td>\n",
       "      <td>среднее</td>\n",
       "      <td>1</td>\n",
       "      <td>женат / замужем</td>\n",
       "      <td>0</td>\n",
       "      <td>F</td>\n",
       "      <td>сотрудник</td>\n",
       "      <td>0</td>\n",
       "      <td>289202.704229</td>\n",
       "      <td>недвижимость</td>\n",
       "    </tr>\n",
       "    <tr>\n",
       "      <th>17</th>\n",
       "      <td>0</td>\n",
       "      <td>-2369.999720</td>\n",
       "      <td>33</td>\n",
       "      <td>высшее</td>\n",
       "      <td>0</td>\n",
       "      <td>гражданский брак</td>\n",
       "      <td>1</td>\n",
       "      <td>M</td>\n",
       "      <td>сотрудник</td>\n",
       "      <td>0</td>\n",
       "      <td>90410.586745</td>\n",
       "      <td>строительство недвижимости</td>\n",
       "    </tr>\n",
       "    <tr>\n",
       "      <th>18</th>\n",
       "      <td>0</td>\n",
       "      <td>400281.136913</td>\n",
       "      <td>53</td>\n",
       "      <td>среднее</td>\n",
       "      <td>1</td>\n",
       "      <td>вдовец / вдова</td>\n",
       "      <td>2</td>\n",
       "      <td>F</td>\n",
       "      <td>пенсионер</td>\n",
       "      <td>0</td>\n",
       "      <td>56823.777243</td>\n",
       "      <td>на покупку подержанного автомобиля</td>\n",
       "    </tr>\n",
       "    <tr>\n",
       "      <th>19</th>\n",
       "      <td>0</td>\n",
       "      <td>-10038.818549</td>\n",
       "      <td>48</td>\n",
       "      <td>СРЕДНЕЕ</td>\n",
       "      <td>1</td>\n",
       "      <td>в разводе</td>\n",
       "      <td>3</td>\n",
       "      <td>F</td>\n",
       "      <td>сотрудник</td>\n",
       "      <td>0</td>\n",
       "      <td>242831.107982</td>\n",
       "      <td>на покупку своего автомобиля</td>\n",
       "    </tr>\n",
       "  </tbody>\n",
       "</table>\n",
       "</div>"
      ],
      "text/plain": [
       "    children  days_employed  dob_years            education  education_id  \\\n",
       "0          1   -8437.673028         42               высшее             0   \n",
       "1          1   -4024.803754         36              среднее             1   \n",
       "2          0   -5623.422610         33              Среднее             1   \n",
       "3          3   -4124.747207         32              среднее             1   \n",
       "4          0  340266.072047         53              среднее             1   \n",
       "5          0    -926.185831         27               высшее             0   \n",
       "6          0   -2879.202052         43               высшее             0   \n",
       "7          0    -152.779569         50              СРЕДНЕЕ             1   \n",
       "8          2   -6929.865299         35               ВЫСШЕЕ             0   \n",
       "9          0   -2188.756445         41              среднее             1   \n",
       "10         2   -4171.483647         36               высшее             0   \n",
       "11         0    -792.701887         40              среднее             1   \n",
       "12         0            NaN         65              среднее             1   \n",
       "13         0   -1846.641941         54  неоконченное высшее             2   \n",
       "14         0   -1844.956182         56               высшее             0   \n",
       "15         1    -972.364419         26              среднее             1   \n",
       "16         0   -1719.934226         35              среднее             1   \n",
       "17         0   -2369.999720         33               высшее             0   \n",
       "18         0  400281.136913         53              среднее             1   \n",
       "19         0  -10038.818549         48              СРЕДНЕЕ             1   \n",
       "\n",
       "       family_status  family_status_id gender income_type  debt  \\\n",
       "0    женат / замужем                 0      F   сотрудник     0   \n",
       "1    женат / замужем                 0      F   сотрудник     0   \n",
       "2    женат / замужем                 0      M   сотрудник     0   \n",
       "3    женат / замужем                 0      M   сотрудник     0   \n",
       "4   гражданский брак                 1      F   пенсионер     0   \n",
       "5   гражданский брак                 1      M   компаньон     0   \n",
       "6    женат / замужем                 0      F   компаньон     0   \n",
       "7    женат / замужем                 0      M   сотрудник     0   \n",
       "8   гражданский брак                 1      F   сотрудник     0   \n",
       "9    женат / замужем                 0      M   сотрудник     0   \n",
       "10   женат / замужем                 0      M   компаньон     0   \n",
       "11   женат / замужем                 0      F   сотрудник     0   \n",
       "12  гражданский брак                 1      M   пенсионер     0   \n",
       "13   женат / замужем                 0      F   сотрудник     0   \n",
       "14  гражданский брак                 1      F   компаньон     1   \n",
       "15   женат / замужем                 0      F   сотрудник     0   \n",
       "16   женат / замужем                 0      F   сотрудник     0   \n",
       "17  гражданский брак                 1      M   сотрудник     0   \n",
       "18    вдовец / вдова                 2      F   пенсионер     0   \n",
       "19         в разводе                 3      F   сотрудник     0   \n",
       "\n",
       "     total_income                                 purpose  \n",
       "0   253875.639453                           покупка жилья  \n",
       "1   112080.014102                 приобретение автомобиля  \n",
       "2   145885.952297                           покупка жилья  \n",
       "3   267628.550329              дополнительное образование  \n",
       "4   158616.077870                         сыграть свадьбу  \n",
       "5   255763.565419                           покупка жилья  \n",
       "6   240525.971920                       операции с жильем  \n",
       "7   135823.934197                             образование  \n",
       "8    95856.832424                   на проведение свадьбы  \n",
       "9   144425.938277                 покупка жилья для семьи  \n",
       "10  113943.491460                    покупка недвижимости  \n",
       "11   77069.234271       покупка коммерческой недвижимости  \n",
       "12            NaN                         сыграть свадьбу  \n",
       "13  130458.228857                 приобретение автомобиля  \n",
       "14  165127.911772              покупка жилой недвижимости  \n",
       "15  116820.904450  строительство собственной недвижимости  \n",
       "16  289202.704229                            недвижимость  \n",
       "17   90410.586745              строительство недвижимости  \n",
       "18   56823.777243      на покупку подержанного автомобиля  \n",
       "19  242831.107982            на покупку своего автомобиля  "
      ]
     },
     "execution_count": 2,
     "metadata": {
 "deletable": false,
 "editable": false,
 "movable": false,
 "tags": [
  "made by github.com/sergeimars"
 ]
},
     "output_type": "execute_result"
    }
   ],
   "source": [
    "data.head(20)"
   ]
  },
  {
   "cell_type": "markdown",
   "id": "0ed8f27f",
   "metadata": {
 "deletable": false,
 "editable": false,
 "movable": false,
 "tags": [
  "made by github.com/sergeimars"
 ]
},
   "source": [
    "Выведем основную информацию о датафрейме с помощью метода `info()`."
   ]
  },
  {
   "cell_type": "code",
   "execution_count": 3,
   "id": "ab3f863b",
   "metadata": {
 "deletable": false,
 "editable": false,
 "movable": false,
 "tags": [
  "made by github.com/sergeimars"
 ]
},
   "outputs": [
    {
     "name": "stdout",
     "output_type": "stream",
     "text": [
      "<class 'pandas.core.frame.DataFrame'>\n",
      "RangeIndex: 21525 entries, 0 to 21524\n",
      "Data columns (total 12 columns):\n",
      " #   Column            Non-Null Count  Dtype  \n",
      "---  ------            --------------  -----  \n",
      " 0   children          21525 non-null  int64  \n",
      " 1   days_employed     19351 non-null  float64\n",
      " 2   dob_years         21525 non-null  int64  \n",
      " 3   education         21525 non-null  object \n",
      " 4   education_id      21525 non-null  int64  \n",
      " 5   family_status     21525 non-null  object \n",
      " 6   family_status_id  21525 non-null  int64  \n",
      " 7   gender            21525 non-null  object \n",
      " 8   income_type       21525 non-null  object \n",
      " 9   debt              21525 non-null  int64  \n",
      " 10  total_income      19351 non-null  float64\n",
      " 11  purpose           21525 non-null  object \n",
      "dtypes: float64(2), int64(5), object(5)\n",
      "memory usage: 2.0+ MB\n"
     ]
    }
   ],
   "source": [
    "data.info()"
   ]
  },
  {
   "cell_type": "markdown",
   "id": "96adc9d5",
   "metadata": {
 "deletable": false,
 "editable": false,
 "movable": false,
 "tags": [
  "made by github.com/sergeimars"
 ]
},
   "source": [
    "Итак, имеем датафрейм из 12 колонок и более 21,5 строк с информацией о клиентах, в том числе количество детей, стаж, дата рождения, образование, семейный статус, пол, вид дохода, задолженность, сумма дохода и цель привлечения кредита"
   ]
  },
  {
   "cell_type": "markdown",
   "id": "60e3e22d",
   "metadata": {
 "deletable": false,
 "editable": false,
 "movable": false,
 "tags": [
  "made by github.com/sergeimars"
 ]
},
   "source": [
    "## Предобработка данных"
   ]
  },
  {
   "cell_type": "markdown",
   "id": "03dc170c",
   "metadata": {
 "deletable": false,
 "editable": false,
 "movable": false,
 "tags": [
  "made by github.com/sergeimars"
 ]
},
   "source": [
    "### Удаление пропусков"
   ]
  },
  {
   "cell_type": "markdown",
   "id": "a4f54eef",
   "metadata": {
 "deletable": false,
 "editable": false,
 "movable": false,
 "tags": [
  "made by github.com/sergeimars"
 ]
},
   "source": [
    "Выведем количество пропущенных значений для каждого столбца."
   ]
  },
  {
   "cell_type": "code",
   "execution_count": 4,
   "id": "2dc372b2",
   "metadata": {
 "deletable": false,
 "editable": false,
 "movable": false,
 "tags": [
  "made by github.com/sergeimars"
 ]
},
   "outputs": [
    {
     "data": {
      "text/plain": [
       "children               0\n",
       "days_employed       2174\n",
       "dob_years              0\n",
       "education              0\n",
       "education_id           0\n",
       "family_status          0\n",
       "family_status_id       0\n",
       "gender                 0\n",
       "income_type            0\n",
       "debt                   0\n",
       "total_income        2174\n",
       "purpose                0\n",
       "dtype: int64"
      ]
     },
     "execution_count": 4,
     "metadata": {
 "deletable": false,
 "editable": false,
 "movable": false,
 "tags": [
  "made by github.com/sergeimars"
 ]
},
     "output_type": "execute_result"
    }
   ],
   "source": [
    "data.isna().sum()"
   ]
  },
  {
   "cell_type": "markdown",
   "id": "14f011b1",
   "metadata": {
 "deletable": false,
 "editable": false,
 "movable": false,
 "tags": [
  "made by github.com/sergeimars"
 ]
},
   "source": [
    "В двух столбцах есть пропущенные значения. Один из них — `days_employed`.  \n",
    "Пропуски в этом столбце мы обработаем на следующем этапе.\n",
    "  \n",
    "Другой столбец с пропущенными значениями — `total_income` — хранит данные о доходах. На сумму дохода сильнее всего влияет тип занятости, поэтому заполнить пропуски в этом столбце нужно медианным значением по каждому типу из столбца `income_type`."
   ]
  },
  {
   "cell_type": "code",
   "execution_count": 5,
   "id": "bdabfb6e",
   "metadata": {
 "deletable": false,
 "editable": false,
 "movable": false,
 "tags": [
  "made by github.com/sergeimars"
 ]
},
   "outputs": [],
   "source": [
    "for t in data['income_type'].unique():\n",
    "    data.loc[(data['income_type'] == t) & (data['total_income'].isna()), 'total_income'] = \\\n",
    "    data.loc[(data['income_type'] == t), 'total_income'].median()"
   ]
  },
  {
   "cell_type": "markdown",
   "id": "5be34059",
   "metadata": {
 "deletable": false,
 "editable": false,
 "movable": false,
 "tags": [
  "made by github.com/sergeimars"
 ]
},
   "source": [
    "### Обработка аномальных значений"
   ]
  },
  {
   "cell_type": "markdown",
   "id": "a87606cb",
   "metadata": {
 "deletable": false,
 "editable": false,
 "movable": false,
 "tags": [
  "made by github.com/sergeimars"
 ]
},
   "source": [
    "Обработаем значения в столбце `days_employed`: заменим все отрицательные значения положительными с помощью метода `abs()`."
   ]
  },
  {
   "cell_type": "code",
   "execution_count": 6,
   "id": "020c46cc",
   "metadata": {
 "deletable": false,
 "editable": false,
 "movable": false,
 "tags": [
  "made by github.com/sergeimars"
 ]
},
   "outputs": [],
   "source": [
    "data['days_employed'] = data['days_employed'].abs()"
   ]
  },
  {
   "cell_type": "markdown",
   "id": "45538a3a",
   "metadata": {
 "deletable": false,
 "editable": false,
 "movable": false,
 "tags": [
  "made by github.com/sergeimars"
 ]
},
   "source": [
    "Для каждого типа занятости выведем медианное значение трудового стажа `days_employed` в днях."
   ]
  },
  {
   "cell_type": "code",
   "execution_count": 7,
   "id": "cd3e6328",
   "metadata": {
 "deletable": false,
 "editable": false,
 "movable": false,
 "tags": [
  "made by github.com/sergeimars"
 ]
},
   "outputs": [
    {
     "data": {
      "text/plain": [
       "income_type\n",
       "безработный        366413.652744\n",
       "в декрете            3296.759962\n",
       "госслужащий          2689.368353\n",
       "компаньон            1547.382223\n",
       "пенсионер          365213.306266\n",
       "предприниматель       520.848083\n",
       "сотрудник            1574.202821\n",
       "студент               578.751554\n",
       "Name: days_employed, dtype: float64"
      ]
     },
     "execution_count": 7,
     "metadata": {
 "deletable": false,
 "editable": false,
 "movable": false,
 "tags": [
  "made by github.com/sergeimars"
 ]
},
     "output_type": "execute_result"
    }
   ],
   "source": [
    "data.groupby('income_type')['days_employed'].agg('median')"
   ]
  },
  {
   "cell_type": "markdown",
   "id": "90c5f058",
   "metadata": {
 "deletable": false,
 "editable": false,
 "movable": false,
 "tags": [
  "made by github.com/sergeimars"
 ]
},
   "source": [
    "У двух типов (безработные и пенсионеры) получатся аномально большие значения. Исправить такие значения сложно, поэтому оставим их как есть."
   ]
  },
  {
   "cell_type": "markdown",
   "id": "9652e50d",
   "metadata": {
 "deletable": false,
 "editable": false,
 "movable": false,
 "tags": [
  "made by github.com/sergeimars"
 ]
},
   "source": [
    "Выведием перечень уникальных значений столбца `children`."
   ]
  },
  {
   "cell_type": "code",
   "execution_count": 8,
   "id": "dbb37b8e",
   "metadata": {
 "deletable": false,
 "editable": false,
 "movable": false,
 "tags": [
  "made by github.com/sergeimars"
 ]
},
   "outputs": [
    {
     "data": {
      "text/plain": [
       "array([ 1,  0,  3,  2, -1,  4, 20,  5])"
      ]
     },
     "execution_count": 8,
     "metadata": {
 "deletable": false,
 "editable": false,
 "movable": false,
 "tags": [
  "made by github.com/sergeimars"
 ]
},
     "output_type": "execute_result"
    }
   ],
   "source": [
    "data['children'].unique()"
   ]
  },
  {
   "cell_type": "markdown",
   "id": "2b8b0715",
   "metadata": {
 "deletable": false,
 "editable": false,
 "movable": false,
 "tags": [
  "made by github.com/sergeimars"
 ]
},
   "source": [
    "В столбце `children` есть два аномальных значения. Удалим строки, в которых встречаются такие аномальные значения из датафрейма `data`."
   ]
  },
  {
   "cell_type": "code",
   "execution_count": 9,
   "id": "20009df8",
   "metadata": {
 "deletable": false,
 "editable": false,
 "movable": false,
 "tags": [
  "made by github.com/sergeimars"
 ]
},
   "outputs": [],
   "source": [
    "data = data[(data['children'] != -1) & (data['children'] != 20)]"
   ]
  },
  {
   "cell_type": "markdown",
   "id": "8c6ac9f1",
   "metadata": {
 "deletable": false,
 "editable": false,
 "movable": false,
 "tags": [
  "made by github.com/sergeimars"
 ]
},
   "source": [
    "Ещё раз выведем перечень уникальных значений столбца `children`, чтобы убедиться, что артефакты удалены."
   ]
  },
  {
   "cell_type": "code",
   "execution_count": 10,
   "id": "07337b81",
   "metadata": {
 "deletable": false,
 "editable": false,
 "movable": false,
 "tags": [
  "made by github.com/sergeimars"
 ]
},
   "outputs": [
    {
     "data": {
      "text/plain": [
       "array([1, 0, 3, 2, 4, 5])"
      ]
     },
     "execution_count": 10,
     "metadata": {
 "deletable": false,
 "editable": false,
 "movable": false,
 "tags": [
  "made by github.com/sergeimars"
 ]
},
     "output_type": "execute_result"
    }
   ],
   "source": [
    "data['children'].unique()"
   ]
  },
  {
   "cell_type": "markdown",
   "id": "a700b0e4",
   "metadata": {
 "deletable": false,
 "editable": false,
 "movable": false,
 "tags": [
  "made by github.com/sergeimars"
 ]
},
   "source": [
    "Заполним пропуски в столбце `days_employed` медианными значениями по каждого типа занятости `income_type`."
   ]
  },
  {
   "cell_type": "code",
   "execution_count": 11,
   "id": "61946b83",
   "metadata": {
 "deletable": false,
 "editable": false,
 "movable": false,
 "tags": [
  "made by github.com/sergeimars"
 ]
},
   "outputs": [],
   "source": [
    "for t in data['income_type'].unique():\n",
    "    data.loc[(data['income_type'] == t) & (data['days_employed'].isna()), 'days_employed'] = \\\n",
    "    data.loc[(data['income_type'] == t), 'days_employed'].median()"
   ]
  },
  {
   "cell_type": "markdown",
   "id": "550dcd9b",
   "metadata": {
 "deletable": false,
 "editable": false,
 "movable": false,
 "tags": [
  "made by github.com/sergeimars"
 ]
},
   "source": [
    "Убедимся, что все пропуски заполнены. Проверим себя и ещё раз выведем количество пропущенных значений для каждого столбца."
   ]
  },
  {
   "cell_type": "code",
   "execution_count": 12,
   "id": "937c7014",
   "metadata": {
 "deletable": false,
 "editable": false,
 "movable": false,
 "tags": [
  "made by github.com/sergeimars"
 ]
},
   "outputs": [
    {
     "data": {
      "text/plain": [
       "children            0\n",
       "days_employed       0\n",
       "dob_years           0\n",
       "education           0\n",
       "education_id        0\n",
       "family_status       0\n",
       "family_status_id    0\n",
       "gender              0\n",
       "income_type         0\n",
       "debt                0\n",
       "total_income        0\n",
       "purpose             0\n",
       "dtype: int64"
      ]
     },
     "execution_count": 12,
     "metadata": {
 "deletable": false,
 "editable": false,
 "movable": false,
 "tags": [
  "made by github.com/sergeimars"
 ]
},
     "output_type": "execute_result"
    }
   ],
   "source": [
    "data.isna().sum()"
   ]
  },
  {
   "cell_type": "markdown",
   "id": "d522e295",
   "metadata": {
 "deletable": false,
 "editable": false,
 "movable": false,
 "tags": [
  "made by github.com/sergeimars"
 ]
},
   "source": [
    "### Изменение типов данных"
   ]
  },
  {
   "cell_type": "markdown",
   "id": "c229c581",
   "metadata": {
 "deletable": false,
 "editable": false,
 "movable": false,
 "tags": [
  "made by github.com/sergeimars"
 ]
},
   "source": [
    "Заменим вещественный тип данных в столбце `total_income` на целочисленный с помощью метода `astype()`."
   ]
  },
  {
   "cell_type": "code",
   "execution_count": 13,
   "id": "31036462",
   "metadata": {
 "deletable": false,
 "editable": false,
 "movable": false,
 "tags": [
  "made by github.com/sergeimars"
 ]
},
   "outputs": [],
   "source": [
    "data['total_income'] = data['total_income'].astype(int)"
   ]
  },
  {
   "cell_type": "markdown",
   "id": "b8e3d1d9",
   "metadata": {
 "deletable": false,
 "editable": false,
 "movable": false,
 "tags": [
  "made by github.com/sergeimars"
 ]
},
   "source": [
    "### Обработка дубликатов"
   ]
  },
  {
   "cell_type": "markdown",
   "id": "9be53c49",
   "metadata": {
 "deletable": false,
 "editable": false,
 "movable": false,
 "tags": [
  "made by github.com/sergeimars"
 ]
},
   "source": [
    "Обработаем неявные дубликаты в столбце `education`. В этом столбце есть одни и те же значения, но записанные по-разному:   \n",
    "с использованием заглавных и строчных букв. Приведем их к нижнему регистру."
   ]
  },
  {
   "cell_type": "code",
   "execution_count": 14,
   "id": "d89e73e1",
   "metadata": {
 "deletable": false,
 "editable": false,
 "movable": false,
 "tags": [
  "made by github.com/sergeimars"
 ]
},
   "outputs": [],
   "source": [
    "data['education'] = data['education'].str.lower()"
   ]
  },
  {
   "cell_type": "markdown",
   "id": "01d4500e",
   "metadata": {
 "deletable": false,
 "editable": false,
 "movable": false,
 "tags": [
  "made by github.com/sergeimars"
 ]
},
   "source": [
    "Выведем на экран количество строк-дубликатов в данных. Если такие строки присутствуют, удалим их."
   ]
  },
  {
   "cell_type": "code",
   "execution_count": 15,
   "id": "e10efb23",
   "metadata": {
 "deletable": false,
 "editable": false,
 "movable": false,
 "tags": [
  "made by github.com/sergeimars"
 ]
},
   "outputs": [
    {
     "data": {
      "text/plain": [
       "71"
      ]
     },
     "execution_count": 15,
     "metadata": {
 "deletable": false,
 "editable": false,
 "movable": false,
 "tags": [
  "made by github.com/sergeimars"
 ]
},
     "output_type": "execute_result"
    }
   ],
   "source": [
    "data.duplicated().sum()"
   ]
  },
  {
   "cell_type": "code",
   "execution_count": 16,
   "id": "df853f20",
   "metadata": {
 "deletable": false,
 "editable": false,
 "movable": false,
 "tags": [
  "made by github.com/sergeimars"
 ]
},
   "outputs": [],
   "source": [
    "data = data.drop_duplicates()"
   ]
  },
  {
   "cell_type": "markdown",
   "id": "627be38f",
   "metadata": {
 "deletable": false,
 "editable": false,
 "movable": false,
 "tags": [
  "made by github.com/sergeimars"
 ]
},
   "source": [
    "### Категоризация данных"
   ]
  },
  {
   "cell_type": "markdown",
   "id": "4684c3e0",
   "metadata": {
 "deletable": false,
 "editable": false,
 "movable": false,
 "tags": [
  "made by github.com/sergeimars"
 ]
},
   "source": [
    "На основании диапазонов, указанных ниже, создадим в датафрейме `data` столбец `total_income_category` с категориями:\n",
    "\n",
    "- 0–30000 — `'E'`;\n",
    "- 30001–50000 — `'D'`;\n",
    "- 50001–200000 — `'C'`;\n",
    "- 200001–1000000 — `'B'`;\n",
    "- 1000001 и выше — `'A'`."
   ]
  },
  {
   "cell_type": "code",
   "execution_count": 17,
   "id": "78965238",
   "metadata": {
 "deletable": false,
 "editable": false,
 "movable": false,
 "tags": [
  "made by github.com/sergeimars"
 ]
},
   "outputs": [],
   "source": [
    "def categorize_income(income):\n",
    "    try:\n",
    "        if 0 <= income <= 30000:\n",
    "            return 'E'\n",
    "        elif 30001 <= income <= 50000:\n",
    "            return 'D'\n",
    "        elif 50001 <= income <= 200000:\n",
    "            return 'C'\n",
    "        elif 200001 <= income <= 1000000:\n",
    "            return 'B'\n",
    "        elif income >= 1000001:\n",
    "            return 'A'\n",
    "    except:\n",
    "        pass"
   ]
  },
  {
   "cell_type": "code",
   "execution_count": 18,
   "id": "0980ada1",
   "metadata": {
 "deletable": false,
 "editable": false,
 "movable": false,
 "tags": [
  "made by github.com/sergeimars"
 ]
},
   "outputs": [],
   "source": [
    "data['total_income_category'] = data['total_income'].apply(categorize_income)"
   ]
  },
  {
   "cell_type": "markdown",
   "id": "9917bba0",
   "metadata": {
 "deletable": false,
 "editable": false,
 "movable": false,
 "tags": [
  "made by github.com/sergeimars"
 ]
},
   "source": [
    "Выведем на экран перечень уникальных целей взятия кредита из столбца `purpose`."
   ]
  },
  {
   "cell_type": "code",
   "execution_count": 19,
   "id": "ee07b65e",
   "metadata": {
 "deletable": false,
 "editable": false,
 "movable": false,
 "tags": [
  "made by github.com/sergeimars"
 ]
},
   "outputs": [
    {
     "data": {
      "text/plain": [
       "array(['покупка жилья', 'приобретение автомобиля',\n",
       "       'дополнительное образование', 'сыграть свадьбу',\n",
       "       'операции с жильем', 'образование', 'на проведение свадьбы',\n",
       "       'покупка жилья для семьи', 'покупка недвижимости',\n",
       "       'покупка коммерческой недвижимости', 'покупка жилой недвижимости',\n",
       "       'строительство собственной недвижимости', 'недвижимость',\n",
       "       'строительство недвижимости', 'на покупку подержанного автомобиля',\n",
       "       'на покупку своего автомобиля',\n",
       "       'операции с коммерческой недвижимостью',\n",
       "       'строительство жилой недвижимости', 'жилье',\n",
       "       'операции со своей недвижимостью', 'автомобили',\n",
       "       'заняться образованием', 'сделка с подержанным автомобилем',\n",
       "       'получение образования', 'автомобиль', 'свадьба',\n",
       "       'получение дополнительного образования', 'покупка своего жилья',\n",
       "       'операции с недвижимостью', 'получение высшего образования',\n",
       "       'свой автомобиль', 'сделка с автомобилем',\n",
       "       'профильное образование', 'высшее образование',\n",
       "       'покупка жилья для сдачи', 'на покупку автомобиля', 'ремонт жилью',\n",
       "       'заняться высшим образованием'], dtype=object)"
      ]
     },
     "execution_count": 19,
     "metadata": {
 "deletable": false,
 "editable": false,
 "movable": false,
 "tags": [
  "made by github.com/sergeimars"
 ]
},
     "output_type": "execute_result"
    }
   ],
   "source": [
    "data['purpose'].unique()"
   ]
  },
  {
   "cell_type": "markdown",
   "id": "52b79d56",
   "metadata": {
 "deletable": false,
 "editable": false,
 "movable": false,
 "tags": [
  "made by github.com/sergeimars"
 ]
},
   "source": [
    "Создадим функцию, которая на основании данных из столбца `purpose` сформирует новый столбец `purpose_category`, в который войдут следующие категории:\n",
    "\n",
    "- `'операции с автомобилем'`,\n",
    "- `'операции с недвижимостью'`,\n",
    "- `'проведение свадьбы'`,\n",
    "- `'получение образования'`."
   ]
  },
  {
   "cell_type": "code",
   "execution_count": 20,
   "id": "be41da5d",
   "metadata": {
 "deletable": false,
 "editable": false,
 "movable": false,
 "tags": [
  "made by github.com/sergeimars"
 ]
},
   "outputs": [],
   "source": [
    "def categorize_purpose(row):\n",
    "    try:\n",
    "        if 'автом' in row:\n",
    "            return 'операции с автомобилем'\n",
    "        elif 'жил' in row or 'недвиж' in row:\n",
    "            return 'операции с недвижимостью'\n",
    "        elif 'свад' in row:\n",
    "            return 'проведение свадьбы'\n",
    "        elif 'образов' in row:\n",
    "            return 'получение образования'\n",
    "    except:\n",
    "        return 'нет категории'"
   ]
  },
  {
   "cell_type": "code",
   "execution_count": 21,
   "id": "94c4a19a",
   "metadata": {
 "deletable": false,
 "editable": false,
 "movable": false,
 "tags": [
  "made by github.com/sergeimars"
 ]
},
   "outputs": [],
   "source": [
    "data['purpose_category'] = data['purpose'].apply(categorize_purpose)"
   ]
  },
  {
   "cell_type": "markdown",
   "id": "3d596c34",
   "metadata": {
 "deletable": false,
 "editable": false,
 "movable": false,
 "tags": [
  "made by github.com/sergeimars"
 ]
},
   "source": [
    "### Исследуем данные"
   ]
  },
  {
   "cell_type": "markdown",
   "id": "648db036",
   "metadata": {
 "deletable": false,
 "editable": false,
 "movable": false,
 "tags": [
  "made by github.com/sergeimars"
 ]
},
   "source": [
    "#### Есть ли зависимость между количеством детей и возвратом кредита в срок?"
   ]
  },
  {
   "cell_type": "markdown",
   "id": "0e01ca78",
   "metadata": {
 "deletable": false,
 "editable": false,
 "movable": false,
 "tags": [
  "made by github.com/sergeimars"
 ]
},
   "source": [
    "Создадим функцию, которая формирует сводную таблицу со столбцами 'Кол-во клиентов', 'Кол-во должников', 'Доля невозврата'.  \n",
    "В строки выведем необходимый показатель для анализа зависимости."
   ]
  },
  {
   "cell_type": "code",
   "execution_count": 22,
   "id": "7fcff25e",
   "metadata": {
 "deletable": false,
 "editable": false,
 "movable": false,
 "tags": [
  "made by github.com/sergeimars"
 ]
},
   "outputs": [
    {
     "data": {
      "text/html": [
       "<div>\n",
       "<style scoped>\n",
       "    .dataframe tbody tr th:only-of-type {\n",
       "        vertical-align: middle;\n",
       "    }\n",
       "\n",
       "    .dataframe tbody tr th {\n",
       "        vertical-align: top;\n",
       "    }\n",
       "\n",
       "    .dataframe thead th {\n",
       "        text-align: right;\n",
       "    }\n",
       "</style>\n",
       "<table border=\"1\" class=\"dataframe\">\n",
       "  <thead>\n",
       "    <tr style=\"text-align: right;\">\n",
       "      <th></th>\n",
       "      <th>Кол-во клиентов</th>\n",
       "      <th>Кол-во должников</th>\n",
       "      <th>Доля невозврата</th>\n",
       "    </tr>\n",
       "    <tr>\n",
       "      <th>children</th>\n",
       "      <th></th>\n",
       "      <th></th>\n",
       "      <th></th>\n",
       "    </tr>\n",
       "  </thead>\n",
       "  <tbody>\n",
       "    <tr>\n",
       "      <th>4</th>\n",
       "      <td>41</td>\n",
       "      <td>4</td>\n",
       "      <td>0.097561</td>\n",
       "    </tr>\n",
       "    <tr>\n",
       "      <th>2</th>\n",
       "      <td>2052</td>\n",
       "      <td>194</td>\n",
       "      <td>0.094542</td>\n",
       "    </tr>\n",
       "    <tr>\n",
       "      <th>1</th>\n",
       "      <td>4808</td>\n",
       "      <td>444</td>\n",
       "      <td>0.092346</td>\n",
       "    </tr>\n",
       "    <tr>\n",
       "      <th>3</th>\n",
       "      <td>330</td>\n",
       "      <td>27</td>\n",
       "      <td>0.081818</td>\n",
       "    </tr>\n",
       "    <tr>\n",
       "      <th>0</th>\n",
       "      <td>14091</td>\n",
       "      <td>1063</td>\n",
       "      <td>0.075438</td>\n",
       "    </tr>\n",
       "    <tr>\n",
       "      <th>5</th>\n",
       "      <td>9</td>\n",
       "      <td>0</td>\n",
       "      <td>0.000000</td>\n",
       "    </tr>\n",
       "  </tbody>\n",
       "</table>\n",
       "</div>"
      ],
      "text/plain": [
       "          Кол-во клиентов  Кол-во должников  Доля невозврата\n",
       "children                                                    \n",
       "4                      41                 4         0.097561\n",
       "2                    2052               194         0.094542\n",
       "1                    4808               444         0.092346\n",
       "3                     330                27         0.081818\n",
       "0                   14091              1063         0.075438\n",
       "5                       9                 0         0.000000"
      ]
     },
     "metadata": {
 "deletable": false,
 "editable": false,
 "movable": false,
 "tags": [
  "made by github.com/sergeimars"
 ]
},
     "output_type": "display_data"
    },
    {
     "data": {
      "image/png": "[encoded data removed]",
      "text/plain": [
       "<Figure size 2500x1250 with 1 Axes>"
      ]
     },
     "metadata": {
 "deletable": false,
 "editable": false,
 "movable": false,
 "tags": [
  "made by github.com/sergeimars"
 ]
},
     "output_type": "display_data"
    }
   ],
   "source": [
    "def data_pivot(data, index, name):\n",
    "    data_pivot = data.pivot_table(index = index, values = 'debt', aggfunc = ['count','sum','mean'])\n",
    "    data_pivot.columns = ['Кол-во клиентов', 'Кол-во должников', 'Доля невозврата']\n",
    "    display (data_pivot.sort_values('Доля невозврата', ascending = False))\n",
    "    plt.figure(figsize=(10, 5), dpi=250)\n",
    "    mpl.rcParams.update({'font.size': 7})\n",
    "    plt.bar(data_pivot.index, data_pivot['Доля невозврата'])\n",
    "    plt.title('Доля невозврата по показателю \"{}\"'.format(name))\n",
    "    plt.xlabel(name)\n",
    "    plt.ylabel(\"Доля невозврата\")\n",
    "    plt.show()\n",
    "\n",
    "# Выведем долю невозврата по количеству детей.\n",
    "data_pivot(data, 'children', 'Количество детей')"
   ]
  },
  {
   "cell_type": "markdown",
   "id": "2eb9088e",
   "metadata": {
 "deletable": false,
 "editable": false,
 "movable": false,
 "tags": [
  "made by github.com/sergeimars"
 ]
},
   "source": [
    "**Вывод:**\n",
    "  \n",
    "Для предотвращения искажения выводов мы учли распределение выборки по категориям. \n",
    "Данные свидетельствуют о том, что семьи без детей показывают наилучшую финансовую дисциплину, при этом, необходимо отметить, что данных по многодетным семьям (3 и более детей) недостаточно для определения зависимости, в связи с чем требуется анализ более репрезентативной выборки по данным категориям."
   ]
  },
  {
   "cell_type": "markdown",
   "id": "74c9b3a7",
   "metadata": {
 "deletable": false,
 "editable": false,
 "movable": false,
 "tags": [
  "made by github.com/sergeimars"
 ]
},
   "source": [
    "#### Есть ли зависимость между семейным положением и возвратом кредита в срок?"
   ]
  },
  {
   "cell_type": "code",
   "execution_count": 23,
   "id": "8098ab3b",
   "metadata": {
 "deletable": false,
 "editable": false,
 "movable": false,
 "tags": [
  "made by github.com/sergeimars"
 ]
},
   "outputs": [
    {
     "data": {
      "text/html": [
       "<div>\n",
       "<style scoped>\n",
       "    .dataframe tbody tr th:only-of-type {\n",
       "        vertical-align: middle;\n",
       "    }\n",
       "\n",
       "    .dataframe tbody tr th {\n",
       "        vertical-align: top;\n",
       "    }\n",
       "\n",
       "    .dataframe thead th {\n",
       "        text-align: right;\n",
       "    }\n",
       "</style>\n",
       "<table border=\"1\" class=\"dataframe\">\n",
       "  <thead>\n",
       "    <tr style=\"text-align: right;\">\n",
       "      <th></th>\n",
       "      <th>Кол-во клиентов</th>\n",
       "      <th>Кол-во должников</th>\n",
       "      <th>Доля невозврата</th>\n",
       "    </tr>\n",
       "    <tr>\n",
       "      <th>family_status</th>\n",
       "      <th></th>\n",
       "      <th></th>\n",
       "      <th></th>\n",
       "    </tr>\n",
       "  </thead>\n",
       "  <tbody>\n",
       "    <tr>\n",
       "      <th>Не женат / не замужем</th>\n",
       "      <td>2796</td>\n",
       "      <td>273</td>\n",
       "      <td>0.097639</td>\n",
       "    </tr>\n",
       "    <tr>\n",
       "      <th>гражданский брак</th>\n",
       "      <td>4134</td>\n",
       "      <td>385</td>\n",
       "      <td>0.093130</td>\n",
       "    </tr>\n",
       "    <tr>\n",
       "      <th>женат / замужем</th>\n",
       "      <td>12261</td>\n",
       "      <td>927</td>\n",
       "      <td>0.075606</td>\n",
       "    </tr>\n",
       "    <tr>\n",
       "      <th>в разводе</th>\n",
       "      <td>1189</td>\n",
       "      <td>84</td>\n",
       "      <td>0.070648</td>\n",
       "    </tr>\n",
       "    <tr>\n",
       "      <th>вдовец / вдова</th>\n",
       "      <td>951</td>\n",
       "      <td>63</td>\n",
       "      <td>0.066246</td>\n",
       "    </tr>\n",
       "  </tbody>\n",
       "</table>\n",
       "</div>"
      ],
      "text/plain": [
       "                       Кол-во клиентов  Кол-во должников  Доля невозврата\n",
       "family_status                                                            \n",
       "Не женат / не замужем             2796               273         0.097639\n",
       "гражданский брак                  4134               385         0.093130\n",
       "женат / замужем                  12261               927         0.075606\n",
       "в разводе                         1189                84         0.070648\n",
       "вдовец / вдова                     951                63         0.066246"
      ]
     },
     "metadata": {
 "deletable": false,
 "editable": false,
 "movable": false,
 "tags": [
  "made by github.com/sergeimars"
 ]
},
     "output_type": "display_data"
    },
    {
     "data": {
      "image/png": "[encoded data removed]",
      "text/plain": [
       "<Figure size 2500x1250 with 1 Axes>"
      ]
     },
     "metadata": {
 "deletable": false,
 "editable": false,
 "movable": false,
 "tags": [
  "made by github.com/sergeimars"
 ]
},
     "output_type": "display_data"
    },
    {
     "data": {
      "text/html": [
       "<div>\n",
       "<style scoped>\n",
       "    .dataframe tbody tr th:only-of-type {\n",
       "        vertical-align: middle;\n",
       "    }\n",
       "\n",
       "    .dataframe tbody tr th {\n",
       "        vertical-align: top;\n",
       "    }\n",
       "\n",
       "    .dataframe thead th {\n",
       "        text-align: right;\n",
       "    }\n",
       "</style>\n",
       "<table border=\"1\" class=\"dataframe\">\n",
       "  <thead>\n",
       "    <tr style=\"text-align: right;\">\n",
       "      <th></th>\n",
       "      <th>Кол-во клиентов</th>\n",
       "      <th>Кол-во должников</th>\n",
       "      <th>Доля невозврата</th>\n",
       "    </tr>\n",
       "    <tr>\n",
       "      <th>years_category</th>\n",
       "      <th></th>\n",
       "      <th></th>\n",
       "      <th></th>\n",
       "    </tr>\n",
       "  </thead>\n",
       "  <tbody>\n",
       "    <tr>\n",
       "      <th>18-30</th>\n",
       "      <td>3699</td>\n",
       "      <td>403</td>\n",
       "      <td>0.108948</td>\n",
       "    </tr>\n",
       "    <tr>\n",
       "      <th>31-40</th>\n",
       "      <td>5773</td>\n",
       "      <td>548</td>\n",
       "      <td>0.094925</td>\n",
       "    </tr>\n",
       "    <tr>\n",
       "      <th>41-50</th>\n",
       "      <td>5225</td>\n",
       "      <td>400</td>\n",
       "      <td>0.076555</td>\n",
       "    </tr>\n",
       "    <tr>\n",
       "      <th>51-60</th>\n",
       "      <td>4516</td>\n",
       "      <td>280</td>\n",
       "      <td>0.062002</td>\n",
       "    </tr>\n",
       "    <tr>\n",
       "      <th>&gt;61</th>\n",
       "      <td>2118</td>\n",
       "      <td>101</td>\n",
       "      <td>0.047686</td>\n",
       "    </tr>\n",
       "  </tbody>\n",
       "</table>\n",
       "</div>"
      ],
      "text/plain": [
       "                Кол-во клиентов  Кол-во должников  Доля невозврата\n",
       "years_category                                                    \n",
       "18-30                      3699               403         0.108948\n",
       "31-40                      5773               548         0.094925\n",
       "41-50                      5225               400         0.076555\n",
       "51-60                      4516               280         0.062002\n",
       ">61                        2118               101         0.047686"
      ]
     },
     "metadata": {
 "deletable": false,
 "editable": false,
 "movable": false,
 "tags": [
  "made by github.com/sergeimars"
 ]
},
     "output_type": "display_data"
    },
    {
     "data": {
      "image/png": "[encoded data removed]",
      "text/plain": [
       "<Figure size 2500x1250 with 1 Axes>"
      ]
     },
     "metadata": {
 "deletable": false,
 "editable": false,
 "movable": false,
 "tags": [
  "made by github.com/sergeimars"
 ]
},
     "output_type": "display_data"
    }
   ],
   "source": [
    "# Выведем долю невозврата по семейному положению.\n",
    "data_pivot(data, 'family_status', 'Семейное положение')\n",
    "\n",
    "# Для проверки гипотезы о влиянии возраста, отработаем позиции с нулевым возрастом,\n",
    "# заменив их на медиану исходя из профессии.\n",
    "for y in data['income_type'].unique():\n",
    "    data.loc[(data['income_type'] == y) & (data['dob_years'] == 0), 'dob_years']= \\\n",
    "    data.loc[data['income_type'] == y, 'dob_years'].median()\n",
    "\n",
    "# Введем категоризацию по возрасту.\n",
    "# Установим нулевым значениям категорию \"Ошибка!\" чтобы удостовериться что нулевые значения устранены.\n",
    "def categorize_years(years):\n",
    "    try:\n",
    "        if 0 >= years:\n",
    "            return 'Ошибка!'\n",
    "        elif 1 <= years <= 17:\n",
    "            return '1-17'\n",
    "        elif 18 <= years <= 30:\n",
    "            return '18-30'\n",
    "        elif 31 <= years <= 40:\n",
    "            return '31-40'\n",
    "        elif 41 <= years <= 50:\n",
    "            return '41-50'\n",
    "        elif 51 <= years <= 60:\n",
    "            return '51-60'\n",
    "        elif years >= 61:\n",
    "            return '>61'\n",
    "    except:\n",
    "        pass\n",
    "    \n",
    "data['years_category'] = data['dob_years'].apply(categorize_years)\n",
    "\n",
    "# Выведем долю невозврата по возрасту.  \n",
    "data_pivot(data, 'years_category', 'Возраст')"
   ]
  },
  {
   "cell_type": "markdown",
   "id": "c389ca63",
   "metadata": {
 "deletable": false,
 "editable": false,
 "movable": false,
 "tags": [
  "made by github.com/sergeimars"
 ]
},
   "source": [
    "**Вывод:**\n",
    "  \n",
    "Согласно данным, люди бывшие в браке или замужем/женаты, являются более надежными заемщиками чем одинокие люди.\n",
    "  \n",
    "Однако, по результатам дополнительного анализа данный по возрастным категориям можно заметить, что с увеличением возраста доля невозвратов снижается.  \n",
    "Таким образом можно сделать вывод что в части наличия зависимости между семейным положением и возвратом кредита в срок существенное значение имеет возраст заемщика."
   ]
  },
  {
   "cell_type": "markdown",
   "id": "9529de68",
   "metadata": {
 "deletable": false,
 "editable": false,
 "movable": false,
 "tags": [
  "made by github.com/sergeimars"
 ]
},
   "source": [
    "#### Есть ли зависимость между уровнем дохода и возвратом кредита в срок?"
   ]
  },
  {
   "cell_type": "code",
   "execution_count": 24,
   "id": "8787f44a",
   "metadata": {
 "deletable": false,
 "editable": false,
 "movable": false,
 "tags": [
  "made by github.com/sergeimars"
 ]
},
   "outputs": [
    {
     "data": {
      "text/html": [
       "<div>\n",
       "<style scoped>\n",
       "    .dataframe tbody tr th:only-of-type {\n",
       "        vertical-align: middle;\n",
       "    }\n",
       "\n",
       "    .dataframe tbody tr th {\n",
       "        vertical-align: top;\n",
       "    }\n",
       "\n",
       "    .dataframe thead th {\n",
       "        text-align: right;\n",
       "    }\n",
       "</style>\n",
       "<table border=\"1\" class=\"dataframe\">\n",
       "  <thead>\n",
       "    <tr style=\"text-align: right;\">\n",
       "      <th></th>\n",
       "      <th>Кол-во клиентов</th>\n",
       "      <th>Кол-во должников</th>\n",
       "      <th>Доля невозврата</th>\n",
       "    </tr>\n",
       "    <tr>\n",
       "      <th>total_income_category</th>\n",
       "      <th></th>\n",
       "      <th></th>\n",
       "      <th></th>\n",
       "    </tr>\n",
       "  </thead>\n",
       "  <tbody>\n",
       "    <tr>\n",
       "      <th>E</th>\n",
       "      <td>22</td>\n",
       "      <td>2</td>\n",
       "      <td>0.090909</td>\n",
       "    </tr>\n",
       "    <tr>\n",
       "      <th>C</th>\n",
       "      <td>15921</td>\n",
       "      <td>1353</td>\n",
       "      <td>0.084982</td>\n",
       "    </tr>\n",
       "    <tr>\n",
       "      <th>A</th>\n",
       "      <td>25</td>\n",
       "      <td>2</td>\n",
       "      <td>0.080000</td>\n",
       "    </tr>\n",
       "    <tr>\n",
       "      <th>B</th>\n",
       "      <td>5014</td>\n",
       "      <td>354</td>\n",
       "      <td>0.070602</td>\n",
       "    </tr>\n",
       "    <tr>\n",
       "      <th>D</th>\n",
       "      <td>349</td>\n",
       "      <td>21</td>\n",
       "      <td>0.060172</td>\n",
       "    </tr>\n",
       "  </tbody>\n",
       "</table>\n",
       "</div>"
      ],
      "text/plain": [
       "                       Кол-во клиентов  Кол-во должников  Доля невозврата\n",
       "total_income_category                                                    \n",
       "E                                   22                 2         0.090909\n",
       "C                                15921              1353         0.084982\n",
       "A                                   25                 2         0.080000\n",
       "B                                 5014               354         0.070602\n",
       "D                                  349                21         0.060172"
      ]
     },
     "metadata": {
 "deletable": false,
 "editable": false,
 "movable": false,
 "tags": [
  "made by github.com/sergeimars"
 ]
},
     "output_type": "display_data"
    },
    {
     "data": {
      "image/png": "[encoded data removed]",
      "text/plain": [
       "<Figure size 2500x1250 with 1 Axes>"
      ]
     },
     "metadata": {
 "deletable": false,
 "editable": false,
 "movable": false,
 "tags": [
  "made by github.com/sergeimars"
 ]
},
     "output_type": "display_data"
    }
   ],
   "source": [
    "# Выведем долю невозврата по уровню дохода.\n",
    "data_pivot(data, 'total_income_category', 'Уровень дохода')"
   ]
  },
  {
   "cell_type": "markdown",
   "id": "6dd14b57",
   "metadata": {
 "deletable": false,
 "editable": false,
 "movable": false,
 "tags": [
  "made by github.com/sergeimars"
 ]
},
   "source": [
    "**Вывод:**\n",
    "  \n",
    "Данные по распределению по категориям дохода показывает концентрацию людей в двух категориях, это 'B' - от 200 тыс. руб. до 1 млн. руб. и 'С'- от 50 тыс. руб. до 200 тыс. руб. При этом, доля невозврата у людей с меньшим доходом (50-200 тыс. руб.) выше чем у людей с доходом доходом от 200 тыс. руб. до 1 млн. руб., Что свидетельствует о наличии зависимости между уровнем дохода и возвратом кредита в срок.\n",
    "Необходимо отметить что по остальным категориям данных выборки недостаточно для формирования корректных выводов."
   ]
  },
  {
   "cell_type": "markdown",
   "id": "1dcc9b12",
   "metadata": {
 "deletable": false,
 "editable": false,
 "movable": false,
 "tags": [
  "made by github.com/sergeimars"
 ]
},
   "source": [
    "#### Как разные цели кредита влияют на его возврат в срок?"
   ]
  },
  {
   "cell_type": "code",
   "execution_count": 25,
   "id": "c602bc8b",
   "metadata": {
 "deletable": false,
 "editable": false,
 "movable": false,
 "tags": [
  "made by github.com/sergeimars"
 ]
},
   "outputs": [
    {
     "data": {
      "text/html": [
       "<div>\n",
       "<style scoped>\n",
       "    .dataframe tbody tr th:only-of-type {\n",
       "        vertical-align: middle;\n",
       "    }\n",
       "\n",
       "    .dataframe tbody tr th {\n",
       "        vertical-align: top;\n",
       "    }\n",
       "\n",
       "    .dataframe thead th {\n",
       "        text-align: right;\n",
       "    }\n",
       "</style>\n",
       "<table border=\"1\" class=\"dataframe\">\n",
       "  <thead>\n",
       "    <tr style=\"text-align: right;\">\n",
       "      <th></th>\n",
       "      <th>Кол-во клиентов</th>\n",
       "      <th>Кол-во должников</th>\n",
       "      <th>Доля невозврата</th>\n",
       "    </tr>\n",
       "    <tr>\n",
       "      <th>purpose_category</th>\n",
       "      <th></th>\n",
       "      <th></th>\n",
       "      <th></th>\n",
       "    </tr>\n",
       "  </thead>\n",
       "  <tbody>\n",
       "    <tr>\n",
       "      <th>операции с автомобилем</th>\n",
       "      <td>4279</td>\n",
       "      <td>400</td>\n",
       "      <td>0.093480</td>\n",
       "    </tr>\n",
       "    <tr>\n",
       "      <th>получение образования</th>\n",
       "      <td>3988</td>\n",
       "      <td>369</td>\n",
       "      <td>0.092528</td>\n",
       "    </tr>\n",
       "    <tr>\n",
       "      <th>проведение свадьбы</th>\n",
       "      <td>2313</td>\n",
       "      <td>183</td>\n",
       "      <td>0.079118</td>\n",
       "    </tr>\n",
       "    <tr>\n",
       "      <th>операции с недвижимостью</th>\n",
       "      <td>10751</td>\n",
       "      <td>780</td>\n",
       "      <td>0.072551</td>\n",
       "    </tr>\n",
       "  </tbody>\n",
       "</table>\n",
       "</div>"
      ],
      "text/plain": [
       "                          Кол-во клиентов  Кол-во должников  Доля невозврата\n",
       "purpose_category                                                            \n",
       "операции с автомобилем               4279               400         0.093480\n",
       "получение образования                3988               369         0.092528\n",
       "проведение свадьбы                   2313               183         0.079118\n",
       "операции с недвижимостью            10751               780         0.072551"
      ]
     },
     "metadata": {
 "deletable": false,
 "editable": false,
 "movable": false,
 "tags": [
  "made by github.com/sergeimars"
 ]
},
     "output_type": "display_data"
    },
    {
     "data": {
      "image/png": "[encoded data removed]",
      "text/plain": [
       "<Figure size 2500x1250 with 1 Axes>"
      ]
     },
     "metadata": {
 "deletable": false,
 "editable": false,
 "movable": false,
 "tags": [
  "made by github.com/sergeimars"
 ]
},
     "output_type": "display_data"
    }
   ],
   "source": [
    "# Выведем долю невозврата по целям кредита.\n",
    "data_pivot(data, 'purpose_category', 'Цель кредита')"
   ]
  },
  {
   "cell_type": "markdown",
   "id": "cf05ed63",
   "metadata": {
 "deletable": false,
 "editable": false,
 "movable": false,
 "tags": [
  "made by github.com/sergeimars"
 ]
},
   "source": [
    "**Вывод:**\n",
    "  \n",
    "По результатам анализа данных по категориям целей кредита, можно сделать вывод что 'операции с автомобилем' и 'получение образование' являются наиболее рискованными, в то время как операции с недвижимость наиболее надежная.\n",
    "Согласно полученным выше аналитическим данным пропуски сосредоточены в двух столбцах: days_employed и total_income. Причинами пропусков может являться отсутствие данной информации, например в случае, если человекявляется безработным или не предоставил справку с места работы, и не указал данную информацию в анкете при получении кредита, открытии счета.\n",
    "Помимо всего прочего нельзя исключать технический характер проблемы связанной с обработкой, хранением, записью и передачей информации на каком-то из этапов обработки или выгрузки данных."
   ]
  },
  {
   "cell_type": "markdown",
   "id": "57bc304e",
   "metadata": {
 "deletable": false,
 "editable": false,
 "movable": false,
 "tags": [
  "made by github.com/sergeimars"
 ]
},
   "source": [
    "### Общий вывод."
   ]
  },
  {
   "cell_type": "markdown",
   "id": "1ab75d1c",
   "metadata": {
 "deletable": false,
 "editable": false,
 "movable": false,
 "tags": [
  "made by github.com/sergeimars"
 ]
},
   "source": [
    "Для анализа представленного массива данных, по результатам обработки информации на предмет устранения дубликатов, пропусков и аномальных значений, мы категоризировали и сгруппировали данные для проверки следующих гипотез:\n",
    "- наличие зависимости между количеством детей и возвратом кредита в срок;\n",
    "- наличие зависимости между семейным положением и возвратом кредита в срок;\n",
    "- наличие зависимости между уровнем дохода и возвратом кредита в срок;\n",
    "- наличие зависимости между целями кредита и возвратом кредита в срок.\n",
    "\n",
    "Для предотвращения искажения выводов, на этапе анализа данных, мы также учли распределение выборки по категориям и долю невозврата от общего числа людей в категории.\n",
    "\n",
    "Согласно проведенному анализу можно отметить, что наиболее ответственные заемщики это люди без детей, в браке или бывшие в браке, возврастом старше 40 лет и с уровнем дохода от 200 тысяч до 1 млн. рублей, цель которых является операции с недвижимостью или проведение свадьбы.\n",
    "\n",
    "Наиболее рискованными можно отметить операции с автомобилем и получением образования людьми до 30 лет и имеющие детей, и доходом до 200 тыс руб.\n",
    "\n",
    "При этом необходимо отметить, что представленная выборка демонстрирует непропорциональное распределение людей по категориям, что может привести к искажению выводов, и, в последствии, привести к неверным решениям в отношении потенциальных заемщиков на основании данных скоринговой модели.\n",
    "\n",
    "Для устранения пропусков, дубликатов и аномальных значений рекомендуется установить поля 'Количество отработанных дней' и 'Уровень дохода' в качестве обязательных к заполнению при подаче заявок или заполнении анкет. Также можно предусмотреть процедуру дедупликации для предотвращения дублирования значений и проверку на предмет корректности введенных значений, на этапе заполнения заявки, заполнения анкеты, или загрузки данных в систему. С учетом наличия нулевых значений в графе 'Возраст', рекомендуется также установить данное поле в качестве обязательного к заполнению с ограничение на ввод некорректных значений (не менее 18 лет).\n",
    "\n",
    "Также может быть полезным расчет других метрик оценки кредитного рейтинга, например на основе отношения выплат к доходу, количество дней просрочки к сроку кредита, количество просроченных выплат к общему количеству выплат, количество кредитов с нарушением к общему количеству кредитов в кредитной истории и тд.\n",
    "\n",
    "Рекомендуется провести дополнительный анализ расширенной диверсифицированной выборки, для получения информации по взаимосвязи уплаты кредита в срок с колиеством детей указанных категорий, и изменения состава категорий для анализа \n",
    "взаимосвязи уплаты кредита в срок и уровня дохода."
   ]
  }
 ],
 "metadata": {
  "ExecuteTimeLog": [
   {
    "duration": 91,
    "start_time": "2023-04-28T07:50:58.568Z"
   },
   {
    "duration": 7,
    "start_time": "2023-04-28T07:52:05.578Z"
   },
   {
    "duration": 12,
    "start_time": "2023-04-28T07:52:19.119Z"
   },
   {
    "duration": 8,
    "start_time": "2023-04-28T07:52:36.327Z"
   },
   {
    "duration": 584,
    "start_time": "2023-04-28T07:52:45.823Z"
   },
   {
    "duration": 33,
    "start_time": "2023-04-28T07:52:46.411Z"
   },
   {
    "duration": 21,
    "start_time": "2023-04-28T07:52:46.445Z"
   },
   {
    "duration": 25,
    "start_time": "2023-04-28T07:52:46.469Z"
   },
   {
    "duration": 43,
    "start_time": "2023-04-28T07:52:46.503Z"
   },
   {
    "duration": 3,
    "start_time": "2023-04-28T07:52:46.548Z"
   },
   {
    "duration": 24,
    "start_time": "2023-04-28T07:52:46.553Z"
   },
   {
    "duration": 4,
    "start_time": "2023-04-28T07:52:46.579Z"
   },
   {
    "duration": 29,
    "start_time": "2023-04-28T07:52:46.593Z"
   },
   {
    "duration": 5,
    "start_time": "2023-04-28T07:52:46.634Z"
   },
   {
    "duration": 39,
    "start_time": "2023-04-28T07:52:46.641Z"
   },
   {
    "duration": 10,
    "start_time": "2023-04-28T07:52:46.682Z"
   },
   {
    "duration": 4,
    "start_time": "2023-04-28T07:52:46.696Z"
   },
   {
    "duration": 34,
    "start_time": "2023-04-28T07:52:46.702Z"
   },
   {
    "duration": 31,
    "start_time": "2023-04-28T07:52:46.739Z"
   },
   {
    "duration": 30,
    "start_time": "2023-04-28T07:52:46.772Z"
   },
   {
    "duration": 10,
    "start_time": "2023-04-28T07:52:46.812Z"
   },
   {
    "duration": 14,
    "start_time": "2023-04-28T07:52:46.824Z"
   },
   {
    "duration": 6,
    "start_time": "2023-04-28T07:52:46.840Z"
   },
   {
    "duration": 7,
    "start_time": "2023-04-28T07:52:46.847Z"
   },
   {
    "duration": 17,
    "start_time": "2023-04-28T07:52:46.856Z"
   },
   {
    "duration": 24,
    "start_time": "2023-04-28T07:52:46.875Z"
   },
   {
    "duration": 12,
    "start_time": "2023-04-28T07:52:46.902Z"
   },
   {
    "duration": 18,
    "start_time": "2023-04-28T07:52:46.919Z"
   },
   {
    "duration": 9,
    "start_time": "2023-04-28T07:52:46.940Z"
   },
   {
    "duration": 6,
    "start_time": "2023-04-28T07:53:44.850Z"
   },
   {
    "duration": 7,
    "start_time": "2023-04-28T07:54:17.726Z"
   },
   {
    "duration": 9,
    "start_time": "2023-04-28T08:02:51.608Z"
   },
   {
    "duration": 29,
    "start_time": "2023-04-28T08:06:20.117Z"
   },
   {
    "duration": 35,
    "start_time": "2023-04-28T08:07:13.982Z"
   },
   {
    "duration": 45,
    "start_time": "2023-04-28T08:12:18.779Z"
   },
   {
    "duration": 47,
    "start_time": "2023-04-28T08:12:40.439Z"
   },
   {
    "duration": 48,
    "start_time": "2023-04-28T08:13:59.077Z"
   },
   {
    "duration": 67,
    "start_time": "2023-04-28T08:14:46.986Z"
   },
   {
    "duration": 46,
    "start_time": "2023-04-28T08:15:07.342Z"
   },
   {
    "duration": 30,
    "start_time": "2023-04-28T08:15:24.208Z"
   },
   {
    "duration": 70,
    "start_time": "2023-04-28T08:15:37.693Z"
   },
   {
    "duration": 27,
    "start_time": "2023-04-28T08:15:48.106Z"
   },
   {
    "duration": 9,
    "start_time": "2023-04-28T08:16:00.744Z"
   },
   {
    "duration": 37,
    "start_time": "2023-04-28T08:16:08.308Z"
   },
   {
    "duration": 7,
    "start_time": "2023-04-28T08:22:52.744Z"
   },
   {
    "duration": 27,
    "start_time": "2023-04-28T08:23:55.322Z"
   },
   {
    "duration": 4,
    "start_time": "2023-04-28T08:39:51.906Z"
   },
   {
    "duration": 11,
    "start_time": "2023-04-28T08:40:02.048Z"
   },
   {
    "duration": 15,
    "start_time": "2023-04-28T08:41:05.084Z"
   },
   {
    "duration": 53,
    "start_time": "2023-04-28T08:44:02.231Z"
   },
   {
    "duration": 86,
    "start_time": "2023-04-28T08:44:35.934Z"
   },
   {
    "duration": 76,
    "start_time": "2023-04-28T08:45:01.451Z"
   },
   {
    "duration": 10,
    "start_time": "2023-04-28T08:45:56.197Z"
   },
   {
    "duration": 14,
    "start_time": "2023-04-28T08:50:17.501Z"
   },
   {
    "duration": 11,
    "start_time": "2023-04-28T08:50:28.512Z"
   },
   {
    "duration": 14,
    "start_time": "2023-04-28T08:50:42.400Z"
   },
   {
    "duration": 15,
    "start_time": "2023-04-28T08:52:05.251Z"
   },
   {
    "duration": 15,
    "start_time": "2023-04-28T08:52:27.716Z"
   },
   {
    "duration": 14,
    "start_time": "2023-04-28T08:52:52.916Z"
   },
   {
    "duration": 17,
    "start_time": "2023-04-28T08:54:01.909Z"
   },
   {
    "duration": 12,
    "start_time": "2023-04-28T08:55:04.197Z"
   },
   {
    "duration": 18,
    "start_time": "2023-04-28T08:58:05.497Z"
   },
   {
    "duration": 23,
    "start_time": "2023-04-28T08:58:13.564Z"
   },
   {
    "duration": 20,
    "start_time": "2023-04-28T08:58:57.445Z"
   },
   {
    "duration": 21,
    "start_time": "2023-04-28T08:59:13.586Z"
   },
   {
    "duration": 17,
    "start_time": "2023-04-28T08:59:21.065Z"
   },
   {
    "duration": 12,
    "start_time": "2023-04-28T09:00:54.221Z"
   },
   {
    "duration": 19,
    "start_time": "2023-04-28T09:01:02.892Z"
   },
   {
    "duration": 14,
    "start_time": "2023-04-28T09:02:24.148Z"
   },
   {
    "duration": 18,
    "start_time": "2023-04-28T09:02:36.701Z"
   },
   {
    "duration": 13,
    "start_time": "2023-04-28T10:44:34.263Z"
   },
   {
    "duration": 15,
    "start_time": "2023-04-28T10:44:52.310Z"
   },
   {
    "duration": 18,
    "start_time": "2023-04-28T10:45:04.332Z"
   },
   {
    "duration": 14,
    "start_time": "2023-04-28T10:45:33.707Z"
   },
   {
    "duration": 14,
    "start_time": "2023-04-28T10:45:48.418Z"
   },
   {
    "duration": 14,
    "start_time": "2023-04-28T10:46:03.333Z"
   },
   {
    "duration": 16,
    "start_time": "2023-04-28T10:46:11.811Z"
   },
   {
    "duration": 55,
    "start_time": "2023-04-28T10:46:21.006Z"
   },
   {
    "duration": 15,
    "start_time": "2023-04-28T10:46:26.214Z"
   },
   {
    "duration": 13,
    "start_time": "2023-04-28T10:47:26.804Z"
   },
   {
    "duration": 31,
    "start_time": "2023-04-28T10:48:56.041Z"
   },
   {
    "duration": 16,
    "start_time": "2023-04-28T10:49:11.654Z"
   },
   {
    "duration": 15,
    "start_time": "2023-04-28T10:49:27.029Z"
   },
   {
    "duration": 14,
    "start_time": "2023-04-28T10:49:41.711Z"
   },
   {
    "duration": 13,
    "start_time": "2023-04-28T10:52:15.584Z"
   },
   {
    "duration": 17,
    "start_time": "2023-04-28T10:52:46.223Z"
   },
   {
    "duration": 15,
    "start_time": "2023-04-28T10:53:04.867Z"
   },
   {
    "duration": 18,
    "start_time": "2023-04-28T10:53:17.635Z"
   },
   {
    "duration": 4,
    "start_time": "2023-04-28T10:54:21.306Z"
   },
   {
    "duration": 19,
    "start_time": "2023-04-28T10:54:50.153Z"
   },
   {
    "duration": 12,
    "start_time": "2023-04-28T10:55:03.923Z"
   },
   {
    "duration": 12,
    "start_time": "2023-04-28T10:55:50.252Z"
   },
   {
    "duration": 15,
    "start_time": "2023-04-28T10:56:17.356Z"
   },
   {
    "duration": 20,
    "start_time": "2023-04-28T10:56:34.651Z"
   },
   {
    "duration": 14,
    "start_time": "2023-04-28T10:56:49.288Z"
   },
   {
    "duration": 15,
    "start_time": "2023-04-28T10:58:11.039Z"
   },
   {
    "duration": 14,
    "start_time": "2023-04-28T10:58:28.479Z"
   },
   {
    "duration": 16,
    "start_time": "2023-04-28T10:59:30.978Z"
   },
   {
    "duration": 14,
    "start_time": "2023-04-28T10:59:40.535Z"
   },
   {
    "duration": 724,
    "start_time": "2023-04-28T11:02:27.885Z"
   },
   {
    "duration": 24,
    "start_time": "2023-04-28T11:05:38.323Z"
   },
   {
    "duration": 16,
    "start_time": "2023-04-28T11:05:58.534Z"
   },
   {
    "duration": 14,
    "start_time": "2023-04-28T11:06:04.088Z"
   },
   {
    "duration": 18,
    "start_time": "2023-04-28T11:06:26.192Z"
   },
   {
    "duration": 14,
    "start_time": "2023-04-28T11:06:39.692Z"
   },
   {
    "duration": 17,
    "start_time": "2023-04-28T11:07:04.140Z"
   },
   {
    "duration": 17,
    "start_time": "2023-04-28T11:17:39.512Z"
   },
   {
    "duration": 17,
    "start_time": "2023-04-28T11:18:12.995Z"
   },
   {
    "duration": 15,
    "start_time": "2023-04-28T11:18:18.876Z"
   },
   {
    "duration": 17,
    "start_time": "2023-04-28T11:18:22.402Z"
   },
   {
    "duration": 8,
    "start_time": "2023-04-28T11:28:39.946Z"
   },
   {
    "duration": 7,
    "start_time": "2023-04-28T11:32:45.824Z"
   },
   {
    "duration": 8,
    "start_time": "2023-04-28T11:33:23.942Z"
   },
   {
    "duration": 5,
    "start_time": "2023-04-28T11:33:31.725Z"
   },
   {
    "duration": 10,
    "start_time": "2023-04-28T11:33:37.446Z"
   },
   {
    "duration": 13,
    "start_time": "2023-04-28T11:33:56.844Z"
   },
   {
    "duration": 46,
    "start_time": "2023-04-28T11:37:04.072Z"
   },
   {
    "duration": 8,
    "start_time": "2023-04-28T11:37:09.069Z"
   },
   {
    "duration": 7,
    "start_time": "2023-04-28T11:37:45.899Z"
   },
   {
    "duration": 8,
    "start_time": "2023-04-28T11:37:56.144Z"
   },
   {
    "duration": 8,
    "start_time": "2023-04-28T11:38:15.702Z"
   },
   {
    "duration": 8,
    "start_time": "2023-04-28T11:38:33.706Z"
   },
   {
    "duration": 13,
    "start_time": "2023-04-28T11:39:02.963Z"
   },
   {
    "duration": 10,
    "start_time": "2023-04-28T11:39:31.150Z"
   },
   {
    "duration": 9,
    "start_time": "2023-04-28T11:40:16.044Z"
   },
   {
    "duration": 10,
    "start_time": "2023-04-28T11:41:25.333Z"
   },
   {
    "duration": 8,
    "start_time": "2023-04-28T11:41:37.449Z"
   },
   {
    "duration": 15,
    "start_time": "2023-04-28T11:42:17.579Z"
   },
   {
    "duration": 15,
    "start_time": "2023-04-28T11:42:41.210Z"
   },
   {
    "duration": 10,
    "start_time": "2023-04-28T11:46:06.138Z"
   },
   {
    "duration": 12,
    "start_time": "2023-04-28T11:46:14.048Z"
   },
   {
    "duration": 17,
    "start_time": "2023-04-28T11:47:03.213Z"
   },
   {
    "duration": 25,
    "start_time": "2023-04-28T11:48:15.348Z"
   },
   {
    "duration": 25,
    "start_time": "2023-04-28T11:48:24.413Z"
   },
   {
    "duration": 16,
    "start_time": "2023-04-28T11:48:49.982Z"
   },
   {
    "duration": 14,
    "start_time": "2023-04-28T11:49:13.989Z"
   },
   {
    "duration": 16,
    "start_time": "2023-04-28T11:51:23.789Z"
   },
   {
    "duration": 467,
    "start_time": "2023-04-28T11:51:39.501Z"
   },
   {
    "duration": 23,
    "start_time": "2023-04-28T11:51:39.970Z"
   },
   {
    "duration": 15,
    "start_time": "2023-04-28T11:51:39.995Z"
   },
   {
    "duration": 17,
    "start_time": "2023-04-28T11:51:40.013Z"
   },
   {
    "duration": 51,
    "start_time": "2023-04-28T11:51:40.032Z"
   },
   {
    "duration": 9,
    "start_time": "2023-04-28T11:51:40.085Z"
   },
   {
    "duration": 19,
    "start_time": "2023-04-28T11:51:40.096Z"
   },
   {
    "duration": 4,
    "start_time": "2023-04-28T11:51:40.117Z"
   },
   {
    "duration": 13,
    "start_time": "2023-04-28T11:51:40.123Z"
   },
   {
    "duration": 29,
    "start_time": "2023-04-28T11:51:40.138Z"
   },
   {
    "duration": 35,
    "start_time": "2023-04-28T11:51:40.168Z"
   },
   {
    "duration": 10,
    "start_time": "2023-04-28T11:51:40.204Z"
   },
   {
    "duration": 13,
    "start_time": "2023-04-28T11:51:40.215Z"
   },
   {
    "duration": 21,
    "start_time": "2023-04-28T11:51:40.229Z"
   },
   {
    "duration": 23,
    "start_time": "2023-04-28T11:51:40.252Z"
   },
   {
    "duration": 17,
    "start_time": "2023-04-28T11:51:40.277Z"
   },
   {
    "duration": 4,
    "start_time": "2023-04-28T11:51:40.296Z"
   },
   {
    "duration": 22,
    "start_time": "2023-04-28T11:51:40.301Z"
   },
   {
    "duration": 11,
    "start_time": "2023-04-28T11:51:40.325Z"
   },
   {
    "duration": 5,
    "start_time": "2023-04-28T11:51:40.337Z"
   },
   {
    "duration": 11,
    "start_time": "2023-04-28T11:51:40.344Z"
   },
   {
    "duration": 8,
    "start_time": "2023-04-28T11:51:40.356Z"
   },
   {
    "duration": 19,
    "start_time": "2023-04-28T11:51:40.366Z"
   },
   {
    "duration": 17,
    "start_time": "2023-04-28T11:51:40.393Z"
   },
   {
    "duration": 3,
    "start_time": "2023-04-28T11:51:40.411Z"
   },
   {
    "duration": 76,
    "start_time": "2023-04-28T11:56:17.410Z"
   },
   {
    "duration": 14,
    "start_time": "2023-04-28T11:56:39.418Z"
   },
   {
    "duration": 19,
    "start_time": "2023-04-28T11:56:50.888Z"
   },
   {
    "duration": 16,
    "start_time": "2023-04-28T11:57:19.808Z"
   },
   {
    "duration": 8,
    "start_time": "2023-04-28T11:57:28.421Z"
   },
   {
    "duration": 18,
    "start_time": "2023-04-28T11:59:06.373Z"
   },
   {
    "duration": 19,
    "start_time": "2023-04-28T11:59:44.319Z"
   },
   {
    "duration": 20,
    "start_time": "2023-04-28T12:01:32.930Z"
   },
   {
    "duration": 16,
    "start_time": "2023-04-28T12:02:25.413Z"
   },
   {
    "duration": 19,
    "start_time": "2023-04-28T12:02:33.487Z"
   },
   {
    "duration": 851,
    "start_time": "2023-04-28T12:04:38.848Z"
   },
   {
    "duration": 20,
    "start_time": "2023-04-28T12:04:46.532Z"
   },
   {
    "duration": 18,
    "start_time": "2023-04-28T12:11:52.476Z"
   },
   {
    "duration": 18,
    "start_time": "2023-04-28T12:12:52.087Z"
   },
   {
    "duration": 16,
    "start_time": "2023-04-28T12:13:07.425Z"
   },
   {
    "duration": 20,
    "start_time": "2023-04-28T13:00:52.596Z"
   },
   {
    "duration": 21,
    "start_time": "2023-04-28T13:13:50.688Z"
   },
   {
    "duration": 19,
    "start_time": "2023-04-28T13:14:11.158Z"
   },
   {
    "duration": 28,
    "start_time": "2023-04-28T13:14:18.320Z"
   },
   {
    "duration": 17,
    "start_time": "2023-04-28T13:15:00.231Z"
   },
   {
    "duration": 16,
    "start_time": "2023-04-28T13:15:13.731Z"
   },
   {
    "duration": 22,
    "start_time": "2023-04-28T13:16:34.476Z"
   },
   {
    "duration": 21,
    "start_time": "2023-04-28T13:16:42.532Z"
   },
   {
    "duration": 26,
    "start_time": "2023-04-28T13:16:58.323Z"
   },
   {
    "duration": 22,
    "start_time": "2023-04-28T13:17:07.842Z"
   },
   {
    "duration": 21,
    "start_time": "2023-04-28T13:20:00.382Z"
   },
   {
    "duration": 27,
    "start_time": "2023-04-28T13:20:05.287Z"
   },
   {
    "duration": 22,
    "start_time": "2023-04-28T13:20:11.130Z"
   },
   {
    "duration": 23,
    "start_time": "2023-04-28T13:20:15.225Z"
   },
   {
    "duration": 25,
    "start_time": "2023-04-28T13:20:32.121Z"
   },
   {
    "duration": 22,
    "start_time": "2023-04-28T13:20:36.919Z"
   },
   {
    "duration": 22,
    "start_time": "2023-04-28T13:20:40.747Z"
   },
   {
    "duration": 30,
    "start_time": "2023-04-28T13:20:44.123Z"
   },
   {
    "duration": 28,
    "start_time": "2023-04-28T13:20:50.331Z"
   },
   {
    "duration": 24,
    "start_time": "2023-04-28T13:20:56.337Z"
   },
   {
    "duration": 11,
    "start_time": "2023-04-28T13:21:55.332Z"
   },
   {
    "duration": 7,
    "start_time": "2023-04-28T13:22:03.360Z"
   },
   {
    "duration": 8,
    "start_time": "2023-04-28T13:22:08.009Z"
   },
   {
    "duration": 3,
    "start_time": "2023-04-28T13:22:16.431Z"
   },
   {
    "duration": 50,
    "start_time": "2023-04-28T13:22:27.520Z"
   },
   {
    "duration": 5,
    "start_time": "2023-04-28T13:22:33.020Z"
   },
   {
    "duration": 21,
    "start_time": "2023-04-28T13:23:00.626Z"
   },
   {
    "duration": 7,
    "start_time": "2023-04-28T13:24:10.341Z"
   },
   {
    "duration": 18,
    "start_time": "2023-04-28T13:24:21.031Z"
   },
   {
    "duration": 14,
    "start_time": "2023-04-28T13:24:33.624Z"
   },
   {
    "duration": 6,
    "start_time": "2023-04-28T13:25:03.679Z"
   },
   {
    "duration": 5,
    "start_time": "2023-04-28T13:25:18.324Z"
   },
   {
    "duration": 5,
    "start_time": "2023-04-28T13:25:30.039Z"
   },
   {
    "duration": 4,
    "start_time": "2023-04-28T13:25:34.135Z"
   },
   {
    "duration": 5,
    "start_time": "2023-04-28T13:25:43.132Z"
   },
   {
    "duration": 6,
    "start_time": "2023-04-28T13:26:01.580Z"
   },
   {
    "duration": 12,
    "start_time": "2023-04-28T13:26:15.118Z"
   },
   {
    "duration": 14,
    "start_time": "2023-04-28T13:26:34.864Z"
   },
   {
    "duration": 23,
    "start_time": "2023-04-28T13:26:41.331Z"
   },
   {
    "duration": 535,
    "start_time": "2023-04-28T13:38:12.657Z"
   },
   {
    "duration": 44,
    "start_time": "2023-04-28T13:38:13.197Z"
   },
   {
    "duration": 24,
    "start_time": "2023-04-28T13:38:13.244Z"
   },
   {
    "duration": 25,
    "start_time": "2023-04-28T13:38:13.273Z"
   },
   {
    "duration": 46,
    "start_time": "2023-04-28T13:38:13.301Z"
   },
   {
    "duration": 4,
    "start_time": "2023-04-28T13:38:13.349Z"
   },
   {
    "duration": 14,
    "start_time": "2023-04-28T13:38:13.355Z"
   },
   {
    "duration": 6,
    "start_time": "2023-04-28T13:38:13.394Z"
   },
   {
    "duration": 10,
    "start_time": "2023-04-28T13:38:13.402Z"
   },
   {
    "duration": 5,
    "start_time": "2023-04-28T13:38:13.417Z"
   },
   {
    "duration": 71,
    "start_time": "2023-04-28T13:38:13.424Z"
   },
   {
    "duration": 13,
    "start_time": "2023-04-28T13:38:13.497Z"
   },
   {
    "duration": 4,
    "start_time": "2023-04-28T13:38:13.512Z"
   },
   {
    "duration": 31,
    "start_time": "2023-04-28T13:38:13.518Z"
   },
   {
    "duration": 23,
    "start_time": "2023-04-28T13:38:13.551Z"
   },
   {
    "duration": 17,
    "start_time": "2023-04-28T13:38:13.593Z"
   },
   {
    "duration": 4,
    "start_time": "2023-04-28T13:38:13.612Z"
   },
   {
    "duration": 15,
    "start_time": "2023-04-28T13:38:13.617Z"
   },
   {
    "duration": 12,
    "start_time": "2023-04-28T13:38:13.634Z"
   },
   {
    "duration": 4,
    "start_time": "2023-04-28T13:38:13.648Z"
   },
   {
    "duration": 12,
    "start_time": "2023-04-28T13:38:13.653Z"
   },
   {
    "duration": 51,
    "start_time": "2023-04-28T13:38:13.667Z"
   },
   {
    "duration": 19,
    "start_time": "2023-04-28T13:38:13.720Z"
   },
   {
    "duration": 21,
    "start_time": "2023-04-28T13:38:13.741Z"
   },
   {
    "duration": 51,
    "start_time": "2023-04-28T13:38:13.764Z"
   },
   {
    "duration": 31,
    "start_time": "2023-04-28T13:41:45.385Z"
   },
   {
    "duration": 29,
    "start_time": "2023-04-28T13:42:38.072Z"
   },
   {
    "duration": 76,
    "start_time": "2023-04-28T13:42:57.283Z"
   },
   {
    "duration": 66,
    "start_time": "2023-04-28T13:43:42.617Z"
   },
   {
    "duration": 797,
    "start_time": "2023-04-28T13:43:49.703Z"
   },
   {
    "duration": 27,
    "start_time": "2023-04-28T13:44:07.233Z"
   },
   {
    "duration": 10,
    "start_time": "2023-04-28T13:45:24.338Z"
   },
   {
    "duration": 774,
    "start_time": "2023-04-28T13:45:28.768Z"
   },
   {
    "duration": 878,
    "start_time": "2023-04-28T13:45:41.683Z"
   },
   {
    "duration": 721,
    "start_time": "2023-04-28T13:45:55.590Z"
   },
   {
    "duration": 41,
    "start_time": "2023-04-28T13:46:21.821Z"
   },
   {
    "duration": 22,
    "start_time": "2023-04-28T13:46:33.269Z"
   },
   {
    "duration": 30,
    "start_time": "2023-04-28T13:47:15.205Z"
   },
   {
    "duration": 34,
    "start_time": "2023-04-28T13:47:55.329Z"
   },
   {
    "duration": 19,
    "start_time": "2023-04-28T13:48:17.272Z"
   },
   {
    "duration": 496,
    "start_time": "2023-04-28T13:54:31.560Z"
   },
   {
    "duration": 26,
    "start_time": "2023-04-28T13:54:32.058Z"
   },
   {
    "duration": 34,
    "start_time": "2023-04-28T13:54:32.088Z"
   },
   {
    "duration": 28,
    "start_time": "2023-04-28T13:54:32.125Z"
   },
   {
    "duration": 54,
    "start_time": "2023-04-28T13:54:32.154Z"
   },
   {
    "duration": 4,
    "start_time": "2023-04-28T13:54:32.209Z"
   },
   {
    "duration": 17,
    "start_time": "2023-04-28T13:54:32.214Z"
   },
   {
    "duration": 16,
    "start_time": "2023-04-28T13:54:32.233Z"
   },
   {
    "duration": 16,
    "start_time": "2023-04-28T13:54:32.252Z"
   },
   {
    "duration": 9,
    "start_time": "2023-04-28T13:54:32.269Z"
   },
   {
    "duration": 51,
    "start_time": "2023-04-28T13:54:32.280Z"
   },
   {
    "duration": 11,
    "start_time": "2023-04-28T13:54:32.333Z"
   },
   {
    "duration": 16,
    "start_time": "2023-04-28T13:54:32.345Z"
   },
   {
    "duration": 30,
    "start_time": "2023-04-28T13:54:32.363Z"
   },
   {
    "duration": 37,
    "start_time": "2023-04-28T13:54:32.395Z"
   },
   {
    "duration": 24,
    "start_time": "2023-04-28T13:54:32.433Z"
   },
   {
    "duration": 4,
    "start_time": "2023-04-28T13:54:32.459Z"
   },
   {
    "duration": 20,
    "start_time": "2023-04-28T13:54:32.464Z"
   },
   {
    "duration": 13,
    "start_time": "2023-04-28T13:54:32.486Z"
   },
   {
    "duration": 5,
    "start_time": "2023-04-28T13:54:32.501Z"
   },
   {
    "duration": 14,
    "start_time": "2023-04-28T13:54:32.508Z"
   },
   {
    "duration": 19,
    "start_time": "2023-04-28T13:54:32.524Z"
   },
   {
    "duration": 16,
    "start_time": "2023-04-28T13:54:32.545Z"
   },
   {
    "duration": 41,
    "start_time": "2023-04-28T13:54:32.562Z"
   },
   {
    "duration": 20,
    "start_time": "2023-04-28T13:54:32.605Z"
   },
   {
    "duration": 447,
    "start_time": "2023-04-28T16:28:35.356Z"
   },
   {
    "duration": 19,
    "start_time": "2023-04-28T16:28:35.805Z"
   },
   {
    "duration": 15,
    "start_time": "2023-04-28T16:28:35.826Z"
   },
   {
    "duration": 7,
    "start_time": "2023-04-28T16:28:35.843Z"
   },
   {
    "duration": 38,
    "start_time": "2023-04-28T16:28:35.852Z"
   },
   {
    "duration": 3,
    "start_time": "2023-04-28T16:28:35.891Z"
   },
   {
    "duration": 12,
    "start_time": "2023-04-28T16:28:35.896Z"
   },
   {
    "duration": 6,
    "start_time": "2023-04-28T16:28:35.910Z"
   },
   {
    "duration": 8,
    "start_time": "2023-04-28T16:28:35.917Z"
   },
   {
    "duration": 7,
    "start_time": "2023-04-28T16:28:35.928Z"
   },
   {
    "duration": 45,
    "start_time": "2023-04-28T16:28:35.936Z"
   },
   {
    "duration": 8,
    "start_time": "2023-04-28T16:28:35.983Z"
   },
   {
    "duration": 8,
    "start_time": "2023-04-28T16:28:35.992Z"
   },
   {
    "duration": 16,
    "start_time": "2023-04-28T16:28:36.001Z"
   },
   {
    "duration": 24,
    "start_time": "2023-04-28T16:28:36.019Z"
   },
   {
    "duration": 15,
    "start_time": "2023-04-28T16:28:36.044Z"
   },
   {
    "duration": 3,
    "start_time": "2023-04-28T16:28:36.061Z"
   },
   {
    "duration": 31,
    "start_time": "2023-04-28T16:28:36.065Z"
   },
   {
    "duration": 5,
    "start_time": "2023-04-28T16:28:36.097Z"
   },
   {
    "duration": 4,
    "start_time": "2023-04-28T16:28:36.103Z"
   },
   {
    "duration": 10,
    "start_time": "2023-04-28T16:28:36.108Z"
   },
   {
    "duration": 17,
    "start_time": "2023-04-28T16:28:36.119Z"
   },
   {
    "duration": 14,
    "start_time": "2023-04-28T16:28:36.137Z"
   },
   {
    "duration": 21,
    "start_time": "2023-04-28T16:28:36.152Z"
   },
   {
    "duration": 16,
    "start_time": "2023-04-28T16:28:36.174Z"
   },
   {
    "duration": 489,
    "start_time": "2023-04-28T16:37:31.258Z"
   },
   {
    "duration": 19,
    "start_time": "2023-04-28T16:37:31.749Z"
   },
   {
    "duration": 47,
    "start_time": "2023-04-28T16:37:31.769Z"
   },
   {
    "duration": 14,
    "start_time": "2023-04-28T16:37:31.817Z"
   },
   {
    "duration": 64,
    "start_time": "2023-04-28T16:37:31.832Z"
   },
   {
    "duration": 3,
    "start_time": "2023-04-28T16:37:31.897Z"
   },
   {
    "duration": 14,
    "start_time": "2023-04-28T16:37:31.901Z"
   },
   {
    "duration": 10,
    "start_time": "2023-04-28T16:37:31.916Z"
   },
   {
    "duration": 8,
    "start_time": "2023-04-28T16:37:31.927Z"
   },
   {
    "duration": 8,
    "start_time": "2023-04-28T16:37:31.937Z"
   },
   {
    "duration": 67,
    "start_time": "2023-04-28T16:37:31.946Z"
   },
   {
    "duration": 8,
    "start_time": "2023-04-28T16:37:32.014Z"
   },
   {
    "duration": 59,
    "start_time": "2023-04-28T16:37:32.023Z"
   },
   {
    "duration": 29,
    "start_time": "2023-04-28T16:37:32.083Z"
   },
   {
    "duration": 24,
    "start_time": "2023-04-28T16:37:32.114Z"
   },
   {
    "duration": 13,
    "start_time": "2023-04-28T16:37:32.140Z"
   },
   {
    "duration": 11,
    "start_time": "2023-04-28T16:37:32.154Z"
   },
   {
    "duration": 30,
    "start_time": "2023-04-28T16:37:32.166Z"
   },
   {
    "duration": 15,
    "start_time": "2023-04-28T16:37:32.197Z"
   },
   {
    "duration": 5,
    "start_time": "2023-04-28T16:37:32.213Z"
   },
   {
    "duration": 9,
    "start_time": "2023-04-28T16:37:32.219Z"
   },
   {
    "duration": 660,
    "start_time": "2023-04-28T16:37:32.229Z"
   },
   {
    "duration": 18,
    "start_time": "2023-04-28T16:37:32.891Z"
   },
   {
    "duration": 19,
    "start_time": "2023-04-28T16:37:32.911Z"
   },
   {
    "duration": 61,
    "start_time": "2023-04-28T16:37:32.932Z"
   },
   {
    "duration": 23,
    "start_time": "2023-04-28T16:37:32.996Z"
   },
   {
    "duration": 495,
    "start_time": "2023-04-29T09:04:44.292Z"
   },
   {
    "duration": 680,
    "start_time": "2023-04-29T09:04:54.734Z"
   },
   {
    "duration": 21,
    "start_time": "2023-04-29T09:04:55.416Z"
   },
   {
    "duration": 17,
    "start_time": "2023-04-29T09:04:55.438Z"
   },
   {
    "duration": 8,
    "start_time": "2023-04-29T09:04:55.458Z"
   },
   {
    "duration": 31,
    "start_time": "2023-04-29T09:04:55.468Z"
   },
   {
    "duration": 4,
    "start_time": "2023-04-29T09:04:55.500Z"
   },
   {
    "duration": 9,
    "start_time": "2023-04-29T09:04:55.505Z"
   },
   {
    "duration": 9,
    "start_time": "2023-04-29T09:04:55.516Z"
   },
   {
    "duration": 6,
    "start_time": "2023-04-29T09:04:55.527Z"
   },
   {
    "duration": 10,
    "start_time": "2023-04-29T09:04:55.536Z"
   },
   {
    "duration": 48,
    "start_time": "2023-04-29T09:04:55.547Z"
   },
   {
    "duration": 8,
    "start_time": "2023-04-29T09:04:55.597Z"
   },
   {
    "duration": 4,
    "start_time": "2023-04-29T09:04:55.606Z"
   },
   {
    "duration": 12,
    "start_time": "2023-04-29T09:04:55.611Z"
   },
   {
    "duration": 18,
    "start_time": "2023-04-29T09:04:55.624Z"
   },
   {
    "duration": 39,
    "start_time": "2023-04-29T09:04:55.643Z"
   },
   {
    "duration": 5,
    "start_time": "2023-04-29T09:04:55.684Z"
   },
   {
    "duration": 13,
    "start_time": "2023-04-29T09:04:55.690Z"
   },
   {
    "duration": 6,
    "start_time": "2023-04-29T09:04:55.704Z"
   },
   {
    "duration": 10,
    "start_time": "2023-04-29T09:04:55.712Z"
   },
   {
    "duration": 9,
    "start_time": "2023-04-29T09:04:55.724Z"
   },
   {
    "duration": 528,
    "start_time": "2023-04-29T09:04:55.734Z"
   },
   {
    "duration": 111,
    "start_time": "2023-04-29T09:04:56.263Z"
   },
   {
    "duration": 16,
    "start_time": "2023-04-29T09:04:56.376Z"
   },
   {
    "duration": 15,
    "start_time": "2023-04-29T09:04:56.393Z"
   },
   {
    "duration": 15,
    "start_time": "2023-04-29T09:04:56.409Z"
   },
   {
    "duration": 432,
    "start_time": "2023-04-29T09:06:11.142Z"
   },
   {
    "duration": 19,
    "start_time": "2023-04-29T09:07:00.458Z"
   },
   {
    "duration": 20,
    "start_time": "2023-04-29T09:07:09.159Z"
   },
   {
    "duration": 495,
    "start_time": "2023-04-29T09:07:18.950Z"
   },
   {
    "duration": 22,
    "start_time": "2023-04-29T09:07:19.447Z"
   },
   {
    "duration": 21,
    "start_time": "2023-04-29T09:07:19.471Z"
   },
   {
    "duration": 12,
    "start_time": "2023-04-29T09:07:19.494Z"
   },
   {
    "duration": 40,
    "start_time": "2023-04-29T09:07:19.508Z"
   },
   {
    "duration": 4,
    "start_time": "2023-04-29T09:07:19.549Z"
   },
   {
    "duration": 8,
    "start_time": "2023-04-29T09:07:19.572Z"
   },
   {
    "duration": 12,
    "start_time": "2023-04-29T09:07:19.581Z"
   },
   {
    "duration": 11,
    "start_time": "2023-04-29T09:07:19.595Z"
   },
   {
    "duration": 4,
    "start_time": "2023-04-29T09:07:19.608Z"
   },
   {
    "duration": 40,
    "start_time": "2023-04-29T09:07:19.614Z"
   },
   {
    "duration": 9,
    "start_time": "2023-04-29T09:07:19.672Z"
   },
   {
    "duration": 8,
    "start_time": "2023-04-29T09:07:19.683Z"
   },
   {
    "duration": 12,
    "start_time": "2023-04-29T09:07:19.692Z"
   },
   {
    "duration": 18,
    "start_time": "2023-04-29T09:07:19.706Z"
   },
   {
    "duration": 48,
    "start_time": "2023-04-29T09:07:19.726Z"
   },
   {
    "duration": 3,
    "start_time": "2023-04-29T09:07:19.776Z"
   },
   {
    "duration": 10,
    "start_time": "2023-04-29T09:07:19.781Z"
   },
   {
    "duration": 6,
    "start_time": "2023-04-29T09:07:19.792Z"
   },
   {
    "duration": 23,
    "start_time": "2023-04-29T09:07:19.799Z"
   },
   {
    "duration": 22,
    "start_time": "2023-04-29T09:07:19.823Z"
   },
   {
    "duration": 517,
    "start_time": "2023-04-29T09:07:19.847Z"
   },
   {
    "duration": 28,
    "start_time": "2023-04-29T09:07:20.366Z"
   },
   {
    "duration": 75,
    "start_time": "2023-04-29T09:07:20.397Z"
   },
   {
    "duration": 17,
    "start_time": "2023-04-29T09:07:20.473Z"
   },
   {
    "duration": 21,
    "start_time": "2023-04-29T09:07:20.492Z"
   },
   {
    "duration": 21,
    "start_time": "2023-04-29T09:07:55.947Z"
   },
   {
    "duration": 24,
    "start_time": "2023-04-29T09:09:16.741Z"
   },
   {
    "duration": 415,
    "start_time": "2023-04-29T09:09:39.810Z"
   },
   {
    "duration": 24,
    "start_time": "2023-04-29T09:10:02.065Z"
   },
   {
    "duration": 1126,
    "start_time": "2023-04-29T09:11:38.125Z"
   },
   {
    "duration": 24,
    "start_time": "2023-04-29T09:12:18.998Z"
   },
   {
    "duration": 19,
    "start_time": "2023-04-29T09:13:42.827Z"
   },
   {
    "duration": 20,
    "start_time": "2023-04-29T09:13:55.815Z"
   },
   {
    "duration": 22,
    "start_time": "2023-04-29T09:15:47.926Z"
   },
   {
    "duration": 49,
    "start_time": "2023-04-29T09:18:45.336Z"
   },
   {
    "duration": 33,
    "start_time": "2023-04-29T09:19:10.208Z"
   },
   {
    "duration": 1336,
    "start_time": "2023-04-29T09:26:35.567Z"
   },
   {
    "duration": 1196,
    "start_time": "2023-04-29T09:27:32.978Z"
   },
   {
    "duration": 664,
    "start_time": "2023-04-29T09:30:08.239Z"
   },
   {
    "duration": 18,
    "start_time": "2023-04-29T09:30:08.905Z"
   },
   {
    "duration": 13,
    "start_time": "2023-04-29T09:30:08.924Z"
   },
   {
    "duration": 7,
    "start_time": "2023-04-29T09:30:08.939Z"
   },
   {
    "duration": 34,
    "start_time": "2023-04-29T09:30:08.948Z"
   },
   {
    "duration": 3,
    "start_time": "2023-04-29T09:30:08.983Z"
   },
   {
    "duration": 10,
    "start_time": "2023-04-29T09:30:08.987Z"
   },
   {
    "duration": 4,
    "start_time": "2023-04-29T09:30:08.999Z"
   },
   {
    "duration": 8,
    "start_time": "2023-04-29T09:30:09.004Z"
   },
   {
    "duration": 4,
    "start_time": "2023-04-29T09:30:09.015Z"
   },
   {
    "duration": 27,
    "start_time": "2023-04-29T09:30:09.020Z"
   },
   {
    "duration": 26,
    "start_time": "2023-04-29T09:30:09.048Z"
   },
   {
    "duration": 4,
    "start_time": "2023-04-29T09:30:09.075Z"
   },
   {
    "duration": 36,
    "start_time": "2023-04-29T09:30:09.080Z"
   },
   {
    "duration": 19,
    "start_time": "2023-04-29T09:30:09.117Z"
   },
   {
    "duration": 14,
    "start_time": "2023-04-29T09:30:09.138Z"
   },
   {
    "duration": 3,
    "start_time": "2023-04-29T09:30:09.153Z"
   },
   {
    "duration": 17,
    "start_time": "2023-04-29T09:30:09.157Z"
   },
   {
    "duration": 13,
    "start_time": "2023-04-29T09:30:09.175Z"
   },
   {
    "duration": 4,
    "start_time": "2023-04-29T09:30:09.190Z"
   },
   {
    "duration": 10,
    "start_time": "2023-04-29T09:30:09.195Z"
   },
   {
    "duration": 452,
    "start_time": "2023-04-29T09:30:09.206Z"
   },
   {
    "duration": 955,
    "start_time": "2023-04-29T09:30:09.660Z"
   },
   {
    "duration": 15,
    "start_time": "2023-04-29T09:30:10.616Z"
   },
   {
    "duration": 21,
    "start_time": "2023-04-29T09:30:10.632Z"
   },
   {
    "duration": 26,
    "start_time": "2023-04-29T09:30:10.654Z"
   },
   {
    "duration": 138,
    "start_time": "2023-04-29T09:30:26.925Z"
   },
   {
    "duration": 130,
    "start_time": "2023-04-29T09:30:44.230Z"
   },
   {
    "duration": 69,
    "start_time": "2023-04-29T09:31:33.068Z"
   },
   {
    "duration": 142,
    "start_time": "2023-04-29T09:31:40.948Z"
   },
   {
    "duration": 123,
    "start_time": "2023-04-29T09:32:09.664Z"
   },
   {
    "duration": 72,
    "start_time": "2023-04-29T09:32:33.488Z"
   },
   {
    "duration": 130,
    "start_time": "2023-04-29T09:32:41.249Z"
   },
   {
    "duration": 39,
    "start_time": "2023-04-29T09:37:29.323Z"
   },
   {
    "duration": 467,
    "start_time": "2023-04-29T09:37:48.284Z"
   },
   {
    "duration": 21,
    "start_time": "2023-04-29T09:37:48.753Z"
   },
   {
    "duration": 23,
    "start_time": "2023-04-29T09:37:48.776Z"
   },
   {
    "duration": 10,
    "start_time": "2023-04-29T09:37:48.802Z"
   },
   {
    "duration": 66,
    "start_time": "2023-04-29T09:37:48.814Z"
   },
   {
    "duration": 3,
    "start_time": "2023-04-29T09:37:48.882Z"
   },
   {
    "duration": 11,
    "start_time": "2023-04-29T09:37:48.887Z"
   },
   {
    "duration": 4,
    "start_time": "2023-04-29T09:37:48.900Z"
   },
   {
    "duration": 18,
    "start_time": "2023-04-29T09:37:48.906Z"
   },
   {
    "duration": 4,
    "start_time": "2023-04-29T09:37:48.926Z"
   },
   {
    "duration": 48,
    "start_time": "2023-04-29T09:37:48.933Z"
   },
   {
    "duration": 9,
    "start_time": "2023-04-29T09:37:48.982Z"
   },
   {
    "duration": 5,
    "start_time": "2023-04-29T09:37:48.992Z"
   },
   {
    "duration": 11,
    "start_time": "2023-04-29T09:37:48.998Z"
   },
   {
    "duration": 25,
    "start_time": "2023-04-29T09:37:49.011Z"
   },
   {
    "duration": 15,
    "start_time": "2023-04-29T09:37:49.038Z"
   },
   {
    "duration": 20,
    "start_time": "2023-04-29T09:37:49.055Z"
   },
   {
    "duration": 27,
    "start_time": "2023-04-29T09:37:49.077Z"
   },
   {
    "duration": 7,
    "start_time": "2023-04-29T09:37:49.106Z"
   },
   {
    "duration": 4,
    "start_time": "2023-04-29T09:37:49.115Z"
   },
   {
    "duration": 10,
    "start_time": "2023-04-29T09:37:49.120Z"
   },
   {
    "duration": 473,
    "start_time": "2023-04-29T09:37:49.132Z"
   },
   {
    "duration": 208,
    "start_time": "2023-04-29T09:37:49.607Z"
   },
   {
    "duration": 0,
    "start_time": "2023-04-29T09:37:49.816Z"
   },
   {
    "duration": 0,
    "start_time": "2023-04-29T09:37:49.817Z"
   },
   {
    "duration": 0,
    "start_time": "2023-04-29T09:37:49.818Z"
   },
   {
    "duration": 83,
    "start_time": "2023-04-29T09:38:58.933Z"
   },
   {
    "duration": 35,
    "start_time": "2023-04-29T09:39:33.568Z"
   },
   {
    "duration": 314,
    "start_time": "2023-04-29T09:40:09.619Z"
   },
   {
    "duration": 38,
    "start_time": "2023-04-29T09:41:10.505Z"
   },
   {
    "duration": 57,
    "start_time": "2023-04-29T09:42:15.312Z"
   },
   {
    "duration": 65,
    "start_time": "2023-04-29T09:42:57.968Z"
   },
   {
    "duration": 60,
    "start_time": "2023-04-29T09:43:41.820Z"
   },
   {
    "duration": 59,
    "start_time": "2023-04-29T09:48:45.410Z"
   },
   {
    "duration": 80,
    "start_time": "2023-04-29T09:50:31.722Z"
   },
   {
    "duration": 412,
    "start_time": "2023-04-29T09:50:56.500Z"
   },
   {
    "duration": 18,
    "start_time": "2023-04-29T09:50:56.914Z"
   },
   {
    "duration": 20,
    "start_time": "2023-04-29T09:50:56.933Z"
   },
   {
    "duration": 8,
    "start_time": "2023-04-29T09:50:56.954Z"
   },
   {
    "duration": 37,
    "start_time": "2023-04-29T09:50:56.964Z"
   },
   {
    "duration": 2,
    "start_time": "2023-04-29T09:50:57.003Z"
   },
   {
    "duration": 8,
    "start_time": "2023-04-29T09:50:57.007Z"
   },
   {
    "duration": 3,
    "start_time": "2023-04-29T09:50:57.017Z"
   },
   {
    "duration": 13,
    "start_time": "2023-04-29T09:50:57.021Z"
   },
   {
    "duration": 5,
    "start_time": "2023-04-29T09:50:57.035Z"
   },
   {
    "duration": 44,
    "start_time": "2023-04-29T09:50:57.041Z"
   },
   {
    "duration": 8,
    "start_time": "2023-04-29T09:50:57.087Z"
   },
   {
    "duration": 14,
    "start_time": "2023-04-29T09:50:57.097Z"
   },
   {
    "duration": 13,
    "start_time": "2023-04-29T09:50:57.113Z"
   },
   {
    "duration": 29,
    "start_time": "2023-04-29T09:50:57.127Z"
   },
   {
    "duration": 15,
    "start_time": "2023-04-29T09:50:57.157Z"
   },
   {
    "duration": 18,
    "start_time": "2023-04-29T09:50:57.173Z"
   },
   {
    "duration": 24,
    "start_time": "2023-04-29T09:50:57.192Z"
   },
   {
    "duration": 12,
    "start_time": "2023-04-29T09:50:57.217Z"
   },
   {
    "duration": 3,
    "start_time": "2023-04-29T09:50:57.230Z"
   },
   {
    "duration": 11,
    "start_time": "2023-04-29T09:50:57.234Z"
   },
   {
    "duration": 428,
    "start_time": "2023-04-29T09:50:57.246Z"
   },
   {
    "duration": 68,
    "start_time": "2023-04-29T09:50:57.676Z"
   },
   {
    "duration": 0,
    "start_time": "2023-04-29T09:50:57.745Z"
   },
   {
    "duration": 0,
    "start_time": "2023-04-29T09:50:57.747Z"
   },
   {
    "duration": 0,
    "start_time": "2023-04-29T09:50:57.747Z"
   },
   {
    "duration": 187,
    "start_time": "2023-04-29T09:51:28.894Z"
   },
   {
    "duration": 73,
    "start_time": "2023-04-29T09:54:28.203Z"
   },
   {
    "duration": 51,
    "start_time": "2023-04-29T10:07:36.111Z"
   },
   {
    "duration": 62,
    "start_time": "2023-04-29T10:12:23.703Z"
   },
   {
    "duration": 59,
    "start_time": "2023-04-29T10:13:17.906Z"
   },
   {
    "duration": 75,
    "start_time": "2023-04-29T10:13:59.958Z"
   },
   {
    "duration": 473,
    "start_time": "2023-04-29T10:14:19.638Z"
   },
   {
    "duration": 356,
    "start_time": "2023-04-29T10:15:38.701Z"
   },
   {
    "duration": 59,
    "start_time": "2023-04-29T10:15:53.586Z"
   },
   {
    "duration": 57,
    "start_time": "2023-04-29T10:16:27.734Z"
   },
   {
    "duration": 418,
    "start_time": "2023-04-29T10:16:52.820Z"
   },
   {
    "duration": 20,
    "start_time": "2023-04-29T10:16:53.239Z"
   },
   {
    "duration": 13,
    "start_time": "2023-04-29T10:16:53.260Z"
   },
   {
    "duration": 8,
    "start_time": "2023-04-29T10:16:53.275Z"
   },
   {
    "duration": 38,
    "start_time": "2023-04-29T10:16:53.285Z"
   },
   {
    "duration": 3,
    "start_time": "2023-04-29T10:16:53.324Z"
   },
   {
    "duration": 13,
    "start_time": "2023-04-29T10:16:53.329Z"
   },
   {
    "duration": 7,
    "start_time": "2023-04-29T10:16:53.344Z"
   },
   {
    "duration": 24,
    "start_time": "2023-04-29T10:16:53.352Z"
   },
   {
    "duration": 3,
    "start_time": "2023-04-29T10:16:53.379Z"
   },
   {
    "duration": 26,
    "start_time": "2023-04-29T10:16:53.384Z"
   },
   {
    "duration": 7,
    "start_time": "2023-04-29T10:16:53.412Z"
   },
   {
    "duration": 5,
    "start_time": "2023-04-29T10:16:53.420Z"
   },
   {
    "duration": 12,
    "start_time": "2023-04-29T10:16:53.425Z"
   },
   {
    "duration": 40,
    "start_time": "2023-04-29T10:16:53.438Z"
   },
   {
    "duration": 15,
    "start_time": "2023-04-29T10:16:53.479Z"
   },
   {
    "duration": 3,
    "start_time": "2023-04-29T10:16:53.495Z"
   },
   {
    "duration": 14,
    "start_time": "2023-04-29T10:16:53.499Z"
   },
   {
    "duration": 7,
    "start_time": "2023-04-29T10:16:53.514Z"
   },
   {
    "duration": 3,
    "start_time": "2023-04-29T10:16:53.522Z"
   },
   {
    "duration": 9,
    "start_time": "2023-04-29T10:16:53.526Z"
   },
   {
    "duration": 490,
    "start_time": "2023-04-29T10:16:53.536Z"
   },
   {
    "duration": 80,
    "start_time": "2023-04-29T10:16:54.028Z"
   },
   {
    "duration": 64,
    "start_time": "2023-04-29T10:16:54.109Z"
   },
   {
    "duration": 15,
    "start_time": "2023-04-29T10:16:54.175Z"
   },
   {
    "duration": 16,
    "start_time": "2023-04-29T10:16:54.192Z"
   },
   {
    "duration": 61,
    "start_time": "2023-04-29T10:21:24.705Z"
   },
   {
    "duration": 61,
    "start_time": "2023-04-29T10:23:37.004Z"
   },
   {
    "duration": 61,
    "start_time": "2023-04-29T10:24:17.421Z"
   },
   {
    "duration": 78,
    "start_time": "2023-04-29T10:25:27.055Z"
   },
   {
    "duration": 3,
    "start_time": "2023-04-29T10:34:15.538Z"
   },
   {
    "duration": 156,
    "start_time": "2023-04-29T10:34:26.588Z"
   },
   {
    "duration": 7,
    "start_time": "2023-04-29T10:34:54.622Z"
   },
   {
    "duration": 9,
    "start_time": "2023-04-29T10:36:58.789Z"
   },
   {
    "duration": 48,
    "start_time": "2023-04-29T10:37:20.455Z"
   },
   {
    "duration": 8,
    "start_time": "2023-04-29T10:37:57.220Z"
   },
   {
    "duration": 434,
    "start_time": "2023-04-29T10:38:13.379Z"
   },
   {
    "duration": 19,
    "start_time": "2023-04-29T10:38:13.814Z"
   },
   {
    "duration": 13,
    "start_time": "2023-04-29T10:38:13.834Z"
   },
   {
    "duration": 8,
    "start_time": "2023-04-29T10:38:13.849Z"
   },
   {
    "duration": 28,
    "start_time": "2023-04-29T10:38:13.872Z"
   },
   {
    "duration": 3,
    "start_time": "2023-04-29T10:38:13.902Z"
   },
   {
    "duration": 14,
    "start_time": "2023-04-29T10:38:13.906Z"
   },
   {
    "duration": 4,
    "start_time": "2023-04-29T10:38:13.921Z"
   },
   {
    "duration": 16,
    "start_time": "2023-04-29T10:38:13.926Z"
   },
   {
    "duration": 4,
    "start_time": "2023-04-29T10:38:13.943Z"
   },
   {
    "duration": 41,
    "start_time": "2023-04-29T10:38:13.949Z"
   },
   {
    "duration": 7,
    "start_time": "2023-04-29T10:38:13.992Z"
   },
   {
    "duration": 6,
    "start_time": "2023-04-29T10:38:14.000Z"
   },
   {
    "duration": 10,
    "start_time": "2023-04-29T10:38:14.008Z"
   },
   {
    "duration": 21,
    "start_time": "2023-04-29T10:38:14.020Z"
   },
   {
    "duration": 38,
    "start_time": "2023-04-29T10:38:14.043Z"
   },
   {
    "duration": 4,
    "start_time": "2023-04-29T10:38:14.082Z"
   },
   {
    "duration": 10,
    "start_time": "2023-04-29T10:38:14.087Z"
   },
   {
    "duration": 4,
    "start_time": "2023-04-29T10:38:14.098Z"
   },
   {
    "duration": 4,
    "start_time": "2023-04-29T10:38:14.104Z"
   },
   {
    "duration": 10,
    "start_time": "2023-04-29T10:38:14.109Z"
   },
   {
    "duration": 462,
    "start_time": "2023-04-29T10:38:14.120Z"
   },
   {
    "duration": 127,
    "start_time": "2023-04-29T10:38:14.584Z"
   },
   {
    "duration": 185,
    "start_time": "2023-04-29T10:38:14.713Z"
   },
   {
    "duration": 58,
    "start_time": "2023-04-29T10:38:14.900Z"
   },
   {
    "duration": 74,
    "start_time": "2023-04-29T10:38:14.959Z"
   },
   {
    "duration": 125,
    "start_time": "2023-04-29T10:47:53.278Z"
   },
   {
    "duration": 195,
    "start_time": "2023-04-29T10:48:07.373Z"
   },
   {
    "duration": 125,
    "start_time": "2023-04-29T10:49:16.592Z"
   },
   {
    "duration": 747,
    "start_time": "2023-04-30T08:12:31.561Z"
   },
   {
    "duration": 26,
    "start_time": "2023-04-30T08:12:32.311Z"
   },
   {
    "duration": 36,
    "start_time": "2023-04-30T08:12:32.339Z"
   },
   {
    "duration": 42,
    "start_time": "2023-04-30T08:12:32.377Z"
   },
   {
    "duration": 45,
    "start_time": "2023-04-30T08:12:32.421Z"
   },
   {
    "duration": 4,
    "start_time": "2023-04-30T08:12:32.468Z"
   },
   {
    "duration": 31,
    "start_time": "2023-04-30T08:12:32.474Z"
   },
   {
    "duration": 31,
    "start_time": "2023-04-30T08:12:32.507Z"
   },
   {
    "duration": 24,
    "start_time": "2023-04-30T08:12:32.540Z"
   },
   {
    "duration": 7,
    "start_time": "2023-04-30T08:12:32.569Z"
   },
   {
    "duration": 87,
    "start_time": "2023-04-30T08:12:32.579Z"
   },
   {
    "duration": 11,
    "start_time": "2023-04-30T08:12:32.668Z"
   },
   {
    "duration": 21,
    "start_time": "2023-04-30T08:12:32.681Z"
   },
   {
    "duration": 28,
    "start_time": "2023-04-30T08:12:32.705Z"
   },
   {
    "duration": 48,
    "start_time": "2023-04-30T08:12:32.735Z"
   },
   {
    "duration": 21,
    "start_time": "2023-04-30T08:12:32.784Z"
   },
   {
    "duration": 4,
    "start_time": "2023-04-30T08:12:32.807Z"
   },
   {
    "duration": 15,
    "start_time": "2023-04-30T08:12:32.813Z"
   },
   {
    "duration": 20,
    "start_time": "2023-04-30T08:12:32.829Z"
   },
   {
    "duration": 5,
    "start_time": "2023-04-30T08:12:32.851Z"
   },
   {
    "duration": 26,
    "start_time": "2023-04-30T08:12:32.857Z"
   },
   {
    "duration": 615,
    "start_time": "2023-04-30T08:12:32.885Z"
   },
   {
    "duration": 159,
    "start_time": "2023-04-30T08:12:33.502Z"
   },
   {
    "duration": 195,
    "start_time": "2023-04-30T08:12:33.663Z"
   },
   {
    "duration": 98,
    "start_time": "2023-04-30T08:12:33.860Z"
   },
   {
    "duration": 99,
    "start_time": "2023-04-30T08:12:33.960Z"
   },
   {
    "duration": 520,
    "start_time": "2023-04-30T08:13:28.405Z"
   },
   {
    "duration": 28,
    "start_time": "2023-04-30T08:13:28.928Z"
   },
   {
    "duration": 36,
    "start_time": "2023-04-30T08:13:28.958Z"
   },
   {
    "duration": 25,
    "start_time": "2023-04-30T08:13:28.996Z"
   },
   {
    "duration": 79,
    "start_time": "2023-04-30T08:13:29.025Z"
   },
   {
    "duration": 5,
    "start_time": "2023-04-30T08:13:29.106Z"
   },
   {
    "duration": 15,
    "start_time": "2023-04-30T08:13:29.113Z"
   },
   {
    "duration": 6,
    "start_time": "2023-04-30T08:13:29.130Z"
   },
   {
    "duration": 22,
    "start_time": "2023-04-30T08:13:29.137Z"
   },
   {
    "duration": 31,
    "start_time": "2023-04-30T08:13:29.161Z"
   },
   {
    "duration": 68,
    "start_time": "2023-04-30T08:13:29.194Z"
   },
   {
    "duration": 12,
    "start_time": "2023-04-30T08:13:29.264Z"
   },
   {
    "duration": 9,
    "start_time": "2023-04-30T08:13:29.279Z"
   },
   {
    "duration": 14,
    "start_time": "2023-04-30T08:13:29.292Z"
   },
   {
    "duration": 42,
    "start_time": "2023-04-30T08:13:29.309Z"
   },
   {
    "duration": 23,
    "start_time": "2023-04-30T08:13:29.353Z"
   },
   {
    "duration": 4,
    "start_time": "2023-04-30T08:13:29.378Z"
   },
   {
    "duration": 25,
    "start_time": "2023-04-30T08:13:29.384Z"
   },
   {
    "duration": 42,
    "start_time": "2023-04-30T08:13:29.411Z"
   },
   {
    "duration": 38,
    "start_time": "2023-04-30T08:13:29.455Z"
   },
   {
    "duration": 28,
    "start_time": "2023-04-30T08:13:29.495Z"
   },
   {
    "duration": 606,
    "start_time": "2023-04-30T08:13:29.526Z"
   },
   {
    "duration": 145,
    "start_time": "2023-04-30T08:13:30.134Z"
   },
   {
    "duration": 223,
    "start_time": "2023-04-30T08:13:30.282Z"
   },
   {
    "duration": 97,
    "start_time": "2023-04-30T08:13:30.507Z"
   },
   {
    "duration": 105,
    "start_time": "2023-04-30T08:13:30.606Z"
   },
   {
    "duration": 499,
    "start_time": "2023-04-30T09:13:22.888Z"
   },
   {
    "duration": 25,
    "start_time": "2023-04-30T09:13:23.389Z"
   },
   {
    "duration": 23,
    "start_time": "2023-04-30T09:13:23.415Z"
   },
   {
    "duration": 13,
    "start_time": "2023-04-30T09:13:23.440Z"
   },
   {
    "duration": 38,
    "start_time": "2023-04-30T09:13:23.455Z"
   },
   {
    "duration": 3,
    "start_time": "2023-04-30T09:13:23.495Z"
   },
   {
    "duration": 34,
    "start_time": "2023-04-30T09:13:23.500Z"
   },
   {
    "duration": 30,
    "start_time": "2023-04-30T09:13:23.535Z"
   },
   {
    "duration": 8,
    "start_time": "2023-04-30T09:13:23.570Z"
   },
   {
    "duration": 7,
    "start_time": "2023-04-30T09:13:23.582Z"
   },
   {
    "duration": 51,
    "start_time": "2023-04-30T09:13:23.591Z"
   },
   {
    "duration": 9,
    "start_time": "2023-04-30T09:13:23.644Z"
   },
   {
    "duration": 14,
    "start_time": "2023-04-30T09:13:23.657Z"
   },
   {
    "duration": 14,
    "start_time": "2023-04-30T09:13:23.673Z"
   },
   {
    "duration": 20,
    "start_time": "2023-04-30T09:13:23.688Z"
   },
   {
    "duration": 22,
    "start_time": "2023-04-30T09:13:23.710Z"
   },
   {
    "duration": 3,
    "start_time": "2023-04-30T09:13:23.734Z"
   },
   {
    "duration": 34,
    "start_time": "2023-04-30T09:13:23.739Z"
   },
   {
    "duration": 6,
    "start_time": "2023-04-30T09:13:23.775Z"
   },
   {
    "duration": 3,
    "start_time": "2023-04-30T09:13:23.783Z"
   },
   {
    "duration": 28,
    "start_time": "2023-04-30T09:13:23.787Z"
   },
   {
    "duration": 770,
    "start_time": "2023-04-30T09:13:23.816Z"
   },
   {
    "duration": 100,
    "start_time": "2023-04-30T09:13:24.587Z"
   },
   {
    "duration": 188,
    "start_time": "2023-04-30T09:13:24.688Z"
   },
   {
    "duration": 91,
    "start_time": "2023-04-30T09:13:24.877Z"
   },
   {
    "duration": 67,
    "start_time": "2023-04-30T09:13:24.970Z"
   },
   {
    "duration": 838,
    "start_time": "2023-05-01T11:41:55.132Z"
   },
   {
    "duration": 19,
    "start_time": "2023-05-01T11:41:55.972Z"
   },
   {
    "duration": 17,
    "start_time": "2023-05-01T11:41:55.993Z"
   },
   {
    "duration": 8,
    "start_time": "2023-05-01T11:41:56.012Z"
   },
   {
    "duration": 42,
    "start_time": "2023-05-01T11:41:56.021Z"
   },
   {
    "duration": 3,
    "start_time": "2023-05-01T11:41:56.065Z"
   },
   {
    "duration": 14,
    "start_time": "2023-05-01T11:41:56.069Z"
   },
   {
    "duration": 7,
    "start_time": "2023-05-01T11:41:56.085Z"
   },
   {
    "duration": 8,
    "start_time": "2023-05-01T11:41:56.093Z"
   },
   {
    "duration": 6,
    "start_time": "2023-05-01T11:41:56.103Z"
   },
   {
    "duration": 54,
    "start_time": "2023-05-01T11:41:56.110Z"
   },
   {
    "duration": 9,
    "start_time": "2023-05-01T11:41:56.165Z"
   },
   {
    "duration": 4,
    "start_time": "2023-05-01T11:41:56.175Z"
   },
   {
    "duration": 13,
    "start_time": "2023-05-01T11:41:56.181Z"
   },
   {
    "duration": 16,
    "start_time": "2023-05-01T11:41:56.196Z"
   },
   {
    "duration": 45,
    "start_time": "2023-05-01T11:41:56.214Z"
   },
   {
    "duration": 4,
    "start_time": "2023-05-01T11:41:56.261Z"
   },
   {
    "duration": 13,
    "start_time": "2023-05-01T11:41:56.266Z"
   },
   {
    "duration": 5,
    "start_time": "2023-05-01T11:41:56.280Z"
   },
   {
    "duration": 3,
    "start_time": "2023-05-01T11:41:56.287Z"
   },
   {
    "duration": 12,
    "start_time": "2023-05-01T11:41:56.291Z"
   },
   {
    "duration": 439,
    "start_time": "2023-05-01T11:41:56.304Z"
   },
   {
    "duration": 190,
    "start_time": "2023-05-01T11:41:56.747Z"
   },
   {
    "duration": 167,
    "start_time": "2023-05-01T11:41:56.940Z"
   },
   {
    "duration": 88,
    "start_time": "2023-05-01T11:41:57.109Z"
   },
   {
    "duration": 70,
    "start_time": "2023-05-01T11:41:57.198Z"
   },
   {
    "duration": 577,
    "start_time": "2023-05-01T11:44:22.612Z"
   },
   {
    "duration": 23,
    "start_time": "2023-05-01T11:44:23.193Z"
   },
   {
    "duration": 31,
    "start_time": "2023-05-01T11:44:23.218Z"
   },
   {
    "duration": 10,
    "start_time": "2023-05-01T11:44:23.252Z"
   },
   {
    "duration": 32,
    "start_time": "2023-05-01T11:44:23.264Z"
   },
   {
    "duration": 4,
    "start_time": "2023-05-01T11:44:23.297Z"
   },
   {
    "duration": 9,
    "start_time": "2023-05-01T11:44:23.302Z"
   },
   {
    "duration": 33,
    "start_time": "2023-05-01T11:44:23.313Z"
   },
   {
    "duration": 7,
    "start_time": "2023-05-01T11:44:23.347Z"
   },
   {
    "duration": 4,
    "start_time": "2023-05-01T11:44:23.356Z"
   },
   {
    "duration": 38,
    "start_time": "2023-05-01T11:44:23.361Z"
   },
   {
    "duration": 8,
    "start_time": "2023-05-01T11:44:23.400Z"
   },
   {
    "duration": 10,
    "start_time": "2023-05-01T11:44:23.409Z"
   },
   {
    "duration": 25,
    "start_time": "2023-05-01T11:44:23.420Z"
   },
   {
    "duration": 21,
    "start_time": "2023-05-01T11:44:23.449Z"
   },
   {
    "duration": 17,
    "start_time": "2023-05-01T11:44:23.472Z"
   },
   {
    "duration": 4,
    "start_time": "2023-05-01T11:44:23.490Z"
   },
   {
    "duration": 16,
    "start_time": "2023-05-01T11:44:23.495Z"
   },
   {
    "duration": 21,
    "start_time": "2023-05-01T11:44:23.513Z"
   },
   {
    "duration": 13,
    "start_time": "2023-05-01T11:44:23.535Z"
   },
   {
    "duration": 13,
    "start_time": "2023-05-01T11:44:23.550Z"
   },
   {
    "duration": 421,
    "start_time": "2023-05-01T11:44:23.565Z"
   },
   {
    "duration": 148,
    "start_time": "2023-05-01T11:44:23.988Z"
   },
   {
    "duration": 146,
    "start_time": "2023-05-01T11:44:24.137Z"
   },
   {
    "duration": 75,
    "start_time": "2023-05-01T11:44:24.285Z"
   },
   {
    "duration": 83,
    "start_time": "2023-05-01T11:44:24.362Z"
   },
   {
    "duration": 1785,
    "start_time": "2023-05-01T11:46:21.448Z"
   },
   {
    "duration": 160,
    "start_time": "2023-05-01T11:46:39.749Z"
   },
   {
    "duration": 558,
    "start_time": "2023-05-01T11:48:54.002Z"
   },
   {
    "duration": 21,
    "start_time": "2023-05-01T11:48:54.562Z"
   },
   {
    "duration": 27,
    "start_time": "2023-05-01T11:48:54.584Z"
   },
   {
    "duration": 11,
    "start_time": "2023-05-01T11:48:54.613Z"
   },
   {
    "duration": 40,
    "start_time": "2023-05-01T11:48:54.626Z"
   },
   {
    "duration": 4,
    "start_time": "2023-05-01T11:48:54.667Z"
   },
   {
    "duration": 11,
    "start_time": "2023-05-01T11:48:54.672Z"
   },
   {
    "duration": 12,
    "start_time": "2023-05-01T11:48:54.685Z"
   },
   {
    "duration": 18,
    "start_time": "2023-05-01T11:48:54.698Z"
   },
   {
    "duration": 4,
    "start_time": "2023-05-01T11:48:54.718Z"
   },
   {
    "duration": 57,
    "start_time": "2023-05-01T11:48:54.723Z"
   },
   {
    "duration": 9,
    "start_time": "2023-05-01T11:48:54.781Z"
   },
   {
    "duration": 5,
    "start_time": "2023-05-01T11:48:54.792Z"
   },
   {
    "duration": 15,
    "start_time": "2023-05-01T11:48:54.799Z"
   },
   {
    "duration": 29,
    "start_time": "2023-05-01T11:48:54.816Z"
   },
   {
    "duration": 17,
    "start_time": "2023-05-01T11:48:54.847Z"
   },
   {
    "duration": 4,
    "start_time": "2023-05-01T11:48:54.865Z"
   },
   {
    "duration": 12,
    "start_time": "2023-05-01T11:48:54.871Z"
   },
   {
    "duration": 5,
    "start_time": "2023-05-01T11:48:54.884Z"
   },
   {
    "duration": 3,
    "start_time": "2023-05-01T11:48:54.890Z"
   },
   {
    "duration": 13,
    "start_time": "2023-05-01T11:48:54.894Z"
   },
   {
    "duration": 375,
    "start_time": "2023-05-01T11:48:54.909Z"
   },
   {
    "duration": 94,
    "start_time": "2023-05-01T11:48:55.286Z"
   },
   {
    "duration": 212,
    "start_time": "2023-05-01T11:48:55.381Z"
   },
   {
    "duration": 77,
    "start_time": "2023-05-01T11:48:55.594Z"
   },
   {
    "duration": 86,
    "start_time": "2023-05-01T11:48:55.673Z"
   },
   {
    "duration": 92,
    "start_time": "2023-05-01T11:49:46.250Z"
   },
   {
    "duration": 208,
    "start_time": "2023-05-01T11:49:56.991Z"
   },
   {
    "duration": 642,
    "start_time": "2023-05-01T11:50:33.635Z"
   },
   {
    "duration": 19,
    "start_time": "2023-05-01T11:50:34.279Z"
   },
   {
    "duration": 14,
    "start_time": "2023-05-01T11:50:34.299Z"
   },
   {
    "duration": 26,
    "start_time": "2023-05-01T11:50:34.314Z"
   },
   {
    "duration": 48,
    "start_time": "2023-05-01T11:50:34.343Z"
   },
   {
    "duration": 3,
    "start_time": "2023-05-01T11:50:34.392Z"
   },
   {
    "duration": 10,
    "start_time": "2023-05-01T11:50:34.396Z"
   },
   {
    "duration": 11,
    "start_time": "2023-05-01T11:50:34.407Z"
   },
   {
    "duration": 10,
    "start_time": "2023-05-01T11:50:34.419Z"
   },
   {
    "duration": 38,
    "start_time": "2023-05-01T11:50:34.431Z"
   },
   {
    "duration": 37,
    "start_time": "2023-05-01T11:50:34.470Z"
   },
   {
    "duration": 10,
    "start_time": "2023-05-01T11:50:34.508Z"
   },
   {
    "duration": 39,
    "start_time": "2023-05-01T11:50:34.519Z"
   },
   {
    "duration": 31,
    "start_time": "2023-05-01T11:50:34.560Z"
   },
   {
    "duration": 21,
    "start_time": "2023-05-01T11:50:34.593Z"
   },
   {
    "duration": 15,
    "start_time": "2023-05-01T11:50:34.615Z"
   },
   {
    "duration": 13,
    "start_time": "2023-05-01T11:50:34.631Z"
   },
   {
    "duration": 43,
    "start_time": "2023-05-01T11:50:34.648Z"
   },
   {
    "duration": 10,
    "start_time": "2023-05-01T11:50:34.692Z"
   },
   {
    "duration": 13,
    "start_time": "2023-05-01T11:50:34.704Z"
   },
   {
    "duration": 35,
    "start_time": "2023-05-01T11:50:34.718Z"
   },
   {
    "duration": 421,
    "start_time": "2023-05-01T11:50:34.755Z"
   },
   {
    "duration": 90,
    "start_time": "2023-05-01T11:50:35.178Z"
   },
   {
    "duration": 309,
    "start_time": "2023-05-01T11:50:35.270Z"
   },
   {
    "duration": 124,
    "start_time": "2023-05-01T11:50:35.581Z"
   },
   {
    "duration": 92,
    "start_time": "2023-05-01T11:50:35.707Z"
   },
   {
    "duration": 149,
    "start_time": "2023-05-01T11:52:08.948Z"
   },
   {
    "duration": 263,
    "start_time": "2023-05-01T11:53:56.923Z"
   },
   {
    "duration": 195,
    "start_time": "2023-05-01T11:54:13.803Z"
   },
   {
    "duration": 82,
    "start_time": "2023-05-01T12:06:09.032Z"
   },
   {
    "duration": 81,
    "start_time": "2023-05-01T12:06:19.881Z"
   },
   {
    "duration": 75,
    "start_time": "2023-05-01T12:06:34.905Z"
   },
   {
    "duration": 80,
    "start_time": "2023-05-01T12:06:54.446Z"
   },
   {
    "duration": 165,
    "start_time": "2023-05-01T12:08:14.983Z"
   },
   {
    "duration": 75,
    "start_time": "2023-05-01T12:08:41.318Z"
   },
   {
    "duration": 555,
    "start_time": "2023-05-01T12:09:10.898Z"
   },
   {
    "duration": 19,
    "start_time": "2023-05-01T12:09:11.455Z"
   },
   {
    "duration": 19,
    "start_time": "2023-05-01T12:09:11.476Z"
   },
   {
    "duration": 15,
    "start_time": "2023-05-01T12:09:11.497Z"
   },
   {
    "duration": 36,
    "start_time": "2023-05-01T12:09:11.514Z"
   },
   {
    "duration": 3,
    "start_time": "2023-05-01T12:09:11.551Z"
   },
   {
    "duration": 14,
    "start_time": "2023-05-01T12:09:11.555Z"
   },
   {
    "duration": 6,
    "start_time": "2023-05-01T12:09:11.570Z"
   },
   {
    "duration": 11,
    "start_time": "2023-05-01T12:09:11.577Z"
   },
   {
    "duration": 4,
    "start_time": "2023-05-01T12:09:11.589Z"
   },
   {
    "duration": 39,
    "start_time": "2023-05-01T12:09:11.594Z"
   },
   {
    "duration": 9,
    "start_time": "2023-05-01T12:09:11.634Z"
   },
   {
    "duration": 5,
    "start_time": "2023-05-01T12:09:11.645Z"
   },
   {
    "duration": 11,
    "start_time": "2023-05-01T12:09:11.652Z"
   },
   {
    "duration": 20,
    "start_time": "2023-05-01T12:09:11.664Z"
   },
   {
    "duration": 15,
    "start_time": "2023-05-01T12:09:11.685Z"
   },
   {
    "duration": 3,
    "start_time": "2023-05-01T12:09:11.701Z"
   },
   {
    "duration": 34,
    "start_time": "2023-05-01T12:09:11.705Z"
   },
   {
    "duration": 5,
    "start_time": "2023-05-01T12:09:11.741Z"
   },
   {
    "duration": 3,
    "start_time": "2023-05-01T12:09:11.748Z"
   },
   {
    "duration": 13,
    "start_time": "2023-05-01T12:09:11.753Z"
   },
   {
    "duration": 380,
    "start_time": "2023-05-01T12:09:11.767Z"
   },
   {
    "duration": 103,
    "start_time": "2023-05-01T12:09:12.149Z"
   },
   {
    "duration": 101,
    "start_time": "2023-05-01T12:09:12.253Z"
   },
   {
    "duration": 0,
    "start_time": "2023-05-01T12:09:12.355Z"
   },
   {
    "duration": 0,
    "start_time": "2023-05-01T12:09:12.356Z"
   },
   {
    "duration": 198,
    "start_time": "2023-05-01T12:11:28.313Z"
   },
   {
    "duration": 309,
    "start_time": "2023-05-01T12:12:05.550Z"
   },
   {
    "duration": 568,
    "start_time": "2023-05-01T12:14:46.872Z"
   },
   {
    "duration": 21,
    "start_time": "2023-05-01T12:14:47.442Z"
   },
   {
    "duration": 14,
    "start_time": "2023-05-01T12:14:47.465Z"
   },
   {
    "duration": 43,
    "start_time": "2023-05-01T12:14:47.480Z"
   },
   {
    "duration": 44,
    "start_time": "2023-05-01T12:14:47.526Z"
   },
   {
    "duration": 12,
    "start_time": "2023-05-01T12:14:47.571Z"
   },
   {
    "duration": 17,
    "start_time": "2023-05-01T12:14:47.584Z"
   },
   {
    "duration": 28,
    "start_time": "2023-05-01T12:14:47.602Z"
   },
   {
    "duration": 44,
    "start_time": "2023-05-01T12:14:47.632Z"
   },
   {
    "duration": 29,
    "start_time": "2023-05-01T12:14:47.677Z"
   },
   {
    "duration": 64,
    "start_time": "2023-05-01T12:14:47.708Z"
   },
   {
    "duration": 19,
    "start_time": "2023-05-01T12:14:47.774Z"
   },
   {
    "duration": 48,
    "start_time": "2023-05-01T12:14:47.795Z"
   },
   {
    "duration": 30,
    "start_time": "2023-05-01T12:14:47.846Z"
   },
   {
    "duration": 47,
    "start_time": "2023-05-01T12:14:47.878Z"
   },
   {
    "duration": 45,
    "start_time": "2023-05-01T12:14:47.926Z"
   },
   {
    "duration": 13,
    "start_time": "2023-05-01T12:14:47.973Z"
   },
   {
    "duration": 55,
    "start_time": "2023-05-01T12:14:47.987Z"
   },
   {
    "duration": 27,
    "start_time": "2023-05-01T12:14:48.044Z"
   },
   {
    "duration": 33,
    "start_time": "2023-05-01T12:14:48.073Z"
   },
   {
    "duration": 32,
    "start_time": "2023-05-01T12:14:48.108Z"
   },
   {
    "duration": 382,
    "start_time": "2023-05-01T12:14:48.142Z"
   },
   {
    "duration": 113,
    "start_time": "2023-05-01T12:14:48.526Z"
   },
   {
    "duration": 186,
    "start_time": "2023-05-01T12:14:48.640Z"
   },
   {
    "duration": 63,
    "start_time": "2023-05-01T12:14:48.833Z"
   },
   {
    "duration": 78,
    "start_time": "2023-05-01T12:14:48.898Z"
   },
   {
    "duration": 193,
    "start_time": "2023-05-01T12:19:59.905Z"
   },
   {
    "duration": 587,
    "start_time": "2023-05-01T12:20:06.251Z"
   },
   {
    "duration": 26,
    "start_time": "2023-05-01T12:20:06.840Z"
   },
   {
    "duration": 18,
    "start_time": "2023-05-01T12:20:06.868Z"
   },
   {
    "duration": 12,
    "start_time": "2023-05-01T12:20:06.889Z"
   },
   {
    "duration": 57,
    "start_time": "2023-05-01T12:20:06.902Z"
   },
   {
    "duration": 4,
    "start_time": "2023-05-01T12:20:06.961Z"
   },
   {
    "duration": 15,
    "start_time": "2023-05-01T12:20:06.967Z"
   },
   {
    "duration": 10,
    "start_time": "2023-05-01T12:20:06.984Z"
   },
   {
    "duration": 22,
    "start_time": "2023-05-01T12:20:06.996Z"
   },
   {
    "duration": 7,
    "start_time": "2023-05-01T12:20:07.022Z"
   },
   {
    "duration": 38,
    "start_time": "2023-05-01T12:20:07.031Z"
   },
   {
    "duration": 9,
    "start_time": "2023-05-01T12:20:07.071Z"
   },
   {
    "duration": 4,
    "start_time": "2023-05-01T12:20:07.081Z"
   },
   {
    "duration": 27,
    "start_time": "2023-05-01T12:20:07.086Z"
   },
   {
    "duration": 18,
    "start_time": "2023-05-01T12:20:07.115Z"
   },
   {
    "duration": 17,
    "start_time": "2023-05-01T12:20:07.134Z"
   },
   {
    "duration": 3,
    "start_time": "2023-05-01T12:20:07.153Z"
   },
   {
    "duration": 13,
    "start_time": "2023-05-01T12:20:07.158Z"
   },
   {
    "duration": 6,
    "start_time": "2023-05-01T12:20:07.174Z"
   },
   {
    "duration": 6,
    "start_time": "2023-05-01T12:20:07.181Z"
   },
   {
    "duration": 11,
    "start_time": "2023-05-01T12:20:07.188Z"
   },
   {
    "duration": 425,
    "start_time": "2023-05-01T12:20:07.201Z"
   },
   {
    "duration": 115,
    "start_time": "2023-05-01T12:20:07.627Z"
   },
   {
    "duration": 196,
    "start_time": "2023-05-01T12:20:07.743Z"
   },
   {
    "duration": 66,
    "start_time": "2023-05-01T12:20:07.940Z"
   },
   {
    "duration": 85,
    "start_time": "2023-05-01T12:20:08.008Z"
   },
   {
    "duration": 592,
    "start_time": "2023-05-01T12:58:51.261Z"
   },
   {
    "duration": 22,
    "start_time": "2023-05-01T12:58:51.855Z"
   },
   {
    "duration": 15,
    "start_time": "2023-05-01T12:58:51.878Z"
   },
   {
    "duration": 9,
    "start_time": "2023-05-01T12:58:51.895Z"
   },
   {
    "duration": 49,
    "start_time": "2023-05-01T12:58:51.905Z"
   },
   {
    "duration": 4,
    "start_time": "2023-05-01T12:58:51.957Z"
   },
   {
    "duration": 26,
    "start_time": "2023-05-01T12:58:51.963Z"
   },
   {
    "duration": 14,
    "start_time": "2023-05-01T12:58:51.991Z"
   },
   {
    "duration": 9,
    "start_time": "2023-05-01T12:58:52.007Z"
   },
   {
    "duration": 5,
    "start_time": "2023-05-01T12:58:52.018Z"
   },
   {
    "duration": 50,
    "start_time": "2023-05-01T12:58:52.024Z"
   },
   {
    "duration": 9,
    "start_time": "2023-05-01T12:58:52.075Z"
   },
   {
    "duration": 13,
    "start_time": "2023-05-01T12:58:52.085Z"
   },
   {
    "duration": 22,
    "start_time": "2023-05-01T12:58:52.099Z"
   },
   {
    "duration": 19,
    "start_time": "2023-05-01T12:58:52.123Z"
   },
   {
    "duration": 18,
    "start_time": "2023-05-01T12:58:52.143Z"
   },
   {
    "duration": 4,
    "start_time": "2023-05-01T12:58:52.164Z"
   },
   {
    "duration": 17,
    "start_time": "2023-05-01T12:58:52.169Z"
   },
   {
    "duration": 5,
    "start_time": "2023-05-01T12:58:52.188Z"
   },
   {
    "duration": 4,
    "start_time": "2023-05-01T12:58:52.194Z"
   },
   {
    "duration": 10,
    "start_time": "2023-05-01T12:58:52.199Z"
   },
   {
    "duration": 418,
    "start_time": "2023-05-01T12:58:52.210Z"
   },
   {
    "duration": 120,
    "start_time": "2023-05-01T12:58:52.630Z"
   },
   {
    "duration": 236,
    "start_time": "2023-05-01T12:58:52.751Z"
   },
   {
    "duration": 91,
    "start_time": "2023-05-01T12:58:52.989Z"
   },
   {
    "duration": 107,
    "start_time": "2023-05-01T12:58:53.082Z"
   },
   {
    "duration": 667,
    "start_time": "2023-05-01T12:59:52.107Z"
   },
   {
    "duration": 23,
    "start_time": "2023-05-01T12:59:52.776Z"
   },
   {
    "duration": 23,
    "start_time": "2023-05-01T12:59:52.801Z"
   },
   {
    "duration": 15,
    "start_time": "2023-05-01T12:59:52.834Z"
   },
   {
    "duration": 48,
    "start_time": "2023-05-01T12:59:52.851Z"
   },
   {
    "duration": 3,
    "start_time": "2023-05-01T12:59:52.901Z"
   },
   {
    "duration": 16,
    "start_time": "2023-05-01T12:59:52.906Z"
   },
   {
    "duration": 10,
    "start_time": "2023-05-01T12:59:52.923Z"
   },
   {
    "duration": 11,
    "start_time": "2023-05-01T12:59:52.935Z"
   },
   {
    "duration": 9,
    "start_time": "2023-05-01T12:59:52.949Z"
   },
   {
    "duration": 49,
    "start_time": "2023-05-01T12:59:52.959Z"
   },
   {
    "duration": 24,
    "start_time": "2023-05-01T12:59:53.009Z"
   },
   {
    "duration": 6,
    "start_time": "2023-05-01T12:59:53.036Z"
   },
   {
    "duration": 29,
    "start_time": "2023-05-01T12:59:53.045Z"
   },
   {
    "duration": 24,
    "start_time": "2023-05-01T12:59:53.075Z"
   },
   {
    "duration": 20,
    "start_time": "2023-05-01T12:59:53.101Z"
   },
   {
    "duration": 14,
    "start_time": "2023-05-01T12:59:53.122Z"
   },
   {
    "duration": 31,
    "start_time": "2023-05-01T12:59:53.138Z"
   },
   {
    "duration": 13,
    "start_time": "2023-05-01T12:59:53.171Z"
   },
   {
    "duration": 4,
    "start_time": "2023-05-01T12:59:53.186Z"
   },
   {
    "duration": 16,
    "start_time": "2023-05-01T12:59:53.192Z"
   },
   {
    "duration": 410,
    "start_time": "2023-05-01T12:59:53.209Z"
   },
   {
    "duration": 140,
    "start_time": "2023-05-01T12:59:53.620Z"
   },
   {
    "duration": 224,
    "start_time": "2023-05-01T12:59:53.762Z"
   },
   {
    "duration": 91,
    "start_time": "2023-05-01T12:59:53.988Z"
   },
   {
    "duration": 96,
    "start_time": "2023-05-01T12:59:54.081Z"
   },
   {
    "duration": 654,
    "start_time": "2023-05-01T13:44:00.848Z"
   },
   {
    "duration": 24,
    "start_time": "2023-05-01T13:44:01.504Z"
   },
   {
    "duration": 37,
    "start_time": "2023-05-01T13:44:01.530Z"
   },
   {
    "duration": 36,
    "start_time": "2023-05-01T13:44:01.570Z"
   },
   {
    "duration": 44,
    "start_time": "2023-05-01T13:44:01.608Z"
   },
   {
    "duration": 7,
    "start_time": "2023-05-01T13:44:01.655Z"
   },
   {
    "duration": 16,
    "start_time": "2023-05-01T13:44:01.664Z"
   },
   {
    "duration": 49,
    "start_time": "2023-05-01T13:44:01.681Z"
   },
   {
    "duration": 22,
    "start_time": "2023-05-01T13:44:01.732Z"
   },
   {
    "duration": 19,
    "start_time": "2023-05-01T13:44:01.757Z"
   },
   {
    "duration": 44,
    "start_time": "2023-05-01T13:44:01.778Z"
   },
   {
    "duration": 16,
    "start_time": "2023-05-01T13:44:01.825Z"
   },
   {
    "duration": 4,
    "start_time": "2023-05-01T13:44:01.844Z"
   },
   {
    "duration": 39,
    "start_time": "2023-05-01T13:44:01.850Z"
   },
   {
    "duration": 30,
    "start_time": "2023-05-01T13:44:01.892Z"
   },
   {
    "duration": 27,
    "start_time": "2023-05-01T13:44:01.924Z"
   },
   {
    "duration": 8,
    "start_time": "2023-05-01T13:44:01.952Z"
   },
   {
    "duration": 20,
    "start_time": "2023-05-01T13:44:01.962Z"
   },
   {
    "duration": 16,
    "start_time": "2023-05-01T13:44:01.984Z"
   },
   {
    "duration": 4,
    "start_time": "2023-05-01T13:44:02.003Z"
   },
   {
    "duration": 16,
    "start_time": "2023-05-01T13:44:02.008Z"
   },
   {
    "duration": 584,
    "start_time": "2023-05-01T13:44:02.025Z"
   },
   {
    "duration": 127,
    "start_time": "2023-05-01T13:44:02.611Z"
   },
   {
    "duration": 275,
    "start_time": "2023-05-01T13:44:02.739Z"
   },
   {
    "duration": 88,
    "start_time": "2023-05-01T13:44:03.016Z"
   },
   {
    "duration": 88,
    "start_time": "2023-05-01T13:44:03.105Z"
   },
   {
    "duration": 657,
    "start_time": "2023-05-01T13:58:28.200Z"
   },
   {
    "duration": 32,
    "start_time": "2023-05-01T13:58:28.860Z"
   },
   {
    "duration": 26,
    "start_time": "2023-05-01T13:58:28.894Z"
   },
   {
    "duration": 16,
    "start_time": "2023-05-01T13:58:28.923Z"
   },
   {
    "duration": 66,
    "start_time": "2023-05-01T13:58:28.941Z"
   },
   {
    "duration": 4,
    "start_time": "2023-05-01T13:58:29.010Z"
   },
   {
    "duration": 22,
    "start_time": "2023-05-01T13:58:29.016Z"
   },
   {
    "duration": 5,
    "start_time": "2023-05-01T13:58:29.040Z"
   },
   {
    "duration": 8,
    "start_time": "2023-05-01T13:58:29.047Z"
   },
   {
    "duration": 13,
    "start_time": "2023-05-01T13:58:29.058Z"
   },
   {
    "duration": 48,
    "start_time": "2023-05-01T13:58:29.091Z"
   },
   {
    "duration": 10,
    "start_time": "2023-05-01T13:58:29.141Z"
   },
   {
    "duration": 7,
    "start_time": "2023-05-01T13:58:29.154Z"
   },
   {
    "duration": 33,
    "start_time": "2023-05-01T13:58:29.162Z"
   },
   {
    "duration": 26,
    "start_time": "2023-05-01T13:58:29.199Z"
   },
   {
    "duration": 18,
    "start_time": "2023-05-01T13:58:29.226Z"
   },
   {
    "duration": 4,
    "start_time": "2023-05-01T13:58:29.247Z"
   },
   {
    "duration": 13,
    "start_time": "2023-05-01T13:58:29.253Z"
   },
   {
    "duration": 23,
    "start_time": "2023-05-01T13:58:29.268Z"
   },
   {
    "duration": 6,
    "start_time": "2023-05-01T13:58:29.293Z"
   },
   {
    "duration": 15,
    "start_time": "2023-05-01T13:58:29.301Z"
   },
   {
    "duration": 623,
    "start_time": "2023-05-01T13:58:29.318Z"
   },
   {
    "duration": 172,
    "start_time": "2023-05-01T13:58:29.942Z"
   },
   {
    "duration": 237,
    "start_time": "2023-05-01T13:58:30.116Z"
   },
   {
    "duration": 96,
    "start_time": "2023-05-01T13:58:30.355Z"
   },
   {
    "duration": 113,
    "start_time": "2023-05-01T13:58:30.453Z"
   },
   {
    "duration": 731,
    "start_time": "2023-05-01T16:42:50.507Z"
   },
   {
    "duration": 27,
    "start_time": "2023-05-01T16:42:51.241Z"
   },
   {
    "duration": 25,
    "start_time": "2023-05-01T16:42:51.270Z"
   },
   {
    "duration": 11,
    "start_time": "2023-05-01T16:42:51.297Z"
   },
   {
    "duration": 40,
    "start_time": "2023-05-01T16:42:51.310Z"
   },
   {
    "duration": 4,
    "start_time": "2023-05-01T16:42:51.352Z"
   },
   {
    "duration": 35,
    "start_time": "2023-05-01T16:42:51.358Z"
   },
   {
    "duration": 38,
    "start_time": "2023-05-01T16:42:51.395Z"
   },
   {
    "duration": 22,
    "start_time": "2023-05-01T16:42:51.436Z"
   },
   {
    "duration": 5,
    "start_time": "2023-05-01T16:42:51.461Z"
   },
   {
    "duration": 51,
    "start_time": "2023-05-01T16:42:51.468Z"
   },
   {
    "duration": 11,
    "start_time": "2023-05-01T16:42:51.520Z"
   },
   {
    "duration": 5,
    "start_time": "2023-05-01T16:42:51.533Z"
   },
   {
    "duration": 18,
    "start_time": "2023-05-01T16:42:51.542Z"
   },
   {
    "duration": 50,
    "start_time": "2023-05-01T16:42:51.562Z"
   },
   {
    "duration": 22,
    "start_time": "2023-05-01T16:42:51.615Z"
   },
   {
    "duration": 5,
    "start_time": "2023-05-01T16:42:51.639Z"
   },
   {
    "duration": 25,
    "start_time": "2023-05-01T16:42:51.647Z"
   },
   {
    "duration": 21,
    "start_time": "2023-05-01T16:42:51.674Z"
   },
   {
    "duration": 7,
    "start_time": "2023-05-01T16:42:51.697Z"
   },
   {
    "duration": 21,
    "start_time": "2023-05-01T16:42:51.706Z"
   },
   {
    "duration": 545,
    "start_time": "2023-05-01T16:42:51.729Z"
   },
   {
    "duration": 137,
    "start_time": "2023-05-01T16:42:52.276Z"
   },
   {
    "duration": 256,
    "start_time": "2023-05-01T16:42:52.415Z"
   },
   {
    "duration": 120,
    "start_time": "2023-05-01T16:42:52.674Z"
   },
   {
    "duration": 120,
    "start_time": "2023-05-01T16:42:52.797Z"
   }
  ],
  "colab": {
   "provenance": []
  },
  "kernelspec": {
   "display_name": "Python 3 (ipykernel)",
   "language": "python",
   "name": "python3"
  },
  "language_info": {
   "codemirror_mode": {
    "name": "ipython",
    "version": 3
   },
   "file_extension": ".py",
   "mimetype": "text/x-python",
   "name": "python",
   "nbconvert_exporter": "python",
   "pygments_lexer": "ipython3",
   "version": "3.10.9"
  },
  "toc": {
   "base_numbering": 1,
   "nav_menu": {},
   "number_sections": true,
   "sideBar": true,
   "skip_h1_title": true,
   "title_cell": "Table of Contents",
   "title_sidebar": "Contents",
   "toc_cell": false,
   "toc_position": {
    "height": "calc(100% - 180px)",
    "left": "10px",
    "top": "150px",
    "width": "165px"
   },
   "toc_section_display": true,
   "toc_window_display": true
  }
 },
 "nbformat": 4,
 "nbformat_minor": 5
}
